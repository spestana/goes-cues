{
 "cells": [
  {
   "cell_type": "markdown",
   "metadata": {},
   "source": [
    "# Merge CUES and GOES datasets\n",
    "\n",
    "Read in our CUES and GOES datasets, set up the time bounds we want to look at, and resample everything to 5 minute intervals.\n",
    "\n",
    "Then merge the GOES brightness temperature observations with the CUES dataset, and output the merged dataset for analysis elsewhere."
   ]
  },
  {
   "cell_type": "code",
   "execution_count": 1,
   "metadata": {},
   "outputs": [],
   "source": [
    "import pandas as pd\n",
    "import numpy as np\n",
    "import os\n",
    "import datetime as dt\n",
    "import xarray as xr\n",
    "\n",
    "import matplotlib.pyplot as plt\n",
    "%matplotlib inline"
   ]
  },
  {
   "cell_type": "code",
   "execution_count": 2,
   "metadata": {},
   "outputs": [],
   "source": [
    "def getListOfFiles(dirName):\n",
    "    # create a list of file and sub directories \n",
    "    # names in the given directory \n",
    "    # https://thispointer.com/python-how-to-get-list-of-files-in-directory-and-sub-directories/\n",
    "    listOfFile = os.listdir(dirName)\n",
    "    allFiles = list()\n",
    "    # Iterate over all the entries\n",
    "    for entry in listOfFile:\n",
    "        # Create full path\n",
    "        fullPath = os.path.join(dirName, entry)\n",
    "        # If entry is a directory then get the list of files in this directory \n",
    "        if os.path.isdir(fullPath):\n",
    "            allFiles = allFiles + getListOfFiles(fullPath)\n",
    "        else:\n",
    "            allFiles.append(fullPath)\n",
    "                \n",
    "    return allFiles "
   ]
  },
  {
   "cell_type": "markdown",
   "metadata": {},
   "source": [
    "---\n",
    "#### Open CUES data file:"
   ]
  },
  {
   "cell_type": "code",
   "execution_count": 3,
   "metadata": {},
   "outputs": [],
   "source": [
    "cues_ds = pd.read_pickle('CUES_L1_Temp_Rad_2017-2019_lw.pkl')\n",
    "cues_ds = cues_ds.to_xarray()"
   ]
  },
  {
   "cell_type": "markdown",
   "metadata": {},
   "source": [
    "#### Open GOES observations for the CUES site:"
   ]
  },
  {
   "cell_type": "code",
   "execution_count": 4,
   "metadata": {},
   "outputs": [
    {
     "name": "stderr",
     "output_type": "stream",
     "text": [
      "C:\\Users\\steve\\Anaconda3\\envs\\rasterenv\\lib\\site-packages\\ipykernel_launcher.py:16: FutureWarning: The pandas.datetime class is deprecated and will be removed from pandas in a future version. Import from datetime instead.\n",
      "  app.launch_new_instance()\n"
     ]
    }
   ],
   "source": [
    "# Find all our GOES files\n",
    "directory = r'\\\\j-lundquist-3.ce.washington.edu\\storage\\GOES\\pkl\\CUES'\n",
    "goes_files = getListOfFiles(directory)\n",
    "# Read in the files with pandas\n",
    "goes = []\n",
    "_ = [goes.append(pd.read_pickle(i)) for i in goes_files]\n",
    "goes = pd.concat(goes)\n",
    "# Change GOES time values from UTC to UTC-7 for CUES site:\n",
    "goes = goes.rename(columns={'time': 'timeUTC'})\n",
    "goes['datetime'] = goes['timeUTC'] - pd.Timedelta(hours=7)\n",
    "goes = goes.drop(columns=['timeUTC'])\n",
    "# Convert pandas dataframe to xarray dataset and and make our local time datetimes the index\n",
    "_goes = goes.set_index('datetime')\n",
    "_goes.sort_index(inplace=True)\n",
    "_goes = _goes.loc[~_goes.index.duplicated(keep='first')] # there are duplicates somewhere in the GOES data, remove them\n",
    "_goes = _goes.loc[_goes.index >= pd.datetime(2017,2,28)]# there's also some values before 2017, remove them\n",
    "goes_ds = _goes.to_xarray()"
   ]
  },
  {
   "cell_type": "markdown",
   "metadata": {},
   "source": [
    "---\n",
    "#### Set time bounds and resample\n",
    "\n",
    "Select only the overlapping time period we want, and resample all of these to 5 minute means, ignoring any nan values.\n",
    "\n",
    "(CUES provides ~1-minute observations, GOES is 5- or 10-minute)"
   ]
  },
  {
   "cell_type": "code",
   "execution_count": 5,
   "metadata": {},
   "outputs": [
    {
     "name": "stderr",
     "output_type": "stream",
     "text": [
      "C:\\Users\\steve\\Anaconda3\\envs\\rasterenv\\lib\\site-packages\\xarray\\core\\variable.py:1575: RuntimeWarning: Mean of empty slice\n",
      "  data = func(input_data, axis=axis, **kwargs)\n"
     ]
    }
   ],
   "source": [
    "startdate = '2017-03-01'\n",
    "enddate = '2019-12-31'\n",
    "\n",
    "cues_ds_5min = cues_ds.sel(datetime=slice(startdate, enddate)).resample(datetime='5min').reduce(np.nanmean)\n",
    "goes_ds_5min = goes_ds.sel(datetime=slice(startdate, enddate)).resample(datetime='5min').reduce(np.nanmean)"
   ]
  },
  {
   "cell_type": "markdown",
   "metadata": {},
   "source": [
    "#### Merge the datasets\n",
    "\n",
    "Merge GOES brightness temperature into the CUES dataset"
   ]
  },
  {
   "cell_type": "code",
   "execution_count": 6,
   "metadata": {},
   "outputs": [],
   "source": [
    "# Find nearest GOES Tb observation given a CUES datetime\n",
    "_goes_ds = goes_ds_5min.sel(datetime=cues_ds_5min.datetime)\n",
    "cues_ds_5min['goes_tb_c'] = (['datetime'],  _goes_ds.tb)"
   ]
  },
  {
   "cell_type": "markdown",
   "metadata": {},
   "source": [
    "#### Export this merged dataset"
   ]
  },
  {
   "cell_type": "code",
   "execution_count": 7,
   "metadata": {},
   "outputs": [],
   "source": [
    "cues_ds_5min.to_dataframe().to_pickle('goes-cues_2017-2019.pkl')"
   ]
  }
 ],
 "metadata": {
  "kernelspec": {
   "display_name": "Python 3",
   "language": "python",
   "name": "python3"
  },
  "language_info": {
   "codemirror_mode": {
    "name": "ipython",
    "version": 3
   },
   "file_extension": ".py",
   "mimetype": "text/x-python",
   "name": "python",
   "nbconvert_exporter": "python",
   "pygments_lexer": "ipython3",
   "version": "3.6.7"
  }
 },
 "nbformat": 4,
 "nbformat_minor": 4
}
