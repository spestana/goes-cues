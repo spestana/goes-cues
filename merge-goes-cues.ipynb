{
 "cells": [
  {
   "cell_type": "markdown",
   "metadata": {},
   "source": [
    "# Merge CUES and GOES datasets\n",
    "\n",
    "Read in our CUES and GOES datasets, set up the time bounds we want to look at, and resample everything to 5 minute intervals.\n",
    "\n",
    "Then merge the GOES brightness temperature observations with the CUES dataset, and output the merged dataset for analysis elsewhere."
   ]
  },
  {
   "cell_type": "code",
   "execution_count": 1,
   "metadata": {},
   "outputs": [],
   "source": [
    "import pandas as pd\n",
    "import numpy as np\n",
    "import os\n",
    "import datetime as dt\n",
    "import xarray as xr\n",
    "import glob\n",
    "\n",
    "import matplotlib.pyplot as plt\n",
    "%matplotlib inline"
   ]
  },
  {
   "cell_type": "code",
   "execution_count": 2,
   "metadata": {},
   "outputs": [],
   "source": [
    "def getListOfFiles(dirName):\n",
    "    # create a list of file and sub directories \n",
    "    # names in the given directory \n",
    "    # https://thispointer.com/python-how-to-get-list-of-files-in-directory-and-sub-directories/\n",
    "    listOfFile = os.listdir(dirName)\n",
    "    allFiles = list()\n",
    "    # Iterate over all the entries\n",
    "    for entry in listOfFile:\n",
    "        # Create full path\n",
    "        fullPath = os.path.join(dirName, entry)\n",
    "        # If entry is a directory then get the list of files in this directory \n",
    "        if os.path.isdir(fullPath):\n",
    "            allFiles = allFiles + getListOfFiles(fullPath)\n",
    "        else:\n",
    "            allFiles.append(fullPath)\n",
    "                \n",
    "    return allFiles "
   ]
  },
  {
   "cell_type": "markdown",
   "metadata": {},
   "source": [
    "---\n",
    "#### Open CUES data file:"
   ]
  },
  {
   "cell_type": "code",
   "execution_count": 3,
   "metadata": {},
   "outputs": [],
   "source": [
    "cues_ds = pd.read_pickle('data/CUES_L1_Temp_Rad_Snowdepth_2017-2020_lw.pkl')\n",
    "cues_ds = cues_ds.to_xarray()"
   ]
  },
  {
   "cell_type": "markdown",
   "metadata": {},
   "source": [
    "#### Open GOES L1b Radiance observations for the CUES site:\n",
    "Convert times to UTC-8"
   ]
  },
  {
   "cell_type": "code",
   "execution_count": 4,
   "metadata": {},
   "outputs": [],
   "source": [
    "# Find all our GOES files\n",
    "directory = '/storage/GOES/pkl/CUES'\n",
    "goes_files = getListOfFiles(directory)\n",
    "# Read in the files with pandas\n",
    "goes = []\n",
    "_ = [goes.append(pd.read_pickle(i)) for i in goes_files]\n",
    "goes = pd.concat(goes)\n",
    "# Change GOES time values from UTC to UTC-8 for CUES site:\n",
    "goes = goes.rename(columns={'time': 'timeUTC'})\n",
    "goes['datetime'] = goes['timeUTC'] - pd.Timedelta(hours=8)\n",
    "goes = goes.drop(columns=['timeUTC'])\n",
    "# Convert pandas dataframe to xarray dataset and and make our local time datetimes the index\n",
    "_goes = goes.set_index('datetime')\n",
    "_goes.sort_index(inplace=True)\n",
    "_goes = _goes.loc[~_goes.index.duplicated(keep='first')] # there are duplicates somewhere in the GOES data, remove them\n",
    "_goes = _goes.loc[_goes.index >= pd.datetime(2017,2,28)]# there's also some values before 2017, remove them\n",
    "goes_ds = _goes.to_xarray()"
   ]
  },
  {
   "cell_type": "markdown",
   "metadata": {},
   "source": [
    "Find non-orthorectified GOES L1b Radiance observations for comparison:"
   ]
  },
  {
   "cell_type": "code",
   "execution_count": 5,
   "metadata": {},
   "outputs": [],
   "source": [
    "# Find all our GOES files\n",
    "directory = '/storage/GOES/pkl/CUES_not_orthorectified'\n",
    "goes_files = getListOfFiles(directory)\n",
    "# Read in the files with pandas\n",
    "goes = []\n",
    "_ = [goes.append(pd.read_csv(i)) for i in goes_files]\n",
    "goes = pd.concat(goes)\n",
    "# Set data type for timstamp\n",
    "goes['time'] = pd.to_datetime(goes['time'])\n",
    "# Change GOES time values from UTC to UTC-8 for CUES site:\n",
    "goes = goes.rename(columns={'time': 'timeUTC', 'Rad': 'Rad_not_orthorectified', 'ref_or_tb': 'tb_not_orthorectified'})\n",
    "goes['datetime'] = goes['timeUTC'] - pd.Timedelta(hours=8)\n",
    "goes = goes.drop(columns=['timeUTC'])\n",
    "# Convert pandas dataframe to xarray dataset and and make our local time datetimes the index\n",
    "_goes = goes.set_index('datetime')\n",
    "_goes.sort_index(inplace=True)\n",
    "_goes = _goes.loc[~_goes.index.duplicated(keep='first')] # there are duplicates somewhere in the GOES data, remove them\n",
    "_goes = _goes.loc[_goes.index >= pd.datetime(2017,2,28)]# there's also some values before 2017, remove them\n",
    "goes_not_orthorectified_ds = _goes.to_xarray()"
   ]
  },
  {
   "cell_type": "markdown",
   "metadata": {},
   "source": [
    "#### Open GOES L2 ABI Cloud Mask observations for the CUES site:\n",
    "Convert times to UTC-8"
   ]
  },
  {
   "cell_type": "code",
   "execution_count": 6,
   "metadata": {},
   "outputs": [],
   "source": [
    "## Find all our GOES-16 ABI Cloud Mask timeseries files\n",
    "#directory = '/home/spestana/git/goes-ortho/GOES-16_ABI-L2_timeseries/ACMC/CUES/*.csv'\n",
    "#goes_files = glob.glob(directory)\n",
    "## open all csv files and concatinate together\n",
    "#goes_df = pd.concat([pd.read_csv(file) for file in goes_files], ignore_index=True)\n",
    "## set time column to a timestamp datatype\n",
    "#goes_df['time'] = [pd.Timestamp(t) for t in goes_df.time]\n",
    "## sort by the time column\n",
    "#goes_df.sort_values(by='time', inplace=True)\n",
    "### Change GOES time values from UTC to UTC-8 for CUES site:\n",
    "#goes_df = goes_df.rename(columns={'time': 'timeUTC'})\n",
    "#goes_df['datetime'] = goes_df['timeUTC'] - pd.Timedelta(hours=8)\n",
    "#goes_df = goes_df.drop(columns=['timeUTC'])\n",
    "### Convert pandas dataframe to xarray dataset and and make our local time datetimes the index\n",
    "#_goes_df = goes_df.set_index('datetime')\n",
    "#_goes_df.sort_index(inplace=True)\n",
    "## save out to a pickle file\n",
    "##_goes_df.to_pickle('data/GOES-16_ABI-L2-ACMC_CUES_2017-2020.pkl')\n",
    "### convert to xarray\n",
    "#goes_acm = _goes_df.to_xarray()"
   ]
  },
  {
   "cell_type": "markdown",
   "metadata": {},
   "source": [
    "---\n",
    "#### Set time bounds and resample\n",
    "\n",
    "Select only the overlapping time period we want, and resample all of these to 5 minute means, ignoring any nan values.\n",
    "\n",
    "(CUES provides ~1-minute observations, GOES is 5- or 10-minute)"
   ]
  },
  {
   "cell_type": "code",
   "execution_count": 7,
   "metadata": {},
   "outputs": [
    {
     "name": "stderr",
     "output_type": "stream",
     "text": [
      "/home/spestana/opt/anaconda3/envs/goes-linux/lib/python3.6/site-packages/xarray/core/variable.py:1462: RuntimeWarning: Mean of empty slice\n",
      "  data = func(input_data, axis=axis, **kwargs)\n"
     ]
    }
   ],
   "source": [
    "startdate = '2017-03-01'\n",
    "enddate = '2020-06-30'\n",
    "\n",
    "cues_ds_5min = cues_ds.sel(datetime=slice(startdate, enddate)).resample(datetime='5min').reduce(np.nanmean)\n",
    "goes_ds_5min = goes_ds.sel(datetime=slice(startdate, enddate)).resample(datetime='5min').reduce(np.nanmean)\n",
    "goes_not_orthorectified_ds_5min = goes_not_orthorectified_ds.sel(datetime=slice(startdate, enddate)).resample(datetime='5min').reduce(np.nanmean)\n",
    "#goes_acm_5min = goes_acm.sel(datetime=slice(startdate, enddate)).resample(datetime='5min').reduce(np.nanmean)"
   ]
  },
  {
   "cell_type": "markdown",
   "metadata": {},
   "source": [
    "#### Merge the datasets\n",
    "\n",
    "Merge GOES brightness temperature into the CUES dataset"
   ]
  },
  {
   "cell_type": "code",
   "execution_count": 8,
   "metadata": {},
   "outputs": [],
   "source": [
    "# Find nearest GOES Tb observation given a CUES datetime\n",
    "_goes_ds = goes_ds_5min.sel(datetime=cues_ds_5min.datetime)\n",
    "_goes_not_orthorectified_ds = goes_not_orthorectified_ds_5min.sel(datetime=cues_ds_5min.datetime)\n",
    "#_goes_acm = goes_acm_5min.sel(datetime=cues_ds_5min.datetime)\n",
    "\n",
    "# assign value to new column in cues dataset\n",
    "cues_ds_5min['goes_tb_c'] = (['datetime'],  _goes_ds.tb)\n",
    "#cues_ds_5min['goes_rad'] = (['datetime'],  _goes_ds.Rad)\n",
    "cues_ds_5min['goes_tb_not_orthorectified_c'] = (['datetime'],  _goes_not_orthorectified_ds.tb_not_orthorectified - 273.15)\n",
    "#cues_ds_5min['goes_rad_not_orthorectified'] = (['datetime'],  _goes_not_orthorectified_ds.Rad_not_orthorectified)\n",
    "#cues_ds_5min['goes_bcm'] = (['datetime'],  _goes_acm.BCM)\n",
    "#cues_ds_5min['goes_bcm_dqf'] = (['datetime'],  _goes_acm.DQF)"
   ]
  },
  {
   "cell_type": "markdown",
   "metadata": {},
   "source": [
    "**Additional data cleanup steps:**"
   ]
  },
  {
   "cell_type": "markdown",
   "metadata": {},
   "source": [
    "Compute daily median snow depth:\n",
    "\n",
    "* To remove \"spikes\" that show up in the original data, take the difference between each adjacent 5-minute timestep, then take the absolute value of this difference. **Ignore any snowdepth values where that difference (change in snow depth) is > 1 cm in 5 minutes.**\n",
    "\n",
    "* **Then resample to the daily median of the remaining depth values**. \n",
    "\n",
    "* There are still a few erroneous large daily snowdepth values, so finally **filter out depths > 570 cm** since those are larger than any other values in the timeseries. \n",
    "\n",
    "* Replace all NaN values with linearly interpolated values. \n",
    "\n",
    "* Finally add our cleaned up daily median snow depths to the original dataset."
   ]
  },
  {
   "cell_type": "code",
   "execution_count": 9,
   "metadata": {},
   "outputs": [
    {
     "name": "stderr",
     "output_type": "stream",
     "text": [
      "/home/spestana/opt/anaconda3/envs/goes-linux/lib/python3.6/site-packages/numpy/lib/nanfunctions.py:1115: RuntimeWarning: All-NaN slice encountered\n",
      "  overwrite_input=overwrite_input)\n",
      "/home/spestana/opt/anaconda3/envs/goes-linux/lib/python3.6/site-packages/ipykernel_launcher.py:10: FutureWarning: \n",
      "Passing list-likes to .loc or [] with any missing label will raise\n",
      "KeyError in the future, you can use .reindex() as an alternative.\n",
      "\n",
      "See the documentation here:\n",
      "https://pandas.pydata.org/pandas-docs/stable/user_guide/indexing.html#deprecate-loc-reindex-listlike\n",
      "  # Remove the CWD from sys.path while we load stuff.\n"
     ]
    }
   ],
   "source": [
    "# compute the difference between each timestep, take the absolute value of this difference\n",
    "deltas = np.abs(cues_ds_5min['snow depth  remote boom;  ultrasonic depth pinger on remote boom; (cm)'].diff('datetime',1))\n",
    "# ignore any snowdepth values where the change is > 1 cm in 5 minutes\n",
    "depths_adj = cues_ds_5min['snow depth  remote boom;  ultrasonic depth pinger on remote boom; (cm)'].where(deltas<1)\n",
    "# resample to daily and compute median\n",
    "daily_median_snow_depth = depths_adj.resample(datetime=\"1D\").median()\n",
    "# rename this DataArray\n",
    "daily_median_snow_depth = daily_median_snow_depth.rename('daily_median_snow_depth')\n",
    "# fill nan values by day (I have to go back to a pandas Dataframe here)\n",
    "daily_median_snow_depth = daily_median_snow_depth.to_dataframe().loc[cues_ds_5min.to_dataframe().index].fillna(method='bfill')\n",
    "# remove depths that are larger than the maximum in the whole 2017-2020 data record I've identified (570 cm)\n",
    "max_daily_median_snowdepth = 570\n",
    "daily_median_snow_depth = daily_median_snow_depth.where(daily_median_snow_depth<max_daily_median_snowdepth)\n",
    "# convert back into an xarray (Dataset)\n",
    "daily_median_snow_depth = daily_median_snow_depth.to_xarray()\n",
    "# interpolate to fill missing values\n",
    "daily_median_snow_depth = daily_median_snow_depth.interpolate_na('datetime', method='linear')\n",
    "# finally pull out the values we want, put back into the original dataset as a new variable\n",
    "cues_ds_5min['daily_median_snow_depth'] = (['datetime'], daily_median_snow_depth.daily_median_snow_depth)"
   ]
  },
  {
   "cell_type": "markdown",
   "metadata": {},
   "source": [
    "Plot the old snow depth and new daily median snow depth:"
   ]
  },
  {
   "cell_type": "code",
   "execution_count": 10,
   "metadata": {},
   "outputs": [
    {
     "name": "stderr",
     "output_type": "stream",
     "text": [
      "/home/spestana/opt/anaconda3/envs/goes-linux/lib/python3.6/site-packages/pandas/plotting/_matplotlib/converter.py:103: FutureWarning: Using an implicitly registered datetime converter for a matplotlib plotting method. The converter was registered by pandas on import. Future versions of pandas will require you to explicitly register matplotlib converters.\n",
      "\n",
      "To register the converters:\n",
      "\t>>> from pandas.plotting import register_matplotlib_converters\n",
      "\t>>> register_matplotlib_converters()\n",
      "  warnings.warn(msg, FutureWarning)\n"
     ]
    },
    {
     "data": {
      "image/png": "[encoded data removed]",
      "text/plain": [
       "<Figure size 720x216 with 1 Axes>"
      ]
     },
     "metadata": {
      "needs_background": "light"
     },
     "output_type": "display_data"
    }
   ],
   "source": [
    "plt.figure(figsize=(10,3))\n",
    "cues_ds_5min['snow depth  remote boom;  ultrasonic depth pinger on remote boom; (cm)'].plot(linewidth=5, color='lightgrey', label='Original Snow Depth Obs.')\n",
    "cues_ds_5min.daily_median_snow_depth.plot(color='b',label='Daily Snow Depth')\n",
    "plt.title('CUES Snow Depth Data Cleanup')\n",
    "plt.legend();"
   ]
  },
  {
   "cell_type": "markdown",
   "metadata": {},
   "source": [
    "**Fix the binary \"cloud_flag\" field:**\n",
    "* When I took the 5-minute mean values, this binary field gained some decimal values for 5-minute periods where cloud cover was variable (some mean value between 0 and 1), set all of these non-zero fields back to 1."
   ]
  },
  {
   "cell_type": "code",
   "execution_count": 11,
   "metadata": {},
   "outputs": [],
   "source": [
    "cues_ds_5min['cloud_flag'][cues_ds_5min.cloud_flag != 0] = 1"
   ]
  },
  {
   "cell_type": "markdown",
   "metadata": {},
   "source": [
    "**Fix the binary CUES sun flag field.**\n",
    "* Like the \"cloud_flag\", when I took the 5-minute means, time periods with 0s and 1s ended up with values between 0 and 1\n",
    "* Set all values <1 (partial sun) back to 0 (assume no sun in these 5 minutes)"
   ]
  },
  {
   "cell_type": "code",
   "execution_count": 12,
   "metadata": {},
   "outputs": [],
   "source": [
    "# make a copy\n",
    "cues_ds_5min['sun_flag'] = cues_ds_5min['SUN flag; uplooking Sunshine pyranometer  direct and diffuse; (bit)']\n",
    "# set values back to binary on this copy\n",
    "cues_ds_5min.sun_flag[cues_ds_5min['SUN flag; uplooking Sunshine pyranometer  direct and diffuse; (bit)'] != 1] = 0"
   ]
  },
  {
   "cell_type": "markdown",
   "metadata": {},
   "source": [
    "**Compute difference between GOES Tb and CUES Tss**\n",
    "\n",
    "(GOES Tb - CUES Tss) and add it to the dataset"
   ]
  },
  {
   "cell_type": "code",
   "execution_count": 13,
   "metadata": {},
   "outputs": [],
   "source": [
    "# Orthorectified GOES\n",
    "cues_ds_5min['goes_cues_diff'] = cues_ds_5min.goes_tb_c - cues_ds_5min['snow surface temperature; Apogee SI-111 thermal radiometer; (Celsius)']\n",
    "\n",
    "# Not orthorecitfied, original GOES\n",
    "cues_ds_5min['goes_cues_diff_not_orthorectified'] = cues_ds_5min.goes_tb_not_orthorectified_c - cues_ds_5min['snow surface temperature; Apogee SI-111 thermal radiometer; (Celsius)']"
   ]
  },
  {
   "cell_type": "markdown",
   "metadata": {},
   "source": [
    "**Open the 5-minute GOES-16 ABI Cloud Mask product:**"
   ]
  },
  {
   "cell_type": "code",
   "execution_count": 14,
   "metadata": {},
   "outputs": [],
   "source": [
    "goes_cloudmask = pd.read_pickle('data/GOES-16_ABI-L2-ACMC_CUES_2017-2020.pkl')\n",
    "goes_cloudmask = goes_cloudmask.to_xarray()"
   ]
  },
  {
   "cell_type": "code",
   "execution_count": 19,
   "metadata": {},
   "outputs": [
    {
     "data": {
      "text/plain": [
       "numpy.datetime64('2017-04-18T16:02:22.100000000')"
      ]
     },
     "execution_count": 19,
     "metadata": {},
     "output_type": "execute_result"
    }
   ],
   "source": [
    "goes_cloudmask.datetime.values[0]"
   ]
  },
  {
   "cell_type": "markdown",
   "metadata": {},
   "source": [
    "Round the ABI Cloud Mask timestamps to the nearest minute to match these up with the merged GOES and CUES (5-minute interval) data. Add the cloud mask to the cues_ds (**NOTE**: I have only a shorter time period covered by the cloud mask than the rest of the GOES and CUES data)"
   ]
  },
  {
   "cell_type": "code",
   "execution_count": 15,
   "metadata": {},
   "outputs": [],
   "source": [
    "goes_cloudmask['datetime'] = goes_cloudmask.datetime.dt.floor('5min')\n",
    "cues_ds_5min['ABI_Cloud_Mask'] = goes_cloudmask.BCM"
   ]
  },
  {
   "cell_type": "markdown",
   "metadata": {},
   "source": [
    "Rename the \"datetime\" index column to just \"time\" and add an hour of day and month and week field"
   ]
  },
  {
   "cell_type": "code",
   "execution_count": 16,
   "metadata": {},
   "outputs": [],
   "source": [
    "cues_ds_5min = cues_ds_5min.rename({'datetime': 'time'})\n",
    "\n",
    "# create hour of day field\n",
    "cues_ds_5min['hour_of_day'] = cues_ds_5min.time.dt.hour\n",
    "\n",
    "# create month field\n",
    "cues_ds_5min['month'] = cues_ds_5min.time.dt.month\n",
    "\n",
    "# create week field\n",
    "cues_ds_5min['week'] = cues_ds_5min.time.dt.week"
   ]
  },
  {
   "cell_type": "markdown",
   "metadata": {},
   "source": [
    "#### Export this merged dataset"
   ]
  },
  {
   "cell_type": "code",
   "execution_count": 17,
   "metadata": {},
   "outputs": [],
   "source": [
    "cues_ds_5min.to_dataframe().to_pickle('data/goes-cues_2017-2020.pkl')"
   ]
  },
  {
   "cell_type": "code",
   "execution_count": null,
   "metadata": {},
   "outputs": [],
   "source": []
  }
 ],
 "metadata": {
  "kernelspec": {
   "display_name": "goes-linux",
   "language": "python",
   "name": "goes-linux"
  },
  "language_info": {
   "codemirror_mode": {
    "name": "ipython",
    "version": 3
   },
   "file_extension": ".py",
   "mimetype": "text/x-python",
   "name": "python",
   "nbconvert_exporter": "python",
   "pygments_lexer": "ipython3",
   "version": "3.6.9"
  }
 },
 "nbformat": 4,
 "nbformat_minor": 4
}
