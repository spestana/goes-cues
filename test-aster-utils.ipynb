{
 "cells": [
  {
   "cell_type": "markdown",
   "metadata": {},
   "source": [
    "# Test the aster_utils functions"
   ]
  },
  {
   "cell_type": "markdown",
   "metadata": {},
   "source": [
    "Import **aster_utils.py**, numpy and matplotlib."
   ]
  },
  {
   "cell_type": "code",
   "execution_count": 1,
   "metadata": {},
   "outputs": [],
   "source": [
    "import aster_utils\n",
    "\n",
    "import numpy as np\n",
    "import matplotlib.pyplot as plt"
   ]
  },
  {
   "cell_type": "markdown",
   "metadata": {},
   "source": [
    "Specify the directory that contains our ASTER L1T images:"
   ]
  },
  {
   "cell_type": "code",
   "execution_count": 2,
   "metadata": {},
   "outputs": [],
   "source": [
    "directory='/storage/spestana/ASTER/AST_L1T/'"
   ]
  },
  {
   "cell_type": "markdown",
   "metadata": {},
   "source": [
    "---\n",
    "#### Test `aster_utils.aster_timestamps()`"
   ]
  },
  {
   "cell_type": "markdown",
   "metadata": {},
   "source": [
    "We can find our HDF files here, and get their timestamps and filepaths:"
   ]
  },
  {
   "cell_type": "code",
   "execution_count": 3,
   "metadata": {},
   "outputs": [
    {
     "data": {
      "text/html": [
       "<div>\n",
       "<style scoped>\n",
       "    .dataframe tbody tr th:only-of-type {\n",
       "        vertical-align: middle;\n",
       "    }\n",
       "\n",
       "    .dataframe tbody tr th {\n",
       "        vertical-align: top;\n",
       "    }\n",
       "\n",
       "    .dataframe thead th {\n",
       "        text-align: right;\n",
       "    }\n",
       "</style>\n",
       "<table border=\"1\" class=\"dataframe\">\n",
       "  <thead>\n",
       "    <tr style=\"text-align: right;\">\n",
       "      <th></th>\n",
       "      <th>timestampUTC</th>\n",
       "      <th>filepath</th>\n",
       "    </tr>\n",
       "  </thead>\n",
       "  <tbody>\n",
       "    <tr>\n",
       "      <th>0</th>\n",
       "      <td>2017-01-14 06:07:03+00:00</td>\n",
       "      <td>/storage/spestana/ASTER/AST_L1T/hdf/AST_L1T_00...</td>\n",
       "    </tr>\n",
       "    <tr>\n",
       "      <th>1</th>\n",
       "      <td>2017-01-14 06:07:12+00:00</td>\n",
       "      <td>/storage/spestana/ASTER/AST_L1T/hdf/AST_L1T_00...</td>\n",
       "    </tr>\n",
       "    <tr>\n",
       "      <th>2</th>\n",
       "      <td>2017-01-23 06:00:58+00:00</td>\n",
       "      <td>/storage/spestana/ASTER/AST_L1T/hdf/AST_L1T_00...</td>\n",
       "    </tr>\n",
       "    <tr>\n",
       "      <th>3</th>\n",
       "      <td>2017-01-23 06:01:07+00:00</td>\n",
       "      <td>/storage/spestana/ASTER/AST_L1T/hdf/AST_L1T_00...</td>\n",
       "    </tr>\n",
       "    <tr>\n",
       "      <th>4</th>\n",
       "      <td>2017-02-15 06:06:58+00:00</td>\n",
       "      <td>/storage/spestana/ASTER/AST_L1T/hdf/AST_L1T_00...</td>\n",
       "    </tr>\n",
       "  </tbody>\n",
       "</table>\n",
       "</div>"
      ],
      "text/plain": [
       "               timestampUTC                                           filepath\n",
       "0 2017-01-14 06:07:03+00:00  /storage/spestana/ASTER/AST_L1T/hdf/AST_L1T_00...\n",
       "1 2017-01-14 06:07:12+00:00  /storage/spestana/ASTER/AST_L1T/hdf/AST_L1T_00...\n",
       "2 2017-01-23 06:00:58+00:00  /storage/spestana/ASTER/AST_L1T/hdf/AST_L1T_00...\n",
       "3 2017-01-23 06:01:07+00:00  /storage/spestana/ASTER/AST_L1T/hdf/AST_L1T_00...\n",
       "4 2017-02-15 06:06:58+00:00  /storage/spestana/ASTER/AST_L1T/hdf/AST_L1T_00..."
      ]
     },
     "execution_count": 3,
     "metadata": {},
     "output_type": "execute_result"
    }
   ],
   "source": [
    "df = aster_utils.aster_timestamps(directory,'hdf')\n",
    "df.head()"
   ]
  },
  {
   "cell_type": "markdown",
   "metadata": {},
   "source": [
    "And we can find the GeoTIFF files here too:"
   ]
  },
  {
   "cell_type": "code",
   "execution_count": 4,
   "metadata": {},
   "outputs": [
    {
     "data": {
      "text/html": [
       "<div>\n",
       "<style scoped>\n",
       "    .dataframe tbody tr th:only-of-type {\n",
       "        vertical-align: middle;\n",
       "    }\n",
       "\n",
       "    .dataframe tbody tr th {\n",
       "        vertical-align: top;\n",
       "    }\n",
       "\n",
       "    .dataframe thead th {\n",
       "        text-align: right;\n",
       "    }\n",
       "</style>\n",
       "<table border=\"1\" class=\"dataframe\">\n",
       "  <thead>\n",
       "    <tr style=\"text-align: right;\">\n",
       "      <th></th>\n",
       "      <th>timestampUTC</th>\n",
       "      <th>filepath</th>\n",
       "    </tr>\n",
       "  </thead>\n",
       "  <tbody>\n",
       "    <tr>\n",
       "      <th>0</th>\n",
       "      <td>2017-01-14 06:07:03+00:00</td>\n",
       "      <td>/storage/spestana/ASTER/AST_L1T/geotiff/T/T_Tu...</td>\n",
       "    </tr>\n",
       "    <tr>\n",
       "      <th>1</th>\n",
       "      <td>2017-01-14 06:07:03+00:00</td>\n",
       "      <td>/storage/spestana/ASTER/AST_L1T/geotiff/T/T_ba...</td>\n",
       "    </tr>\n",
       "    <tr>\n",
       "      <th>2</th>\n",
       "      <td>2017-01-14 06:07:03+00:00</td>\n",
       "      <td>/storage/spestana/ASTER/AST_L1T/hdf/output/AST...</td>\n",
       "    </tr>\n",
       "    <tr>\n",
       "      <th>3</th>\n",
       "      <td>2017-01-14 06:07:03+00:00</td>\n",
       "      <td>/storage/spestana/ASTER/AST_L1T/hdf/output/AST...</td>\n",
       "    </tr>\n",
       "    <tr>\n",
       "      <th>4</th>\n",
       "      <td>2017-01-14 06:07:03+00:00</td>\n",
       "      <td>/storage/spestana/ASTER/AST_L1T/hdf/output/AST...</td>\n",
       "    </tr>\n",
       "  </tbody>\n",
       "</table>\n",
       "</div>"
      ],
      "text/plain": [
       "               timestampUTC                                           filepath\n",
       "0 2017-01-14 06:07:03+00:00  /storage/spestana/ASTER/AST_L1T/geotiff/T/T_Tu...\n",
       "1 2017-01-14 06:07:03+00:00  /storage/spestana/ASTER/AST_L1T/geotiff/T/T_ba...\n",
       "2 2017-01-14 06:07:03+00:00  /storage/spestana/ASTER/AST_L1T/hdf/output/AST...\n",
       "3 2017-01-14 06:07:03+00:00  /storage/spestana/ASTER/AST_L1T/hdf/output/AST...\n",
       "4 2017-01-14 06:07:03+00:00  /storage/spestana/ASTER/AST_L1T/hdf/output/AST..."
      ]
     },
     "execution_count": 4,
     "metadata": {},
     "output_type": "execute_result"
    }
   ],
   "source": [
    "df = aster_utils.aster_timestamps(directory,'tif')\n",
    "df.head()"
   ]
  },
  {
   "cell_type": "markdown",
   "metadata": {},
   "source": [
    "---\n",
    "#### Test `zonal_stats()` which includes conversion from DN to radiance `tir_dn2rad()`, and conversion from radiance to brightness temperature `tir_rad2tb()`"
   ]
  },
  {
   "cell_type": "markdown",
   "metadata": {},
   "source": [
    "Specify the path to a shapefile to define our zone we want statistics for:"
   ]
  },
  {
   "cell_type": "code",
   "execution_count": 5,
   "metadata": {},
   "outputs": [],
   "source": [
    "shapefile_filepath = '/home/spestana/git/goes-cues/shapefiles/GaylorPit_lon_89_west.shp'"
   ]
  },
  {
   "cell_type": "markdown",
   "metadata": {},
   "source": [
    "Pick one of the aster geotiff files from our list. And specify that we want band 14 (this is a thermal infrared band around 11 microns)."
   ]
  },
  {
   "cell_type": "code",
   "execution_count": 6,
   "metadata": {},
   "outputs": [],
   "source": [
    "aster_filepath = df.filepath[10]\n",
    "aster_band = 14"
   ]
  },
  {
   "cell_type": "code",
   "execution_count": 7,
   "metadata": {},
   "outputs": [],
   "source": [
    "tb_mean, tb_max, tb_min, tb_std, masked_aster_tb = aster_utils.zonal_stats(aster_filepath, aster_band, shapefile_filepath, return_masked_array=True)"
   ]
  },
  {
   "cell_type": "code",
   "execution_count": 8,
   "metadata": {},
   "outputs": [
    {
     "name": "stdout",
     "output_type": "stream",
     "text": [
      "Brightness Temperature:\n",
      "Mean: 260.57\n",
      "Maximum: 264.14\n",
      "Minimum: 248.9\n",
      "Standard Deviation: 2.46\n"
     ]
    },
    {
     "data": {
      "image/png": "[encoded data removed]",
      "text/plain": [
       "<Figure size 432x288 with 2 Axes>"
      ]
     },
     "metadata": {
      "needs_background": "light"
     },
     "output_type": "display_data"
    }
   ],
   "source": [
    "print('Brightness Temperature:')\n",
    "print('Mean: {}'.format(np.round(tb_mean,2)))\n",
    "print('Maximum: {}'.format(np.round(tb_max,2)))\n",
    "print('Minimum: {}'.format(np.round(tb_min,2)))\n",
    "print('Standard Deviation: {}'.format(np.round(tb_std,2)))\n",
    "\n",
    "plt.imshow(masked_aster_tb, cmap='magma')\n",
    "plt.colorbar()\n",
    "plt.title('ASTER Band 14 Brightness Temperature (K)');\n",
    "plt.axis('off');"
   ]
  },
  {
   "cell_type": "code",
   "execution_count": null,
   "metadata": {},
   "outputs": [],
   "source": []
  }
 ],
 "metadata": {
  "kernelspec": {
   "display_name": "goes-linux",
   "language": "python",
   "name": "goes-linux"
  },
  "language_info": {
   "codemirror_mode": {
    "name": "ipython",
    "version": 3
   },
   "file_extension": ".py",
   "mimetype": "text/x-python",
   "name": "python",
   "nbconvert_exporter": "python",
   "pygments_lexer": "ipython3",
   "version": "3.6.9"
  }
 },
 "nbformat": 4,
 "nbformat_minor": 4
}
