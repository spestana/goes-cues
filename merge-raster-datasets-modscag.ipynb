{
 "cells": [
  {
   "cell_type": "code",
   "execution_count": 1,
   "metadata": {},
   "outputs": [
    {
     "name": "stderr",
     "output_type": "stream",
     "text": [
      "/home/spestana/opt/anaconda3/envs/goes-linux/lib/python3.6/importlib/_bootstrap.py:219: RuntimeWarning: numpy.ufunc size changed, may indicate binary incompatibility. Expected 192 from C header, got 216 from PyObject\n",
      "  return f(*args, **kwds)\n",
      "/home/spestana/opt/anaconda3/envs/goes-linux/lib/python3.6/site-packages/osgeo/gdal.py:107: DeprecationWarning: gdal.py was placed in a namespace, it is now available as osgeo.gdal\n",
      "  DeprecationWarning)\n"
     ]
    }
   ],
   "source": [
    "import xarray as xr\n",
    "from xhistogram.xarray import histogram\n",
    "import richdem as rd\n",
    "import rioxarray as rxr\n",
    "import xrspatial as xrs\n",
    "import numpy as np\n",
    "import pandas as pd\n",
    "import geopandas as gpd\n",
    "import glob\n",
    "from scipy import stats\n",
    "import matplotlib.pyplot as plt\n",
    "\n",
    "%matplotlib inline\n",
    "\n",
    "import pysolar\n",
    "from datetime import datetime\n",
    "\n",
    "from aster_utils import mapZonalStats\n",
    "\n",
    "from asp_binder_utils import get_dem\n",
    "\n",
    "import warnings\n",
    "warnings.filterwarnings('ignore')"
   ]
  },
  {
   "cell_type": "code",
   "execution_count": 2,
   "metadata": {},
   "outputs": [],
   "source": [
    "# Larger area around Tuolumne further south and east to include Mammoth\n",
    "(utm_e_UL, utm_n_UL) = 282500, 4205000\n",
    "(utm_e_UR, utm_n_UR) = 305000, 4205000\n",
    "(utm_e_LR, utm_n_LR) = 327500, 4160000\n",
    "(utm_e_LL, utm_n_LL) = 305000, 4160000\n",
    "\n",
    "geometry = [\n",
    "    {\n",
    "        'type': 'Polygon',\n",
    "        'coordinates': [[\n",
    "            [utm_e_UL, utm_n_UL],\n",
    "            [utm_e_UR, utm_n_UR],\n",
    "            [utm_e_LR, utm_n_LR],\n",
    "            [utm_e_LL, utm_n_LL]\n",
    "        ]]\n",
    "    }\n",
    "]"
   ]
  },
  {
   "cell_type": "markdown",
   "metadata": {},
   "source": [
    "---"
   ]
  },
  {
   "cell_type": "code",
   "execution_count": 3,
   "metadata": {},
   "outputs": [],
   "source": [
    "ds = xr.open_dataset('/storage/spestana/ASTER-MODIS-GOES-DEM-FVEG_v4_orthorectified.nc')"
   ]
  },
  {
   "cell_type": "markdown",
   "metadata": {},
   "source": [
    "---"
   ]
  },
  {
   "cell_type": "code",
   "execution_count": 4,
   "metadata": {},
   "outputs": [],
   "source": [
    "modscag_filepaths = glob.glob('/storage/MODIS/Tuolumne_MOD09GA/*.tif')"
   ]
  },
  {
   "cell_type": "code",
   "execution_count": 5,
   "metadata": {},
   "outputs": [],
   "source": [
    "modscag_da_list = []\n",
    "for modscag_filepath in modscag_filepaths:\n",
    "    _da = xr.open_rasterio(modscag_filepath)\n",
    "    _da_masked = _da.where(_da <= 100)\n",
    "    _da_masked = _da_masked.squeeze().drop('band')\n",
    "    this_time = pd.Timestamp(datetime.strptime(_da_masked.attrs['TIFFTAG_DATETIME'],'%Y:%m:%d %H:%M:%S'))#np.datetime64(datetime.strptime(_da_masked.attrs['TIFFTAG_DATETIME'],'%Y:%m:%d %H:%M:%S'))\n",
    "    _da_masked = _da_masked.assign_coords({'time':this_time})\n",
    "    modscag_da_list.append(_da_masked.rio.reproject_match(ds))\n",
    "    \n",
    "# manually picking the ones I need to match my GOES/ASTER/MODIS dataset (including duplicates where we had 2 ASTER in one day)\n",
    "idx = [2,3,4,4,5,10,11,12,20,21,21,22,23,24,26,26,29,29,34,34,36,36,37,38,39,40,41]\n",
    "new_modscag_da_list = [modscag_da_list[i] for i in idx]"
   ]
  },
  {
   "cell_type": "code",
   "execution_count": 6,
   "metadata": {},
   "outputs": [],
   "source": [
    "modscag_da = xr.concat(new_modscag_da_list, dim='time')\n",
    "modscag_da['time'] = ds.time.values # overwrite time values with ASTER times\n",
    "ds['fsca'] = modscag_da # add to main dataset"
   ]
  },
  {
   "cell_type": "markdown",
   "metadata": {},
   "source": [
    "---"
   ]
  },
  {
   "cell_type": "code",
   "execution_count": 8,
   "metadata": {},
   "outputs": [],
   "source": [
    "ds.to_netcdf('/storage/spestana/ASTER-MODIS-GOES-DEM-FVEG-FSCA_v5_orthorectified.nc')"
   ]
  },
  {
   "cell_type": "code",
   "execution_count": null,
   "metadata": {},
   "outputs": [],
   "source": []
  }
 ],
 "metadata": {
  "kernelspec": {
   "display_name": "goes-linux",
   "language": "python",
   "name": "goes-linux"
  },
  "language_info": {
   "codemirror_mode": {
    "name": "ipython",
    "version": 3
   },
   "file_extension": ".py",
   "mimetype": "text/x-python",
   "name": "python",
   "nbconvert_exporter": "python",
   "pygments_lexer": "ipython3",
   "version": "3.6.9"
  }
 },
 "nbformat": 4,
 "nbformat_minor": 4
}
