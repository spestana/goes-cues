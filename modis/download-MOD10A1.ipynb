{
 "cells": [
  {
   "cell_type": "markdown",
   "metadata": {},
   "source": [
    "I have a csv file with all the date/times of ASTER observations I'm using, and I want to now download all the MODIS/Terra Snow Cover (Daily L3 Global 500m SIN Grid, Version 61; MOD10A1) imagery for the same date/times covering the same spot.\n",
    "\n",
    "I'm using the Earthdata API because doing this through their web portal would be a slow and cumbersome process.\n",
    "\n",
    "Some references:\n",
    " * [Earthdata API](https://cmr.earthdata.nasa.gov/search/site/docs/search/api.html)\n",
    " * [MOD10A1 product](https://nsidc.org/data/MOD10A1/versions/61)"
   ]
  },
  {
   "cell_type": "code",
   "execution_count": 1,
   "metadata": {},
   "outputs": [],
   "source": [
    "import requests\n",
    "import pandas as pd\n",
    "import io\n",
    "import glob\n",
    "#import aster_utils"
   ]
  },
  {
   "cell_type": "markdown",
   "metadata": {},
   "source": [
    "Look at the ASTER images that I have saved, make a list of them and their timestamps:"
   ]
  },
  {
   "cell_type": "code",
   "execution_count": 2,
   "metadata": {},
   "outputs": [],
   "source": [
    "## Specify the directory all my ASTER images are in\n",
    "#aster_directory = \"/storage/spestana/ASTER/AST_L1T/geotiff/T/T_band14_Tuolumne-and-CUES/\"\n",
    "#\n",
    "## Find all our ASTER files and their timestamps in our directory\n",
    "#aster = aster_utils.aster_timestamps(aster_directory, ext='tif')\n",
    "#\n",
    "## Add a UTC-8 datetime for pacific standard that CUES uses\n",
    "#aster['datetime'] = aster.timestampUTC - pd.Timedelta(hours=8)\n",
    "#\n",
    "## Save a csv file of the ASTER files we are using\n",
    "##aster.to_csv('aster_AST_L1T_band14_Tuolumne-and-CUES.csv')\n",
    "#\n",
    "# Alternatively, if I already have a csv file somewhere with the ASTER timestamps I want, read it in\n",
    "aster = pd.read_csv('../aster_AST_L1T_band14_Tuolumne-and-CUES.csv')"
   ]
  },
  {
   "cell_type": "markdown",
   "metadata": {},
   "source": [
    "Set up some of the granule search criteria for Earthdata search API"
   ]
  },
  {
   "cell_type": "code",
   "execution_count": 3,
   "metadata": {},
   "outputs": [],
   "source": [
    "url = \"https://cmr.earthdata.nasa.gov/search/granules.csv?\" #\"https://cmr.earthdata.nasa.gov/search/collections?has_granules_created_at\\[\\]=2015-01-01T19:00:00Z,\"\n",
    "\n",
    "# Product information for the MODIS products I want\n",
    "shortname_id = \"short_name=MOD10A1\" # \"short_name=MOD03\"\n",
    "version = \"version=61\"\n",
    "\n",
    "# bounding box around the study area I want to look at (upper Tuolumne River basin)\n",
    "# lower left longitude, lower left latitude, upper right longitude, upper right latitude\n",
    "bounding_box = \"bounding_box[]=-120,37,-118,38\" "
   ]
  },
  {
   "cell_type": "code",
   "execution_count": 4,
   "metadata": {},
   "outputs": [],
   "source": [
    "# empty list to hold modis download URLs\n",
    "modis_urls = []\n",
    "\n",
    "for i, this_timestamp in enumerate(aster.timestampUTC):\n",
    "       \n",
    "    # the date is the first 10 characters of the timestamp string\n",
    "    date = str(this_timestamp)[:10]\n",
    "    # hour follows a space after the date\n",
    "    hour_start = str(this_timestamp).split(\" \")[1][:2]\n",
    "    # and search until 1 hour later\n",
    "    hour_end = int(hour_start) + 1\n",
    "    \n",
    "    start_time = \"{date}T{hour_start}:00:00Z\".format(date=date,hour_start=hour_start)\n",
    "    end_time = \"{date}T{hour_end}:00:00Z\".format(date=date,hour_end=hour_end)\n",
    "    time_range = \"temporal=\" + start_time + \",\" + end_time\n",
    "    \n",
    "    # build the whole request URL and make the request.get\n",
    "    request_url = url+\"&\"+shortname_id+\"&\"+version+\"&\"+bounding_box+\"&\"+time_range\n",
    "    response = requests.get(request_url)\n",
    "    # read the response CSV and put in a temporary dataframe\n",
    "    df = pd.read_csv(io.StringIO(response.text))\n",
    "    \n",
    "    for modis_url in df['Online Access URLs']:\n",
    "        modis_urls.append(modis_url)"
   ]
  },
  {
   "cell_type": "code",
   "execution_count": 5,
   "metadata": {},
   "outputs": [
    {
     "data": {
      "text/plain": [
       "['https://n5eil01u.ecs.nsidc.org/DP4/MOST/MOD10A1.061/2017.03.04/MOD10A1.A2017063.h08v05.061.2021267023554.hdf',\n",
       " 'https://n5eil01u.ecs.nsidc.org/DP4/MOST/MOD10A1.061/2017.03.20/MOD10A1.A2017079.h08v05.061.2021268101357.hdf',\n",
       " 'https://n5eil01u.ecs.nsidc.org/DP4/MOST/MOD10A1.061/2017.04.21/MOD10A1.A2017111.h08v05.061.2021270213842.hdf',\n",
       " 'https://n5eil01u.ecs.nsidc.org/DP4/MOST/MOD10A1.061/2019.01.13/MOD10A1.A2019013.h08v05.061.2020284120312.hdf',\n",
       " 'https://n5eil01u.ecs.nsidc.org/DP4/MOST/MOD10A1.061/2019.03.26/MOD10A1.A2019085.h08v05.061.2020291025157.hdf',\n",
       " 'https://n5eil01u.ecs.nsidc.org/DP4/MOST/MOD10A1.061/2019.04.27/MOD10A1.A2019117.h08v05.061.2020292205834.hdf',\n",
       " 'https://n5eil01u.ecs.nsidc.org/DP4/MOST/MOD10A1.061/2019.05.13/MOD10A1.A2019133.h08v05.061.2020293235606.hdf',\n",
       " 'https://n5eil01u.ecs.nsidc.org/DP4/MOST/MOD10A1.061/2019.05.28/MOD10A1.A2019148.h08v05.061.2020295151500.hdf',\n",
       " 'https://n5eil01u.ecs.nsidc.org/DP4/MOST/MOD10A1.061/2019.05.28/MOD10A1.A2019148.h08v05.061.2020295151500.hdf',\n",
       " 'https://n5eil01u.ecs.nsidc.org/DP4/MOST/MOD10A1.061/2019.05.29/MOD10A1.A2019149.h08v05.061.2020295182034.hdf',\n",
       " 'https://n5eil01u.ecs.nsidc.org/DP4/MOST/MOD10A1.061/2019.06.06/MOD10A1.A2019157.h08v05.061.2020298031451.hdf',\n",
       " 'https://n5eil01u.ecs.nsidc.org/DP4/MOST/MOD10A1.061/2019.06.13/MOD10A1.A2019164.h08v05.061.2020298105821.hdf',\n",
       " 'https://n5eil01u.ecs.nsidc.org/DP4/MOST/MOD10A1.061/2019.06.13/MOD10A1.A2019164.h08v05.061.2020298105821.hdf',\n",
       " 'https://n5eil01u.ecs.nsidc.org/DP4/MOST/MOD10A1.061/2019.06.30/MOD10A1.A2019181.h08v05.061.2020299031512.hdf',\n",
       " 'https://n5eil01u.ecs.nsidc.org/DP4/MOST/MOD10A1.061/2019.07.01/MOD10A1.A2019182.h08v05.061.2020299035001.hdf',\n",
       " 'https://n5eil01u.ecs.nsidc.org/DP4/MOST/MOD10A1.061/2019.07.08/MOD10A1.A2019189.h08v05.061.2020303035457.hdf',\n",
       " 'https://n5eil01u.ecs.nsidc.org/DP4/MOST/MOD10A1.061/2019.08.01/MOD10A1.A2019213.h08v05.061.2020304075911.hdf',\n",
       " 'https://n5eil01u.ecs.nsidc.org/DP4/MOST/MOD10A1.061/2019.10.04/MOD10A1.A2019277.h08v05.061.2020312234733.hdf',\n",
       " 'https://n5eil01u.ecs.nsidc.org/DP4/MOST/MOD10A1.061/2019.11.13/MOD10A1.A2019317.h08v05.061.2020317071013.hdf',\n",
       " 'https://n5eil01u.ecs.nsidc.org/DP4/MOST/MOD10A1.061/2019.12.31/MOD10A1.A2019365.h08v05.061.2020323091001.hdf',\n",
       " 'https://n5eil01u.ecs.nsidc.org/DP4/MOST/MOD10A1.061/2020.01.07/MOD10A1.A2020007.h08v05.061.2020324070058.hdf',\n",
       " 'https://n5eil01u.ecs.nsidc.org/DP4/MOST/MOD10A1.061/2020.01.07/MOD10A1.A2020007.h08v05.061.2020324070058.hdf',\n",
       " 'https://n5eil01u.ecs.nsidc.org/DP4/MOST/MOD10A1.061/2020.01.23/MOD10A1.A2020023.h08v05.061.2020328150401.hdf',\n",
       " 'https://n5eil01u.ecs.nsidc.org/DP4/MOST/MOD10A1.061/2020.01.23/MOD10A1.A2020023.h08v05.061.2020328150401.hdf',\n",
       " 'https://n5eil01u.ecs.nsidc.org/DP4/MOST/MOD10A1.061/2020.02.01/MOD10A1.A2020032.h08v05.061.2020328175104.hdf',\n",
       " 'https://n5eil01u.ecs.nsidc.org/DP4/MOST/MOD10A1.061/2020.02.08/MOD10A1.A2020039.h08v05.061.2020328223751.hdf',\n",
       " 'https://n5eil01u.ecs.nsidc.org/DP4/MOST/MOD10A1.061/2020.02.26/MOD10A1.A2020057.h08v05.061.2020329153734.hdf',\n",
       " 'https://n5eil01u.ecs.nsidc.org/DP4/MOST/MOD10A1.061/2020.03.05/MOD10A1.A2020065.h08v05.061.2020329201409.hdf',\n",
       " 'https://n5eil01u.ecs.nsidc.org/DP4/MOST/MOD10A1.061/2020.04.13/MOD10A1.A2020104.h08v05.061.2020332055720.hdf',\n",
       " 'https://n5eil01u.ecs.nsidc.org/DP4/MOST/MOD10A1.061/2020.04.29/MOD10A1.A2020120.h08v05.061.2020333043409.hdf',\n",
       " 'https://n5eil01u.ecs.nsidc.org/DP4/MOST/MOD10A1.061/2020.05.15/MOD10A1.A2020136.h08v05.061.2020333132653.hdf',\n",
       " 'https://n5eil01u.ecs.nsidc.org/DP4/MOST/MOD10A1.061/2020.06.15/MOD10A1.A2020167.h08v05.061.2020336130554.hdf',\n",
       " 'https://n5eil01u.ecs.nsidc.org/DP4/MOST/MOD10A1.061/2020.06.16/MOD10A1.A2020168.h08v05.061.2020336124146.hdf',\n",
       " 'https://n5eil01u.ecs.nsidc.org/DP4/MOST/MOD10A1.061/2020.06.17/MOD10A1.A2020169.h08v05.061.2020336114226.hdf']"
      ]
     },
     "execution_count": 5,
     "metadata": {},
     "output_type": "execute_result"
    }
   ],
   "source": [
    "modis_urls"
   ]
  },
  {
   "cell_type": "markdown",
   "metadata": {},
   "source": [
    "Write the list of URLs out to a text file:"
   ]
  },
  {
   "cell_type": "code",
   "execution_count": 6,
   "metadata": {},
   "outputs": [],
   "source": [
    "with open(\"MOD10A1_download_list.txt\", \"w\") as output:\n",
    "    for row in modis_urls:\n",
    "        output.write(str(row) + '\\n')"
   ]
  },
  {
   "cell_type": "markdown",
   "metadata": {},
   "source": [
    "**Download using wget and this text file list of all the MODIS observations**\n",
    "\n",
    "`wget --http-user=YOUR_USERNAME --ask-password --keep-session-cookies --auth-no-challenge=on -c -i modis_download_list.txt`\n",
    "\n",
    "---"
   ]
  }
 ],
 "metadata": {
  "kernelspec": {
   "display_name": "goes-linux",
   "language": "python",
   "name": "goes-linux"
  },
  "language_info": {
   "codemirror_mode": {
    "name": "ipython",
    "version": 3
   },
   "file_extension": ".py",
   "mimetype": "text/x-python",
   "name": "python",
   "nbconvert_exporter": "python",
   "pygments_lexer": "ipython3",
   "version": "3.6.9"
  }
 },
 "nbformat": 4,
 "nbformat_minor": 4
}
