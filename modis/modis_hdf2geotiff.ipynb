{
 "cells": [
  {
   "cell_type": "markdown",
   "metadata": {},
   "source": [
    "# modis_hdf2geotiff"
   ]
  },
  {
   "cell_type": "code",
   "execution_count": 1,
   "metadata": {},
   "outputs": [],
   "source": [
    "# Creates GeoTIFF files from a collection of MODIS observations.\n",
    "\n",
    "# Input datasets (HDF format):\n",
    "# - MxD021KM ()\n",
    "# - MxD10A1\n",
    "\n",
    "\n",
    "import xarray as xr\n",
    "import numpy as np\n",
    "import pandas as pd\n",
    "import os\n",
    "import glob\n",
    "import gdal"
   ]
  },
  {
   "cell_type": "markdown",
   "metadata": {},
   "source": [
    "Read in a list of MODIS files:"
   ]
  },
  {
   "cell_type": "code",
   "execution_count": 2,
   "metadata": {},
   "outputs": [
    {
     "name": "stdout",
     "output_type": "stream",
     "text": [
      "Found 30 MODIS files in \"/storage/MODIS/Tuolumne_MOD10A1\"\n"
     ]
    }
   ],
   "source": [
    "modis_dir = '/storage/MODIS/Tuolumne_MOD10A1'\n",
    "\n",
    "modis_searchDir = os.path.normpath(modis_dir)\n",
    "\n",
    "# Search specified directory for HDF files\n",
    "modis_file_list = glob.glob(modis_searchDir+'/**/*.hdf', recursive=True)\n",
    "\n",
    "print('Found {} MODIS files in \"{}\"'.format(len(modis_file_list),modis_dir))"
   ]
  },
  {
   "cell_type": "markdown",
   "metadata": {},
   "source": [
    "For each **MOD10A1** hdf file, convert to geotiff with gdal:"
   ]
  },
  {
   "cell_type": "code",
   "execution_count": 3,
   "metadata": {},
   "outputs": [],
   "source": [
    "for hdf_file in modis_file_list:\n",
    "    hdf_ds = gdal.Open(hdf_file, gdal.GA_ReadOnly)\n",
    "    subdatasets = hdf_ds.GetSubDatasets()\n",
    "\n",
    "    for i, sds in enumerate(subdatasets):\n",
    "        sds_name = sds[0]\n",
    "        # use gdalwarp to convert from hdf to geotiff and change crs\n",
    "        geotiff_file = hdf_file[:-3] + 'tif'\n",
    "        gdalwarp_command = 'gdalwarp {sds_name} {geotiff_file} -of Gtiff -ot Float32 -t_srs \\'EPSG:4326\\''.format(sds_name=sds_name, geotiff_file=geotiff_file)\n",
    "        #print(gdalwarp_command)\n",
    "        os.system(gdalwarp_command)"
   ]
  },
  {
   "cell_type": "markdown",
   "metadata": {},
   "source": [
    "For each **MOD021KM** hdf file, convert to geotiff with gdal:"
   ]
  },
  {
   "cell_type": "code",
   "execution_count": null,
   "metadata": {
    "scrolled": true
   },
   "outputs": [],
   "source": [
    "for hdf_file in modis_file_list:\n",
    "    hdf_ds = gdal.Open(hdf_file, gdal.GA_ReadOnly)\n",
    "    subdatasets = hdf_ds.GetSubDatasets()\n",
    "\n",
    "    for i, sds in enumerate(subdatasets):\n",
    "        sds_name = sds[0]\n",
    "        # only selecting SDS \"4\" which are the emissive band radiance DNs\n",
    "        if sds_name.split(':')[-1] == '4':\n",
    "            # use gdalwarp to convert from hdf to geotiff and change crs\n",
    "            geotiff_file = hdf_file[:-3] + 'tif'\n",
    "            gdalwarp_command = 'gdalwarp {sds_name} {geotiff_file} -of Gtiff -ot Float32 -t_srs \\'EPSG:4326\\''.format(sds_name=sds_name, geotiff_file=geotiff_file)\n",
    "            #print(gdalwarp_command)\n",
    "            os.system(gdalwarp_command)"
   ]
  },
  {
   "cell_type": "code",
   "execution_count": null,
   "metadata": {},
   "outputs": [],
   "source": [
    "subdatasets"
   ]
  },
  {
   "cell_type": "code",
   "execution_count": null,
   "metadata": {},
   "outputs": [],
   "source": []
  }
 ],
 "metadata": {
  "kernelspec": {
   "display_name": "goes-linux",
   "language": "python",
   "name": "goes-linux"
  },
  "language_info": {
   "codemirror_mode": {
    "name": "ipython",
    "version": 3
   },
   "file_extension": ".py",
   "mimetype": "text/x-python",
   "name": "python",
   "nbconvert_exporter": "python",
   "pygments_lexer": "ipython3",
   "version": "3.6.9"
  }
 },
 "nbformat": 4,
 "nbformat_minor": 4
}
