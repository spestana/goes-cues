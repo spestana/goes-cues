{
 "cells": [
  {
   "cell_type": "markdown",
   "metadata": {},
   "source": [
    "Quick notebook for merging GOES ABI L2 product timeseries csv files (from make-acm-timeseries.py)"
   ]
  },
  {
   "cell_type": "code",
   "execution_count": 1,
   "metadata": {},
   "outputs": [],
   "source": [
    "import glob\n",
    "import pandas as pd"
   ]
  },
  {
   "cell_type": "code",
   "execution_count": 2,
   "metadata": {},
   "outputs": [],
   "source": [
    "# Find all our GOES-16 ABI Cloud Mask timeseries files\n",
    "directory = '/home/spestana/git/goes-ortho/GOES-16_ABI-L2_timeseries/ACMC/Tuolumne/*.csv'\n",
    "goes_files = glob.glob(directory)"
   ]
  },
  {
   "cell_type": "code",
   "execution_count": 3,
   "metadata": {},
   "outputs": [],
   "source": [
    "# open all csv files and concatinate together\n",
    "goes_df = pd.concat([pd.read_csv(file) for file in goes_files], ignore_index=True)\n",
    "# set time column to a timestamp datatype\n",
    "goes_df['time'] = [pd.Timestamp(t) for t in goes_df.time]\n",
    "# set time to the dataframe index\n",
    "goes_df.set_index('time', inplace=True)\n",
    "# sort by the time index\n",
    "goes_df.sort_index(inplace=True)\n",
    "# save out to a pickle file\n",
    "goes_df.to_pickle('data/GOES-16_ABI-L2-ACMC_Tuolumne_2017-2020.pkl')"
   ]
  },
  {
   "cell_type": "code",
   "execution_count": null,
   "metadata": {},
   "outputs": [],
   "source": []
  }
 ],
 "metadata": {
  "kernelspec": {
   "display_name": "goes-linux",
   "language": "python",
   "name": "goes-linux"
  },
  "language_info": {
   "codemirror_mode": {
    "name": "ipython",
    "version": 3
   },
   "file_extension": ".py",
   "mimetype": "text/x-python",
   "name": "python",
   "nbconvert_exporter": "python",
   "pygments_lexer": "ipython3",
   "version": "3.6.9"
  }
 },
 "nbformat": 4,
 "nbformat_minor": 4
}
