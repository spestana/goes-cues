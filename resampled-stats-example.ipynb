{
 "cells": [
  {
   "cell_type": "markdown",
   "metadata": {},
   "source": [
    "# Resampled Stats Example\n",
    "\n",
    "See my [gist with functions here](https://gist.github.com/spestana/93682fecb659a8013e6c853b2630c15e).\n",
    "\n",
    "---"
   ]
  },
  {
   "cell_type": "markdown",
   "metadata": {},
   "source": [
    "Import required packages"
   ]
  },
  {
   "cell_type": "code",
   "execution_count": 1,
   "metadata": {},
   "outputs": [],
   "source": [
    "import numpy as np\n",
    "import pandas as pd\n",
    "from scipy import stats\n",
    "import xarray as xr\n",
    "\n",
    "# for plotting\n",
    "import matplotlib.pyplot as plt"
   ]
  },
  {
   "cell_type": "markdown",
   "metadata": {},
   "source": [
    "Define the functions"
   ]
  },
  {
   "cell_type": "code",
   "execution_count": 2,
   "metadata": {},
   "outputs": [],
   "source": [
    "def compute_modes(resampled, n=0):\n",
    "    \n",
    "    '''Given a resampled xarray object (xarray.core.resample.DataArrayResample),\n",
    "       compute the modes ( rounding values with np.round(_,n) ), \n",
    "       return a pandas dataframe with the modes, counts, and groups (datetime)'''\n",
    "    \n",
    "    # Compute modes\n",
    "    resampled_ModeResults = [stats.mode(np.round(x[1],n)) for x in resampled]\n",
    "    \n",
    "    # Get all the modes\n",
    "    resampled_modes = [x.mode for x in resampled_ModeResults]\n",
    "    # Reshape result into 1D array\n",
    "    resampled_modes = np.array(resampled_modes).reshape(len(resampled))\n",
    "    \n",
    "    # Get the count for each mode\n",
    "    resampled_counts = [x.count for x in resampled_ModeResults]\n",
    "    # Reshape result into 1D array\n",
    "    resampled_counts = np.array(resampled_counts).reshape(len(resampled))\n",
    "    \n",
    "    # Get the group (datetime) for each mode\n",
    "    resampled_groups = np.array( list(resampled.groups.keys()) )\n",
    "    \n",
    "    # Create pandas dataframe\n",
    "    d = {'modes': resampled_modes, 'counts': resampled_counts}\n",
    "    df = pd.DataFrame(data=d, index=resampled_groups)\n",
    "    \n",
    "    return df\n",
    "\n",
    "def resampled_stats(resampled, n=0):\n",
    "    \n",
    "    '''Given a resampled xarray object (xarray.core.resample.DataArrayResample),\n",
    "    return a pandas dataframe with the mean, median, modes, counts, and groups (datetime)'''\n",
    "    \n",
    "    # Compute modes\n",
    "    resampled_modes = compute_modes(resampled, n)\n",
    "    \n",
    "    # Compute and add mean, medians, modes, counts to a dataframe\n",
    "    d = {'means': resampled.mean().values, \n",
    "         'medians': resampled.median().values, \n",
    "         'modes': resampled_modes.modes.values,\n",
    "         'counts': resampled_modes.counts.values,\n",
    "         'maxs': resampled.max().values,\n",
    "         'mins': resampled.min().values,\n",
    "         'ranges': resampled.max().values - resampled.min().values,\n",
    "         'stds': resampled.std().values,}\n",
    "    \n",
    "    df = pd.DataFrame(data=d, index=resampled_modes.index)\n",
    "    \n",
    "    return df"
   ]
  },
  {
   "cell_type": "markdown",
   "metadata": {},
   "source": [
    "Open a data file"
   ]
  },
  {
   "cell_type": "code",
   "execution_count": 3,
   "metadata": {},
   "outputs": [],
   "source": [
    "cues_ds = pd.read_pickle('data/goes-cues_2017-2020.pkl')\n",
    "# squeeze out extra dimension after xarray dataset conversion\n",
    "cues_ds = cues_ds.to_xarray().squeeze()\n",
    "# compute difference value between GOES Tb and CUES Tss\n",
    "cues_ds['goes_cues_diff'] = cues_ds.goes_tb_c - cues_ds['snow surface temperature; Apogee SI-111 thermal radiometer; (Celsius)']"
   ]
  },
  {
   "cell_type": "markdown",
   "metadata": {},
   "source": [
    "## Monthly groupby example"
   ]
  },
  {
   "cell_type": "code",
   "execution_count": 4,
   "metadata": {},
   "outputs": [],
   "source": [
    "resampled_month = cues_ds.goes_cues_diff.where(cues_ds.cloud_flag==0).groupby(\"datetime.month\")"
   ]
  },
  {
   "cell_type": "code",
   "execution_count": 5,
   "metadata": {},
   "outputs": [],
   "source": [
    "resampled_month_df = resampled_stats(resampled_month, 0)"
   ]
  },
  {
   "cell_type": "code",
   "execution_count": 6,
   "metadata": {},
   "outputs": [
    {
     "data": {
      "text/html": [
       "<div>\n",
       "<style scoped>\n",
       "    .dataframe tbody tr th:only-of-type {\n",
       "        vertical-align: middle;\n",
       "    }\n",
       "\n",
       "    .dataframe tbody tr th {\n",
       "        vertical-align: top;\n",
       "    }\n",
       "\n",
       "    .dataframe thead th {\n",
       "        text-align: right;\n",
       "    }\n",
       "</style>\n",
       "<table border=\"1\" class=\"dataframe\">\n",
       "  <thead>\n",
       "    <tr style=\"text-align: right;\">\n",
       "      <th></th>\n",
       "      <th>means</th>\n",
       "      <th>medians</th>\n",
       "      <th>modes</th>\n",
       "      <th>counts</th>\n",
       "      <th>maxs</th>\n",
       "      <th>mins</th>\n",
       "      <th>ranges</th>\n",
       "      <th>stds</th>\n",
       "    </tr>\n",
       "  </thead>\n",
       "  <tbody>\n",
       "    <tr>\n",
       "      <th>1</th>\n",
       "      <td>-2.722015</td>\n",
       "      <td>2.364767</td>\n",
       "      <td>4.0</td>\n",
       "      <td>1442</td>\n",
       "      <td>15.981127</td>\n",
       "      <td>-55.774201</td>\n",
       "      <td>71.755328</td>\n",
       "      <td>13.270174</td>\n",
       "    </tr>\n",
       "    <tr>\n",
       "      <th>2</th>\n",
       "      <td>3.149673</td>\n",
       "      <td>4.853243</td>\n",
       "      <td>4.0</td>\n",
       "      <td>1551</td>\n",
       "      <td>15.807728</td>\n",
       "      <td>-52.936379</td>\n",
       "      <td>68.744107</td>\n",
       "      <td>8.622994</td>\n",
       "    </tr>\n",
       "    <tr>\n",
       "      <th>3</th>\n",
       "      <td>-0.490177</td>\n",
       "      <td>2.397673</td>\n",
       "      <td>2.0</td>\n",
       "      <td>1460</td>\n",
       "      <td>16.838511</td>\n",
       "      <td>-63.529734</td>\n",
       "      <td>80.368245</td>\n",
       "      <td>10.686069</td>\n",
       "    </tr>\n",
       "    <tr>\n",
       "      <th>4</th>\n",
       "      <td>-0.301482</td>\n",
       "      <td>2.595912</td>\n",
       "      <td>3.0</td>\n",
       "      <td>2439</td>\n",
       "      <td>14.881764</td>\n",
       "      <td>-56.601961</td>\n",
       "      <td>71.483725</td>\n",
       "      <td>9.287855</td>\n",
       "    </tr>\n",
       "    <tr>\n",
       "      <th>5</th>\n",
       "      <td>0.091498</td>\n",
       "      <td>2.664780</td>\n",
       "      <td>2.0</td>\n",
       "      <td>2017</td>\n",
       "      <td>32.726410</td>\n",
       "      <td>-57.685058</td>\n",
       "      <td>90.411467</td>\n",
       "      <td>9.622706</td>\n",
       "    </tr>\n",
       "  </tbody>\n",
       "</table>\n",
       "</div>"
      ],
      "text/plain": [
       "      means   medians  modes  counts       maxs       mins     ranges  \\\n",
       "1 -2.722015  2.364767    4.0    1442  15.981127 -55.774201  71.755328   \n",
       "2  3.149673  4.853243    4.0    1551  15.807728 -52.936379  68.744107   \n",
       "3 -0.490177  2.397673    2.0    1460  16.838511 -63.529734  80.368245   \n",
       "4 -0.301482  2.595912    3.0    2439  14.881764 -56.601961  71.483725   \n",
       "5  0.091498  2.664780    2.0    2017  32.726410 -57.685058  90.411467   \n",
       "\n",
       "        stds  \n",
       "1  13.270174  \n",
       "2   8.622994  \n",
       "3  10.686069  \n",
       "4   9.287855  \n",
       "5   9.622706  "
      ]
     },
     "execution_count": 6,
     "metadata": {},
     "output_type": "execute_result"
    }
   ],
   "source": [
    "resampled_month_df.head()"
   ]
  },
  {
   "cell_type": "code",
   "execution_count": 7,
   "metadata": {},
   "outputs": [
    {
     "data": {
      "text/plain": [
       "<matplotlib.legend.Legend at 0x7f10df9844a8>"
      ]
     },
     "execution_count": 7,
     "metadata": {},
     "output_type": "execute_result"
    },
    {
     "data": {
      "image/png": "[encoded data removed]",
      "text/plain": [
       "<Figure size 432x288 with 1 Axes>"
      ]
     },
     "metadata": {
      "needs_background": "light"
     },
     "output_type": "display_data"
    }
   ],
   "source": [
    "resampled_month_df.means.plot()\n",
    "resampled_month_df.medians.plot()\n",
    "resampled_month_df.modes.plot()\n",
    "resampled_month_df.mins.plot()\n",
    "resampled_month_df.maxs.plot()\n",
    "resampled_month_df.ranges.plot()\n",
    "resampled_month_df.stds.plot()\n",
    "\n",
    "plt.legend()"
   ]
  },
  {
   "cell_type": "markdown",
   "metadata": {},
   "source": [
    "## Monthly resample example"
   ]
  },
  {
   "cell_type": "code",
   "execution_count": 8,
   "metadata": {},
   "outputs": [],
   "source": [
    "resampled_month = cues_ds.goes_cues_diff.where(cues_ds.cloud_flag==0).resample(datetime='1M')"
   ]
  },
  {
   "cell_type": "code",
   "execution_count": 9,
   "metadata": {
    "scrolled": true
   },
   "outputs": [
    {
     "name": "stderr",
     "output_type": "stream",
     "text": [
      "/home/spestana/opt/anaconda3/envs/goes-linux/lib/python3.6/site-packages/xarray/core/nanops.py:140: RuntimeWarning: Mean of empty slice\n",
      "  return np.nanmean(a, axis=axis, dtype=dtype)\n",
      "/home/spestana/opt/anaconda3/envs/goes-linux/lib/python3.6/site-packages/numpy/lib/nanfunctions.py:1115: RuntimeWarning: All-NaN slice encountered\n",
      "  overwrite_input=overwrite_input)\n",
      "/home/spestana/opt/anaconda3/envs/goes-linux/lib/python3.6/site-packages/xarray/core/nputils.py:223: RuntimeWarning: All-NaN slice encountered\n",
      "  result = getattr(npmodule, name)(values, axis=axis, **kwargs)\n",
      "/home/spestana/opt/anaconda3/envs/goes-linux/lib/python3.6/site-packages/numpy/lib/nanfunctions.py:1666: RuntimeWarning: Degrees of freedom <= 0 for slice.\n",
      "  keepdims=keepdims)\n"
     ]
    }
   ],
   "source": [
    "resampled_month_df = resampled_stats(resampled_month, 0)"
   ]
  },
  {
   "cell_type": "code",
   "execution_count": 10,
   "metadata": {},
   "outputs": [
    {
     "data": {
      "text/html": [
       "<div>\n",
       "<style scoped>\n",
       "    .dataframe tbody tr th:only-of-type {\n",
       "        vertical-align: middle;\n",
       "    }\n",
       "\n",
       "    .dataframe tbody tr th {\n",
       "        vertical-align: top;\n",
       "    }\n",
       "\n",
       "    .dataframe thead th {\n",
       "        text-align: right;\n",
       "    }\n",
       "</style>\n",
       "<table border=\"1\" class=\"dataframe\">\n",
       "  <thead>\n",
       "    <tr style=\"text-align: right;\">\n",
       "      <th></th>\n",
       "      <th>means</th>\n",
       "      <th>medians</th>\n",
       "      <th>modes</th>\n",
       "      <th>counts</th>\n",
       "      <th>maxs</th>\n",
       "      <th>mins</th>\n",
       "      <th>ranges</th>\n",
       "      <th>stds</th>\n",
       "    </tr>\n",
       "  </thead>\n",
       "  <tbody>\n",
       "    <tr>\n",
       "      <th>2017-03-31</th>\n",
       "      <td>-0.675956</td>\n",
       "      <td>1.908380</td>\n",
       "      <td>2.0</td>\n",
       "      <td>669</td>\n",
       "      <td>16.838511</td>\n",
       "      <td>-55.338199</td>\n",
       "      <td>72.176710</td>\n",
       "      <td>10.740207</td>\n",
       "    </tr>\n",
       "    <tr>\n",
       "      <th>2017-04-30</th>\n",
       "      <td>-0.003838</td>\n",
       "      <td>2.686340</td>\n",
       "      <td>3.0</td>\n",
       "      <td>582</td>\n",
       "      <td>14.881764</td>\n",
       "      <td>-45.286603</td>\n",
       "      <td>60.168367</td>\n",
       "      <td>9.256338</td>\n",
       "    </tr>\n",
       "    <tr>\n",
       "      <th>2017-05-31</th>\n",
       "      <td>1.303331</td>\n",
       "      <td>3.309119</td>\n",
       "      <td>3.0</td>\n",
       "      <td>683</td>\n",
       "      <td>32.726410</td>\n",
       "      <td>-45.730167</td>\n",
       "      <td>78.456577</td>\n",
       "      <td>9.244151</td>\n",
       "    </tr>\n",
       "    <tr>\n",
       "      <th>2017-06-30</th>\n",
       "      <td>4.151970</td>\n",
       "      <td>4.623129</td>\n",
       "      <td>6.0</td>\n",
       "      <td>692</td>\n",
       "      <td>58.898572</td>\n",
       "      <td>-59.413712</td>\n",
       "      <td>118.312283</td>\n",
       "      <td>8.191874</td>\n",
       "    </tr>\n",
       "    <tr>\n",
       "      <th>2017-07-31</th>\n",
       "      <td>7.376505</td>\n",
       "      <td>6.517395</td>\n",
       "      <td>6.0</td>\n",
       "      <td>309</td>\n",
       "      <td>21.100500</td>\n",
       "      <td>-14.259253</td>\n",
       "      <td>35.359753</td>\n",
       "      <td>3.455523</td>\n",
       "    </tr>\n",
       "  </tbody>\n",
       "</table>\n",
       "</div>"
      ],
      "text/plain": [
       "               means   medians  modes  counts       maxs       mins  \\\n",
       "2017-03-31 -0.675956  1.908380    2.0     669  16.838511 -55.338199   \n",
       "2017-04-30 -0.003838  2.686340    3.0     582  14.881764 -45.286603   \n",
       "2017-05-31  1.303331  3.309119    3.0     683  32.726410 -45.730167   \n",
       "2017-06-30  4.151970  4.623129    6.0     692  58.898572 -59.413712   \n",
       "2017-07-31  7.376505  6.517395    6.0     309  21.100500 -14.259253   \n",
       "\n",
       "                ranges       stds  \n",
       "2017-03-31   72.176710  10.740207  \n",
       "2017-04-30   60.168367   9.256338  \n",
       "2017-05-31   78.456577   9.244151  \n",
       "2017-06-30  118.312283   8.191874  \n",
       "2017-07-31   35.359753   3.455523  "
      ]
     },
     "execution_count": 10,
     "metadata": {},
     "output_type": "execute_result"
    }
   ],
   "source": [
    "resampled_month_df.head()"
   ]
  },
  {
   "cell_type": "code",
   "execution_count": 11,
   "metadata": {},
   "outputs": [
    {
     "data": {
      "text/plain": [
       "<matplotlib.legend.Legend at 0x7f10ef312240>"
      ]
     },
     "execution_count": 11,
     "metadata": {},
     "output_type": "execute_result"
    },
    {
     "data": {
      "image/png": "[encoded data removed]",
      "text/plain": [
       "<Figure size 432x288 with 1 Axes>"
      ]
     },
     "metadata": {
      "needs_background": "light"
     },
     "output_type": "display_data"
    }
   ],
   "source": [
    "resampled_month_df.means.plot()\n",
    "resampled_month_df.medians.plot()\n",
    "resampled_month_df.modes.plot()\n",
    "resampled_month_df.mins.plot()\n",
    "resampled_month_df.maxs.plot()\n",
    "resampled_month_df.ranges.plot()\n",
    "resampled_month_df.stds.plot()\n",
    "\n",
    "plt.legend()"
   ]
  },
  {
   "cell_type": "code",
   "execution_count": null,
   "metadata": {},
   "outputs": [],
   "source": []
  }
 ],
 "metadata": {
  "kernelspec": {
   "display_name": "goes-linux",
   "language": "python",
   "name": "goes-linux"
  },
  "language_info": {
   "codemirror_mode": {
    "name": "ipython",
    "version": 3
   },
   "file_extension": ".py",
   "mimetype": "text/x-python",
   "name": "python",
   "nbconvert_exporter": "python",
   "pygments_lexer": "ipython3",
   "version": "3.6.9"
  }
 },
 "nbformat": 4,
 "nbformat_minor": 4
}
