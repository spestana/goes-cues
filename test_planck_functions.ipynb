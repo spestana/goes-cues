{
 "cells": [
  {
   "cell_type": "code",
   "execution_count": 1,
   "metadata": {},
   "outputs": [],
   "source": [
    "import goes_utils\n",
    "import numpy as np\n",
    "import matplotlib.pyplot as plt"
   ]
  },
  {
   "cell_type": "markdown",
   "metadata": {},
   "source": [
    "---\n",
    "Test Planck and Inverse Planck functions"
   ]
  },
  {
   "cell_type": "code",
   "execution_count": 2,
   "metadata": {},
   "outputs": [
    {
     "name": "stdout",
     "output_type": "stream",
     "text": [
      "290.0\n"
     ]
    }
   ],
   "source": [
    "T = 290\n",
    "wavelength_meters = 11.2e-6\n",
    "L = goes_utils.planck(wavelength_meters, T)\n",
    "Tb = goes_utils.planckinv(wavelength_meters, L)\n",
    "print(Tb)"
   ]
  },
  {
   "cell_type": "markdown",
   "metadata": {},
   "source": [
    "---\n",
    "Test two-fraction mixed pixel"
   ]
  },
  {
   "cell_type": "code",
   "execution_count": 3,
   "metadata": {},
   "outputs": [],
   "source": [
    "f_1 = 0.1 # fraction of pixel that is at temperature  T_1\n",
    "f_2 = 1 - f_1 # fraction of pixel that is at temperature T_2\n",
    "\n",
    "wavelength_meters = 11.2e-6 # central wavelength of GOES-R ABI band 14 11.2 microns\n",
    "goes_abi_band = 14 # simulate Tb seen by GOES-R ABI band 14 (centered around 11.2 microns)"
   ]
  },
  {
   "cell_type": "code",
   "execution_count": 4,
   "metadata": {},
   "outputs": [
    {
     "name": "stdout",
     "output_type": "stream",
     "text": [
      "1: fraction=0.1, temperature=290, emissivity=0.98, radiance=102.25261441643576, brightness temperature=290.13079476906086\n",
      "\n"
     ]
    }
   ],
   "source": [
    "# thermodynamic temperature of T_1\n",
    "T_1 = 290\n",
    "# emissivity of 1\n",
    "e_1 = 0.98\n",
    "# compute radiance around 11 micron wavelength emitted by the surface at T_1\n",
    "_rad_1 = goes_utils.planck(wavelength_meters, T_1) # in [W m-2 sr-1 m-1]\n",
    "# convert radiance from [W m-2 sr-1 m-1] to [mW m-2 sr-1 (cm-1)-1]\n",
    "rad_1 = goes_utils.convert_radiance_units(_rad_1, wavelength_meters) # in [mW m-2 sr-1 (cm-1)-1]\n",
    "# convert this radiance to a brightness temperature that GOES ABI band 14 would see\n",
    "Tb_1 = goes_utils.goesBrightnessTemp(rad_1, band=goes_abi_band)\n",
    "\n",
    "print(f\"1: fraction={f_1}, temperature={T_1}, emissivity={e_1}, radiance={rad_1}, brightness temperature={Tb_1}\\n\")"
   ]
  },
  {
   "cell_type": "code",
   "execution_count": 5,
   "metadata": {},
   "outputs": [
    {
     "name": "stdout",
     "output_type": "stream",
     "text": [
      "2: fraction=0.9, temperature=273.15, emissivity=0.98, radiance=77.57978084409156, brightness temperature=273.27306612409325\n",
      "\n"
     ]
    }
   ],
   "source": [
    "# thermodynamic temperature of T_2\n",
    "T_2 = 273.15\n",
    "# emissivity of 2\n",
    "e_2 = 0.98\n",
    "# compute radiance around 11 micron wavelength emitted by the surface at T_2\n",
    "_rad_2 = goes_utils.planck(wavelength_meters, T_2) # in [W m-2 sr-1 m-1]\n",
    "#_rad_2 = goes_utils.planck_um(wavelength_meters*1e6, T_2)*1e6 # in [W m-2 sr-1 um-1]\n",
    "# convert radiance from [W m-2 sr-1 m-1] to [mW m-2 sr-1 (cm-1)-1]\n",
    "rad_2 = goes_utils.convert_radiance_units(_rad_2, wavelength_meters) # in [mW m-2 sr-1 (cm-1)-1]\n",
    "# convert this radiance to a brightness temperature that GOES ABI band 14 would see\n",
    "Tb_2 = goes_utils.goesBrightnessTemp(rad_2, band=goes_abi_band)\n",
    "\n",
    "print(f\"2: fraction={f_2}, temperature={T_2}, emissivity={e_2}, radiance={rad_2}, brightness temperature={Tb_2}\\n\")"
   ]
  },
  {
   "cell_type": "code",
   "execution_count": 6,
   "metadata": {},
   "outputs": [
    {
     "name": "stdout",
     "output_type": "stream",
     "text": [
      "Total: radiance=78.44612291729946, brightness temperature=273.91399614244665\n"
     ]
    }
   ],
   "source": [
    "# make a \"surface radiance\" which is a linear combination of rad_snow and rad_veg, weighted by f_veg\n",
    "rad_total = f_1*e_1*rad_1 + f_2*e_2*rad_2\n",
    "# convert this surface radiance to a surface brightness temperature that GOES ABI band 14 would see\n",
    "Tb_total = goes_utils.goesBrightnessTemp(rad_total, band=goes_abi_band)\n",
    "\n",
    "print(f\"Total: radiance={rad_total}, brightness temperature={Tb_total}\")"
   ]
  },
  {
   "cell_type": "code",
   "execution_count": null,
   "metadata": {},
   "outputs": [],
   "source": []
  }
 ],
 "metadata": {
  "kernelspec": {
   "display_name": "goes-linux",
   "language": "python",
   "name": "goes-linux"
  },
  "language_info": {
   "codemirror_mode": {
    "name": "ipython",
    "version": 3
   },
   "file_extension": ".py",
   "mimetype": "text/x-python",
   "name": "python",
   "nbconvert_exporter": "python",
   "pygments_lexer": "ipython3",
   "version": "3.6.9"
  }
 },
 "nbformat": 4,
 "nbformat_minor": 4
}
