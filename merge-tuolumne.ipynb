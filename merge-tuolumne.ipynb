{
 "cells": [
  {
   "cell_type": "markdown",
   "metadata": {},
   "source": [
    "# Merge Tuolumne (Gaylor Pit) files together\n",
    "\n",
    "Read in our Gaylor Pit data files and merge together"
   ]
  },
  {
   "cell_type": "code",
   "execution_count": 1,
   "metadata": {},
   "outputs": [],
   "source": [
    "import pandas as pd\n",
    "import numpy as np\n",
    "import os\n",
    "import datetime as dt\n",
    "import xarray as xr\n",
    "import glob\n",
    "\n",
    "import matplotlib.pyplot as plt\n",
    "%matplotlib inline"
   ]
  },
  {
   "cell_type": "markdown",
   "metadata": {},
   "source": [
    "---\n",
    "#### Open Tuolumne (Gaylor Pit) data files:"
   ]
  },
  {
   "cell_type": "code",
   "execution_count": 2,
   "metadata": {},
   "outputs": [],
   "source": [
    "# 2017, and data cleanup\n",
    "tuolumne_gaylor_pit_2017 = pd.read_csv('data/tuolumne_gaylor_pit/GaylorPit2017_039_T15min.csv')\n",
    "tuolumne_gaylor_pit_2017.rename(columns={'TIMESTAMP':'time', 'TT_C': 'tss'}, inplace=True)\n",
    "tuolumne_gaylor_pit_2017['time'] = pd.to_datetime(tuolumne_gaylor_pit_2017.time)\n",
    "tuolumne_gaylor_pit_2017.set_index('time', inplace=True)\n",
    "tuolumne_gaylor_pit_2017['air_temp_c'] = (tuolumne_gaylor_pit_2017.Judd_Air_TempF- 32) / 1.8\n",
    "tuolumne_gaylor_pit_2017['depth_cm'] = tuolumne_gaylor_pit_2017.Judd_Depth_in * 2.54\n",
    "#tuolumne_gaylor_pit_2017.head()"
   ]
  },
  {
   "cell_type": "code",
   "execution_count": 3,
   "metadata": {},
   "outputs": [],
   "source": [
    "# 2018, and data cleanup\n",
    "tuolumne_gaylor_pit_2018 = pd.read_csv('data/tuolumne_gaylor_pit/GaylorPit2018_039_T15min.csv', sep='\\t', skiprows=[0])\n",
    "tuolumne_gaylor_pit_2018.rename(columns={'TIMESTAMP [TS]':'time', 'TT_C [Deg C]': 'tss'}, inplace=True)\n",
    "tuolumne_gaylor_pit_2018['time'] = pd.to_datetime(tuolumne_gaylor_pit_2018.time)\n",
    "tuolumne_gaylor_pit_2018.set_index('time', inplace=True)\n",
    "tuolumne_gaylor_pit_2018['air_temp_c'] = (tuolumne_gaylor_pit_2018['Judd_Air_TempF [Deg F]']- 32) / 1.8\n",
    "tuolumne_gaylor_pit_2018['depth_cm'] = tuolumne_gaylor_pit_2018['Judd_Depth [Inches]'] * 2.54\n",
    "#tuolumne_gaylor_pit_2018.head()"
   ]
  },
  {
   "cell_type": "code",
   "execution_count": 4,
   "metadata": {},
   "outputs": [],
   "source": [
    "# 2019, and data cleanup\n",
    "tuolumne_gaylor_pit_2019 = pd.read_csv('data/tuolumne_gaylor_pit/GaylorPit2019_039_T15min.csv')\n",
    "tuolumne_gaylor_pit_2019.rename(columns={'TIMESTAMP':'time', 'TT_C': 'tss'}, inplace=True)\n",
    "tuolumne_gaylor_pit_2019['time'] = pd.to_datetime(tuolumne_gaylor_pit_2019.time)\n",
    "tuolumne_gaylor_pit_2019.set_index('time', inplace=True)\n",
    "tuolumne_gaylor_pit_2019['air_temp_c'] = (tuolumne_gaylor_pit_2019['Judd_Air_TempF']- 32) / 1.8\n",
    "tuolumne_gaylor_pit_2019['depth_cm'] = tuolumne_gaylor_pit_2019['Judd_Depth [inches]'] * 2.54\n",
    "#tuolumne_gaylor_pit_2019.head()"
   ]
  },
  {
   "cell_type": "code",
   "execution_count": 5,
   "metadata": {},
   "outputs": [
    {
     "name": "stderr",
     "output_type": "stream",
     "text": [
      "/home/spestana/opt/anaconda3/envs/goes-linux/lib/python3.6/site-packages/IPython/core/interactiveshell.py:3072: DtypeWarning: Columns (8,10) have mixed types. Specify dtype option on import or set low_memory=False.\n",
      "  interactivity=interactivity, compiler=compiler, result=result)\n"
     ]
    }
   ],
   "source": [
    "# 2020, and cleanup\n",
    "tuolumne_gaylor_pit_2020 = pd.read_csv('data/tuolumne_gaylor_pit/GaylorPit2020_039_T15min.csv')\n",
    "tuolumne_gaylor_pit_2020.rename(columns={'TIMESTAMP':'time'}, inplace=True)\n",
    "tuolumne_gaylor_pit_2020['tss'] = pd.to_numeric(tuolumne_gaylor_pit_2020.TT_C, errors='coerce')\n",
    "tuolumne_gaylor_pit_2020['time'] = pd.to_datetime(tuolumne_gaylor_pit_2020.time)\n",
    "tuolumne_gaylor_pit_2020.set_index('time', inplace=True)\n",
    "tuolumne_gaylor_pit_2020['air_temp_c'] = (tuolumne_gaylor_pit_2020['Judd_Air_TempF']- 32) / 1.8\n",
    "tuolumne_gaylor_pit_2020['depth_cm'] = tuolumne_gaylor_pit_2020['Judd_Depth [inches]'] * 2.54\n",
    "#tuolumne_gaylor_pit_2020.head()"
   ]
  },
  {
   "cell_type": "markdown",
   "metadata": {},
   "source": [
    "Drop columns we don't need. (Also, 2018's data is also contained in the 2019 file, so we can ignore the separate 2018 file here)"
   ]
  },
  {
   "cell_type": "code",
   "execution_count": 6,
   "metadata": {},
   "outputs": [],
   "source": [
    "_tuolumne_gaylor_pit_2017 = tuolumne_gaylor_pit_2017.drop(['RECORD', 'BattV', 'PTemp_C', 'SBT_C', 'Judd_Air_TempF', 'Judd_Depth_in'], axis=1)\n",
    "_tuolumne_gaylor_pit_2019 = tuolumne_gaylor_pit_2019.drop(['RECORD', 'BattV', 'PTemp_C', 'SBT_C', 'Judd_Air_TempF', 'Judd_Depth [inches]', 'WindSpeed [mph]', 'WindDirection'], axis=1)\n",
    "_tuolumne_gaylor_pit_2020 = tuolumne_gaylor_pit_2020.drop(['RECORD', 'BattV', 'PTemp_C', 'TT_C', 'SBT_C', 'Judd_Air_TempF','Judd_Depth [inches]', 'WindSpeed [mph]', 'WindDirection'], axis=1)"
   ]
  },
  {
   "cell_type": "markdown",
   "metadata": {},
   "source": [
    "Concatenate the dataframes together into one. Then Convert to xarray data array."
   ]
  },
  {
   "cell_type": "code",
   "execution_count": 7,
   "metadata": {},
   "outputs": [
    {
     "name": "stderr",
     "output_type": "stream",
     "text": [
      "/home/spestana/opt/anaconda3/envs/goes-linux/lib/python3.6/site-packages/ipykernel_launcher.py:1: FutureWarning: Sorting because non-concatenation axis is not aligned. A future version\n",
      "of pandas will change to not sort by default.\n",
      "\n",
      "To accept the future behavior, pass 'sort=False'.\n",
      "\n",
      "To retain the current behavior and silence the warning, pass 'sort=True'.\n",
      "\n",
      "  \"\"\"Entry point for launching an IPython kernel.\n"
     ]
    }
   ],
   "source": [
    "tuol_df = pd.concat([_tuolumne_gaylor_pit_2017, _tuolumne_gaylor_pit_2019, _tuolumne_gaylor_pit_2020])\n",
    "# sortby index\n",
    "tuol_df.sort_index(inplace=True)\n",
    "# correct the datatype of solar radiation up and down\n",
    "tuol_df['SlrkW_up [kW/m^2]'] = pd.to_numeric(tuol_df['SlrkW_up [kW/m^2]'], errors='coerce')\n",
    "tuol_df['SlrkW_dwn [kW/m^2]'] = pd.to_numeric(tuol_df['SlrkW_dwn [kW/m^2]'], errors='coerce')\n",
    "# save out to a file\n",
    "tuol_df.to_pickle('data/GaylorPit_Temp_Snowdepth_2017-2020.pkl')"
   ]
  },
  {
   "cell_type": "code",
   "execution_count": null,
   "metadata": {},
   "outputs": [],
   "source": []
  }
 ],
 "metadata": {
  "kernelspec": {
   "display_name": "goes-linux",
   "language": "python",
   "name": "goes-linux"
  },
  "language_info": {
   "codemirror_mode": {
    "name": "ipython",
    "version": 3
   },
   "file_extension": ".py",
   "mimetype": "text/x-python",
   "name": "python",
   "nbconvert_exporter": "python",
   "pygments_lexer": "ipython3",
   "version": "3.6.9"
  }
 },
 "nbformat": 4,
 "nbformat_minor": 4
}
