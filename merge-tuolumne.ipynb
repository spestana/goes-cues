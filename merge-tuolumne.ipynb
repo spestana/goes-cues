{
 "cells": [
  {
   "cell_type": "markdown",
   "metadata": {},
   "source": [
    "# Merge Tuolumne (Gaylor Pit) files together\n",
    "\n",
    "Read in our Gaylor Pit data files and merge together"
   ]
  },
  {
   "cell_type": "code",
   "execution_count": 1,
   "metadata": {},
   "outputs": [],
   "source": [
    "import pandas as pd\n",
    "import numpy as np\n",
    "import os\n",
    "import datetime as dt\n",
    "import xarray as xr\n",
    "import glob\n",
    "\n",
    "import matplotlib.pyplot as plt\n",
    "%matplotlib inline"
   ]
  },
  {
   "cell_type": "markdown",
   "metadata": {},
   "source": [
    "---\n",
    "#### Open Tuolumne (Gaylor Pit) data files:"
   ]
  },
  {
   "cell_type": "code",
   "execution_count": 2,
   "metadata": {},
   "outputs": [],
   "source": [
    "# 2017, and data cleanup\n",
    "tuolumne_gaylor_pit_2017 = pd.read_csv('data/tuolumne_gaylor_pit/GaylorPit2017_039_T15min.csv')\n",
    "tuolumne_gaylor_pit_2017.rename(columns={'TIMESTAMP':'time', 'TT_C': 'tss'}, inplace=True)\n",
    "tuolumne_gaylor_pit_2017['time'] = pd.to_datetime(tuolumne_gaylor_pit_2017.time)\n",
    "tuolumne_gaylor_pit_2017.set_index('time', inplace=True)\n",
    "tuolumne_gaylor_pit_2017['air_temp_c'] = (tuolumne_gaylor_pit_2017.Judd_Air_TempF- 32) / 1.8\n",
    "tuolumne_gaylor_pit_2017['depth_cm'] = tuolumne_gaylor_pit_2017.Judd_Depth_in * 2.54\n",
    "#tuolumne_gaylor_pit_2017.head()"
   ]
  },
  {
   "cell_type": "code",
   "execution_count": 3,
   "metadata": {},
   "outputs": [],
   "source": [
    "# 2018, and data cleanup\n",
    "tuolumne_gaylor_pit_2018 = pd.read_csv('data/tuolumne_gaylor_pit/GaylorPit2018_039_T15min.csv', sep='\\t', skiprows=[0])\n",
    "tuolumne_gaylor_pit_2018.rename(columns={'TIMESTAMP [TS]':'time', 'TT_C [Deg C]': 'tss'}, inplace=True)\n",
    "tuolumne_gaylor_pit_2018['time'] = pd.to_datetime(tuolumne_gaylor_pit_2018.time)\n",
    "tuolumne_gaylor_pit_2018.set_index('time', inplace=True)\n",
    "tuolumne_gaylor_pit_2018['air_temp_c'] = (tuolumne_gaylor_pit_2018['Judd_Air_TempF [Deg F]']- 32) / 1.8\n",
    "tuolumne_gaylor_pit_2018['depth_cm'] = tuolumne_gaylor_pit_2018['Judd_Depth [Inches]'] * 2.54\n",
    "#tuolumne_gaylor_pit_2018.head()"
   ]
  },
  {
   "cell_type": "code",
   "execution_count": 4,
   "metadata": {},
   "outputs": [],
   "source": [
    "# 2019, and data cleanup\n",
    "tuolumne_gaylor_pit_2019 = pd.read_csv('data/tuolumne_gaylor_pit/GaylorPit2019_039_T15min.csv')\n",
    "tuolumne_gaylor_pit_2019.rename(columns={'TIMESTAMP':'time', 'TT_C': 'tss'}, inplace=True)\n",
    "tuolumne_gaylor_pit_2019['time'] = pd.to_datetime(tuolumne_gaylor_pit_2019.time)\n",
    "tuolumne_gaylor_pit_2019.set_index('time', inplace=True)\n",
    "tuolumne_gaylor_pit_2019['air_temp_c'] = (tuolumne_gaylor_pit_2019['Judd_Air_TempF']- 32) / 1.8\n",
    "tuolumne_gaylor_pit_2019['depth_cm'] = tuolumne_gaylor_pit_2019['Judd_Depth [inches]'] * 2.54\n",
    "#tuolumne_gaylor_pit_2019.head()"
   ]
  },
  {
   "cell_type": "code",
   "execution_count": 5,
   "metadata": {},
   "outputs": [
    {
     "name": "stderr",
     "output_type": "stream",
     "text": [
      "/home/spestana/opt/anaconda3/envs/goes-linux/lib/python3.6/site-packages/IPython/core/interactiveshell.py:3072: DtypeWarning: Columns (8,10) have mixed types. Specify dtype option on import or set low_memory=False.\n",
      "  interactivity=interactivity, compiler=compiler, result=result)\n"
     ]
    }
   ],
   "source": [
    "# 2020, and cleanup\n",
    "tuolumne_gaylor_pit_2020 = pd.read_csv('data/tuolumne_gaylor_pit/GaylorPit2020_039_T15min.csv')\n",
    "tuolumne_gaylor_pit_2020.rename(columns={'TIMESTAMP':'time'}, inplace=True)\n",
    "tuolumne_gaylor_pit_2020['tss'] = pd.to_numeric(tuolumne_gaylor_pit_2020.TT_C, errors='coerce')\n",
    "tuolumne_gaylor_pit_2020['time'] = pd.to_datetime(tuolumne_gaylor_pit_2020.time)\n",
    "tuolumne_gaylor_pit_2020.set_index('time', inplace=True)\n",
    "tuolumne_gaylor_pit_2020['air_temp_c'] = (tuolumne_gaylor_pit_2020['Judd_Air_TempF']- 32) / 1.8\n",
    "tuolumne_gaylor_pit_2020['depth_cm'] = tuolumne_gaylor_pit_2020['Judd_Depth [inches]'] * 2.54\n",
    "#tuolumne_gaylor_pit_2020.head()"
   ]
  },
  {
   "cell_type": "markdown",
   "metadata": {},
   "source": [
    "Drop columns we don't need. (Also, 2018's data is also contained in the 2019 file, so we can ignore the separate 2018 file here)"
   ]
  },
  {
   "cell_type": "code",
   "execution_count": 6,
   "metadata": {},
   "outputs": [],
   "source": [
    "_tuolumne_gaylor_pit_2017 = tuolumne_gaylor_pit_2017.drop(['RECORD', 'BattV', 'PTemp_C', 'SBT_C', 'Judd_Air_TempF', 'Judd_Depth_in'], axis=1)\n",
    "_tuolumne_gaylor_pit_2019 = tuolumne_gaylor_pit_2019.drop(['RECORD', 'BattV', 'PTemp_C', 'SBT_C', 'Judd_Air_TempF', 'Judd_Depth [inches]', 'SlrkW_up [kW/m^2]', 'SlrkW_dwn [kW/m^2]','WindSpeed [mph]', 'WindDirection'], axis=1)\n",
    "_tuolumne_gaylor_pit_2020 = tuolumne_gaylor_pit_2020.drop(['RECORD', 'BattV', 'PTemp_C', 'TT_C', 'SBT_C', 'Judd_Air_TempF','Judd_Depth [inches]', 'SlrkW_up [kW/m^2]', 'SlrkW_dwn [kW/m^2]','WindSpeed [mph]', 'WindDirection'], axis=1)"
   ]
  },
  {
   "cell_type": "markdown",
   "metadata": {},
   "source": [
    "Concatenate the dataframes together into one. Then Convert to xarray data array."
   ]
  },
  {
   "cell_type": "code",
   "execution_count": 7,
   "metadata": {},
   "outputs": [],
   "source": [
    "tuol_df = pd.concat([_tuolumne_gaylor_pit_2017, _tuolumne_gaylor_pit_2019, _tuolumne_gaylor_pit_2020])\n",
    "# sortby index\n",
    "tuol_df.sort_index(inplace=True)\n",
    "# save out to a file\n",
    "tuol_df.to_pickle('data/GaylorPit_Temp_Snowdepth_2017-2020.pkl')"
   ]
  },
  {
   "cell_type": "code",
   "execution_count": 8,
   "metadata": {},
   "outputs": [
    {
     "data": {
      "text/html": [
       "<div>\n",
       "<style scoped>\n",
       "    .dataframe tbody tr th:only-of-type {\n",
       "        vertical-align: middle;\n",
       "    }\n",
       "\n",
       "    .dataframe tbody tr th {\n",
       "        vertical-align: top;\n",
       "    }\n",
       "\n",
       "    .dataframe thead th {\n",
       "        text-align: right;\n",
       "    }\n",
       "</style>\n",
       "<table border=\"1\" class=\"dataframe\">\n",
       "  <thead>\n",
       "    <tr style=\"text-align: right;\">\n",
       "      <th></th>\n",
       "      <th>tss</th>\n",
       "      <th>air_temp_c</th>\n",
       "      <th>depth_cm</th>\n",
       "    </tr>\n",
       "    <tr>\n",
       "      <th>time</th>\n",
       "      <th></th>\n",
       "      <th></th>\n",
       "      <th></th>\n",
       "    </tr>\n",
       "  </thead>\n",
       "  <tbody>\n",
       "    <tr>\n",
       "      <th>2015-09-29 10:00:00</th>\n",
       "      <td>16.93</td>\n",
       "      <td>14.405556</td>\n",
       "      <td>144.62760</td>\n",
       "    </tr>\n",
       "    <tr>\n",
       "      <th>2015-09-29 10:15:00</th>\n",
       "      <td>17.17</td>\n",
       "      <td>14.811111</td>\n",
       "      <td>1.84912</td>\n",
       "    </tr>\n",
       "    <tr>\n",
       "      <th>2015-09-29 10:30:00</th>\n",
       "      <td>19.73</td>\n",
       "      <td>15.888889</td>\n",
       "      <td>2.01676</td>\n",
       "    </tr>\n",
       "    <tr>\n",
       "      <th>2015-09-29 10:45:00</th>\n",
       "      <td>22.59</td>\n",
       "      <td>16.900000</td>\n",
       "      <td>0.83820</td>\n",
       "    </tr>\n",
       "    <tr>\n",
       "      <th>2015-09-29 11:00:00</th>\n",
       "      <td>25.51</td>\n",
       "      <td>17.911111</td>\n",
       "      <td>0.50292</td>\n",
       "    </tr>\n",
       "    <tr>\n",
       "      <th>...</th>\n",
       "      <td>...</td>\n",
       "      <td>...</td>\n",
       "      <td>...</td>\n",
       "    </tr>\n",
       "    <tr>\n",
       "      <th>2020-08-20 12:30:00</th>\n",
       "      <td>44.02</td>\n",
       "      <td>23.533333</td>\n",
       "      <td>-1.71704</td>\n",
       "    </tr>\n",
       "    <tr>\n",
       "      <th>2020-08-20 12:45:00</th>\n",
       "      <td>42.58</td>\n",
       "      <td>22.055556</td>\n",
       "      <td>1.14046</td>\n",
       "    </tr>\n",
       "    <tr>\n",
       "      <th>2020-08-20 13:00:00</th>\n",
       "      <td>43.37</td>\n",
       "      <td>23.000000</td>\n",
       "      <td>0.97282</td>\n",
       "    </tr>\n",
       "    <tr>\n",
       "      <th>2020-08-20 13:15:00</th>\n",
       "      <td>43.81</td>\n",
       "      <td>23.533333</td>\n",
       "      <td>-1.21412</td>\n",
       "    </tr>\n",
       "    <tr>\n",
       "      <th>2020-08-20 13:30:00</th>\n",
       "      <td>43.00</td>\n",
       "      <td>23.533333</td>\n",
       "      <td>-1.38176</td>\n",
       "    </tr>\n",
       "  </tbody>\n",
       "</table>\n",
       "<p>220800 rows × 3 columns</p>\n",
       "</div>"
      ],
      "text/plain": [
       "                       tss  air_temp_c   depth_cm\n",
       "time                                             \n",
       "2015-09-29 10:00:00  16.93   14.405556  144.62760\n",
       "2015-09-29 10:15:00  17.17   14.811111    1.84912\n",
       "2015-09-29 10:30:00  19.73   15.888889    2.01676\n",
       "2015-09-29 10:45:00  22.59   16.900000    0.83820\n",
       "2015-09-29 11:00:00  25.51   17.911111    0.50292\n",
       "...                    ...         ...        ...\n",
       "2020-08-20 12:30:00  44.02   23.533333   -1.71704\n",
       "2020-08-20 12:45:00  42.58   22.055556    1.14046\n",
       "2020-08-20 13:00:00  43.37   23.000000    0.97282\n",
       "2020-08-20 13:15:00  43.81   23.533333   -1.21412\n",
       "2020-08-20 13:30:00  43.00   23.533333   -1.38176\n",
       "\n",
       "[220800 rows x 3 columns]"
      ]
     },
     "execution_count": 8,
     "metadata": {},
     "output_type": "execute_result"
    }
   ],
   "source": [
    "tuol_df"
   ]
  },
  {
   "cell_type": "code",
   "execution_count": 9,
   "metadata": {},
   "outputs": [
    {
     "data": {
      "text/plain": [
       "<matplotlib.axes._subplots.AxesSubplot at 0x7f582c66a978>"
      ]
     },
     "execution_count": 9,
     "metadata": {},
     "output_type": "execute_result"
    },
    {
     "data": {
      "image/png": "[encoded data removed]",
      "text/plain": [
       "<Figure size 432x288 with 1 Axes>"
      ]
     },
     "metadata": {
      "needs_background": "light"
     },
     "output_type": "display_data"
    }
   ],
   "source": [
    "tuol_df.tss.plot()"
   ]
  },
  {
   "cell_type": "code",
   "execution_count": null,
   "metadata": {},
   "outputs": [],
   "source": []
  }
 ],
 "metadata": {
  "kernelspec": {
   "display_name": "goes-linux",
   "language": "python",
   "name": "goes-linux"
  },
  "language_info": {
   "codemirror_mode": {
    "name": "ipython",
    "version": 3
   },
   "file_extension": ".py",
   "mimetype": "text/x-python",
   "name": "python",
   "nbconvert_exporter": "python",
   "pygments_lexer": "ipython3",
   "version": "3.6.9"
  }
 },
 "nbformat": 4,
 "nbformat_minor": 4
}
