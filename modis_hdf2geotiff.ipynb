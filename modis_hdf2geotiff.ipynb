{
 "cells": [
  {
   "cell_type": "markdown",
   "metadata": {},
   "source": [
    "# modis_hdf2nc"
   ]
  },
  {
   "cell_type": "code",
   "execution_count": 1,
   "metadata": {},
   "outputs": [],
   "source": [
    "# Creates a GeoTIFF file from a collection of MODIS observations.\n",
    "\n",
    "# Input datasets (HDF format):\n",
    "# - MxD021KM ()\n",
    "\n",
    "\n",
    "import xarray as xr\n",
    "import numpy as np\n",
    "import pandas as pd\n",
    "import os\n",
    "import glob\n",
    "import gdal"
   ]
  },
  {
   "cell_type": "code",
   "execution_count": 2,
   "metadata": {},
   "outputs": [],
   "source": [
    "modis_dir = '/storage/MODIS/Tuolumne_MOD021KM'\n",
    "\n",
    "modis_searchDir = os.path.normpath(modis_dir)"
   ]
  },
  {
   "cell_type": "code",
   "execution_count": 3,
   "metadata": {},
   "outputs": [
    {
     "name": "stdout",
     "output_type": "stream",
     "text": [
      "\n",
      "\n",
      "Found 89 MODIS files, 89 GEO files\n"
     ]
    }
   ],
   "source": [
    "#-----------------------READ IN FILES----------------------------#\n",
    "print('\\n')\n",
    "\n",
    "# Search specified directories for HDF files\n",
    "modis_file_list = glob.glob(modis_searchDir+'/**/*.hdf', recursive=True)\n",
    "\n",
    "print('Found {} MODIS files, {} GEO files'.format(len(modis_file_list),len(modis_geo_file_list)))"
   ]
  },
  {
   "cell_type": "markdown",
   "metadata": {},
   "source": [
    "For each MOD021KM hdf file, convert to geotiff with gdal:"
   ]
  },
  {
   "cell_type": "code",
   "execution_count": 110,
   "metadata": {
    "scrolled": false
   },
   "outputs": [
    {
     "name": "stdout",
     "output_type": "stream",
     "text": [
      "gdalwarp HDF4_SDS:UNKNOWN:\"/storage/MODIS/Tuolumne_MOD021KM/MOD021KM.A2017063.0510.061.2017312091343.hdf\":4 /storage/MODIS/Tuolumne_MOD021KM/MOD021KM.A2017063.0510.061.2017312091343.tif -of Gtiff -t_srs 'EPSG:4326'\n",
      "gdalwarp HDF4_SDS:UNKNOWN:\"/storage/MODIS/Tuolumne_MOD021KM/MOD021KM.A2017063.1850.061.2017312092219.hdf\":4 /storage/MODIS/Tuolumne_MOD021KM/MOD021KM.A2017063.1850.061.2017312092219.tif -of Gtiff -t_srs 'EPSG:4326'\n",
      "gdalwarp HDF4_SDS:UNKNOWN:\"/storage/MODIS/Tuolumne_MOD021KM/MOD021KM.A2017079.0510.061.2017313020524.hdf\":4 /storage/MODIS/Tuolumne_MOD021KM/MOD021KM.A2017079.0510.061.2017313020524.tif -of Gtiff -t_srs 'EPSG:4326'\n",
      "gdalwarp HDF4_SDS:UNKNOWN:\"/storage/MODIS/Tuolumne_MOD021KM/MOD021KM.A2017079.1850.061.2017313021934.hdf\":4 /storage/MODIS/Tuolumne_MOD021KM/MOD021KM.A2017079.1850.061.2017313021934.tif -of Gtiff -t_srs 'EPSG:4326'\n",
      "gdalwarp HDF4_SDS:UNKNOWN:\"/storage/MODIS/Tuolumne_MOD021KM/MOD021KM.A2017111.0510.061.2017314050356.hdf\":4 /storage/MODIS/Tuolumne_MOD021KM/MOD021KM.A2017111.0510.061.2017314050356.tif -of Gtiff -t_srs 'EPSG:4326'\n",
      "gdalwarp HDF4_SDS:UNKNOWN:\"/storage/MODIS/Tuolumne_MOD021KM/MOD021KM.A2017111.1850.061.2017314062948.hdf\":4 /storage/MODIS/Tuolumne_MOD021KM/MOD021KM.A2017111.1850.061.2017314062948.tif -of Gtiff -t_srs 'EPSG:4326'\n",
      "gdalwarp HDF4_SDS:UNKNOWN:\"/storage/MODIS/Tuolumne_MOD021KM/MOD021KM.A2017143.0510.061.2017314141235.hdf\":4 /storage/MODIS/Tuolumne_MOD021KM/MOD021KM.A2017143.0510.061.2017314141235.tif -of Gtiff -t_srs 'EPSG:4326'\n",
      "gdalwarp HDF4_SDS:UNKNOWN:\"/storage/MODIS/Tuolumne_MOD021KM/MOD021KM.A2017143.1850.061.2017314142140.hdf\":4 /storage/MODIS/Tuolumne_MOD021KM/MOD021KM.A2017143.1850.061.2017314142140.tif -of Gtiff -t_srs 'EPSG:4326'\n",
      "gdalwarp HDF4_SDS:UNKNOWN:\"/storage/MODIS/Tuolumne_MOD021KM/MOD021KM.A2017158.1805.061.2017315001733.hdf\":4 /storage/MODIS/Tuolumne_MOD021KM/MOD021KM.A2017158.1805.061.2017315001733.tif -of Gtiff -t_srs 'EPSG:4326'\n",
      "gdalwarp HDF4_SDS:UNKNOWN:\"/storage/MODIS/Tuolumne_MOD021KM/MOD021KM.A2017167.0600.061.2017315012504.hdf\":4 /storage/MODIS/Tuolumne_MOD021KM/MOD021KM.A2017167.0600.061.2017315012504.tif -of Gtiff -t_srs 'EPSG:4326'\n",
      "gdalwarp HDF4_SDS:UNKNOWN:\"/storage/MODIS/Tuolumne_MOD021KM/MOD021KM.A2017167.1800.061.2017315012329.hdf\":4 /storage/MODIS/Tuolumne_MOD021KM/MOD021KM.A2017167.1800.061.2017315012329.tif -of Gtiff -t_srs 'EPSG:4326'\n",
      "gdalwarp HDF4_SDS:UNKNOWN:\"/storage/MODIS/Tuolumne_MOD021KM/MOD021KM.A2017264.0505.061.2017264150300.hdf\":4 /storage/MODIS/Tuolumne_MOD021KM/MOD021KM.A2017264.0505.061.2017264150300.tif -of Gtiff -t_srs 'EPSG:4326'\n",
      "gdalwarp HDF4_SDS:UNKNOWN:\"/storage/MODIS/Tuolumne_MOD021KM/MOD021KM.A2017264.1845.061.2017265073657.hdf\":4 /storage/MODIS/Tuolumne_MOD021KM/MOD021KM.A2017264.1845.061.2017265073657.tif -of Gtiff -t_srs 'EPSG:4326'\n",
      "gdalwarp HDF4_SDS:UNKNOWN:\"/storage/MODIS/Tuolumne_MOD021KM/MOD021KM.A2017311.0600.061.2017311193824.hdf\":4 /storage/MODIS/Tuolumne_MOD021KM/MOD021KM.A2017311.0600.061.2017311193824.tif -of Gtiff -t_srs 'EPSG:4326'\n",
      "gdalwarp HDF4_SDS:UNKNOWN:\"/storage/MODIS/Tuolumne_MOD021KM/MOD021KM.A2017311.1800.061.2017312072346.hdf\":4 /storage/MODIS/Tuolumne_MOD021KM/MOD021KM.A2017311.1800.061.2017312072346.tif -of Gtiff -t_srs 'EPSG:4326'\n",
      "gdalwarp HDF4_SDS:UNKNOWN:\"/storage/MODIS/Tuolumne_MOD021KM/MOD021KM.A2017334.1805.061.2017335072254.hdf\":4 /storage/MODIS/Tuolumne_MOD021KM/MOD021KM.A2017334.1805.061.2017335072254.tif -of Gtiff -t_srs 'EPSG:4326'\n",
      "gdalwarp HDF4_SDS:UNKNOWN:\"/storage/MODIS/Tuolumne_MOD021KM/MOD021KM.A2018003.0550.061.2018003133110.hdf\":4 /storage/MODIS/Tuolumne_MOD021KM/MOD021KM.A2018003.0550.061.2018003133110.tif -of Gtiff -t_srs 'EPSG:4326'\n",
      "gdalwarp HDF4_SDS:UNKNOWN:\"/storage/MODIS/Tuolumne_MOD021KM/MOD021KM.A2018003.0555.061.2018003133112.hdf\":4 /storage/MODIS/Tuolumne_MOD021KM/MOD021KM.A2018003.0555.061.2018003133112.tif -of Gtiff -t_srs 'EPSG:4326'\n",
      "gdalwarp HDF4_SDS:UNKNOWN:\"/storage/MODIS/Tuolumne_MOD021KM/MOD021KM.A2018003.1755.061.2018004013336.hdf\":4 /storage/MODIS/Tuolumne_MOD021KM/MOD021KM.A2018003.1755.061.2018004013336.tif -of Gtiff -t_srs 'EPSG:4326'\n",
      "gdalwarp HDF4_SDS:UNKNOWN:\"/storage/MODIS/Tuolumne_MOD021KM/MOD021KM.A2018082.0510.061.2018082211831.hdf\":4 /storage/MODIS/Tuolumne_MOD021KM/MOD021KM.A2018082.0510.061.2018082211831.tif -of Gtiff -t_srs 'EPSG:4326'\n",
      "gdalwarp HDF4_SDS:UNKNOWN:\"/storage/MODIS/Tuolumne_MOD021KM/MOD021KM.A2018082.1850.061.2018083074842.hdf\":4 /storage/MODIS/Tuolumne_MOD021KM/MOD021KM.A2018082.1850.061.2018083074842.tif -of Gtiff -t_srs 'EPSG:4326'\n",
      "gdalwarp HDF4_SDS:UNKNOWN:\"/storage/MODIS/Tuolumne_MOD021KM/MOD021KM.A2018098.0510.061.2018098131530.hdf\":4 /storage/MODIS/Tuolumne_MOD021KM/MOD021KM.A2018098.0510.061.2018098131530.tif -of Gtiff -t_srs 'EPSG:4326'\n",
      "gdalwarp HDF4_SDS:UNKNOWN:\"/storage/MODIS/Tuolumne_MOD021KM/MOD021KM.A2018098.1850.061.2018099073216.hdf\":4 /storage/MODIS/Tuolumne_MOD021KM/MOD021KM.A2018098.1850.061.2018099073216.tif -of Gtiff -t_srs 'EPSG:4326'\n",
      "gdalwarp HDF4_SDS:UNKNOWN:\"/storage/MODIS/Tuolumne_MOD021KM/MOD021KM.A2018137.0515.061.2018137134129.hdf\":4 /storage/MODIS/Tuolumne_MOD021KM/MOD021KM.A2018137.0515.061.2018137134129.tif -of Gtiff -t_srs 'EPSG:4326'\n",
      "gdalwarp HDF4_SDS:UNKNOWN:\"/storage/MODIS/Tuolumne_MOD021KM/MOD021KM.A2018137.1855.061.2018138100943.hdf\":4 /storage/MODIS/Tuolumne_MOD021KM/MOD021KM.A2018137.1855.061.2018138100943.tif -of Gtiff -t_srs 'EPSG:4326'\n",
      "gdalwarp HDF4_SDS:UNKNOWN:\"/storage/MODIS/Tuolumne_MOD021KM/MOD021KM.A2018146.0510.061.2018146135411.hdf\":4 /storage/MODIS/Tuolumne_MOD021KM/MOD021KM.A2018146.0510.061.2018146135411.tif -of Gtiff -t_srs 'EPSG:4326'\n",
      "gdalwarp HDF4_SDS:UNKNOWN:\"/storage/MODIS/Tuolumne_MOD021KM/MOD021KM.A2018146.1850.061.2018147080607.hdf\":4 /storage/MODIS/Tuolumne_MOD021KM/MOD021KM.A2018146.1850.061.2018147080607.tif -of Gtiff -t_srs 'EPSG:4326'\n",
      "gdalwarp HDF4_SDS:UNKNOWN:\"/storage/MODIS/Tuolumne_MOD021KM/MOD021KM.A2018153.0515.061.2018153134237.hdf\":4 /storage/MODIS/Tuolumne_MOD021KM/MOD021KM.A2018153.0515.061.2018153134237.tif -of Gtiff -t_srs 'EPSG:4326'\n",
      "gdalwarp HDF4_SDS:UNKNOWN:\"/storage/MODIS/Tuolumne_MOD021KM/MOD021KM.A2018153.1855.061.2018154074930.hdf\":4 /storage/MODIS/Tuolumne_MOD021KM/MOD021KM.A2018153.1855.061.2018154074930.tif -of Gtiff -t_srs 'EPSG:4326'\n",
      "gdalwarp HDF4_SDS:UNKNOWN:\"/storage/MODIS/Tuolumne_MOD021KM/MOD021KM.A2018154.0600.061.2018154193339.hdf\":4 /storage/MODIS/Tuolumne_MOD021KM/MOD021KM.A2018154.0600.061.2018154193339.tif -of Gtiff -t_srs 'EPSG:4326'\n",
      "gdalwarp HDF4_SDS:UNKNOWN:\"/storage/MODIS/Tuolumne_MOD021KM/MOD021KM.A2018154.1800.061.2018155075011.hdf\":4 /storage/MODIS/Tuolumne_MOD021KM/MOD021KM.A2018154.1800.061.2018155075011.tif -of Gtiff -t_srs 'EPSG:4326'\n",
      "gdalwarp HDF4_SDS:UNKNOWN:\"/storage/MODIS/Tuolumne_MOD021KM/MOD021KM.A2018155.0505.061.2018158140850.hdf\":4 /storage/MODIS/Tuolumne_MOD021KM/MOD021KM.A2018155.0505.061.2018158140850.tif -of Gtiff -t_srs 'EPSG:4326'\n",
      "gdalwarp HDF4_SDS:UNKNOWN:\"/storage/MODIS/Tuolumne_MOD021KM/MOD021KM.A2018155.1845.061.2018158141144.hdf\":4 /storage/MODIS/Tuolumne_MOD021KM/MOD021KM.A2018155.1845.061.2018158141144.tif -of Gtiff -t_srs 'EPSG:4326'\n",
      "gdalwarp HDF4_SDS:UNKNOWN:\"/storage/MODIS/Tuolumne_MOD021KM/MOD021KM.A2018283.0505.061.2018283134821.hdf\":4 /storage/MODIS/Tuolumne_MOD021KM/MOD021KM.A2018283.0505.061.2018283134821.tif -of Gtiff -t_srs 'EPSG:4326'\n",
      "gdalwarp HDF4_SDS:UNKNOWN:\"/storage/MODIS/Tuolumne_MOD021KM/MOD021KM.A2018283.1845.061.2018284075253.hdf\":4 /storage/MODIS/Tuolumne_MOD021KM/MOD021KM.A2018283.1845.061.2018284075253.tif -of Gtiff -t_srs 'EPSG:4326'\n",
      "gdalwarp HDF4_SDS:UNKNOWN:\"/storage/MODIS/Tuolumne_MOD021KM/MOD021KM.A2018290.0510.061.2018290134153.hdf\":4 /storage/MODIS/Tuolumne_MOD021KM/MOD021KM.A2018290.0510.061.2018290134153.tif -of Gtiff -t_srs 'EPSG:4326'\n",
      "gdalwarp HDF4_SDS:UNKNOWN:\"/storage/MODIS/Tuolumne_MOD021KM/MOD021KM.A2018290.1850.061.2018291073220.hdf\":4 /storage/MODIS/Tuolumne_MOD021KM/MOD021KM.A2018290.1850.061.2018291073220.tif -of Gtiff -t_srs 'EPSG:4326'\n",
      "gdalwarp HDF4_SDS:UNKNOWN:\"/storage/MODIS/Tuolumne_MOD021KM/MOD021KM.A2018305.1805.061.2018310133259.hdf\":4 /storage/MODIS/Tuolumne_MOD021KM/MOD021KM.A2018305.1805.061.2018310133259.tif -of Gtiff -t_srs 'EPSG:4326'\n",
      "gdalwarp HDF4_SDS:UNKNOWN:\"/storage/MODIS/Tuolumne_MOD021KM/MOD021KM.A2018330.0600.061.2018330201439.hdf\":4 /storage/MODIS/Tuolumne_MOD021KM/MOD021KM.A2018330.0600.061.2018330201439.tif -of Gtiff -t_srs 'EPSG:4326'\n"
     ]
    },
    {
     "name": "stdout",
     "output_type": "stream",
     "text": [
      "gdalwarp HDF4_SDS:UNKNOWN:\"/storage/MODIS/Tuolumne_MOD021KM/MOD021KM.A2018330.1800.061.2018331074304.hdf\":4 /storage/MODIS/Tuolumne_MOD021KM/MOD021KM.A2018330.1800.061.2018331074304.tif -of Gtiff -t_srs 'EPSG:4326'\n",
      "gdalwarp HDF4_SDS:UNKNOWN:\"/storage/MODIS/Tuolumne_MOD021KM/MOD021KM.A2018353.1805.061.2018354071245.hdf\":4 /storage/MODIS/Tuolumne_MOD021KM/MOD021KM.A2018353.1805.061.2018354071245.tif -of Gtiff -t_srs 'EPSG:4326'\n",
      "gdalwarp HDF4_SDS:UNKNOWN:\"/storage/MODIS/Tuolumne_MOD021KM/MOD021KM.A2019013.0600.061.2019013191932.hdf\":4 /storage/MODIS/Tuolumne_MOD021KM/MOD021KM.A2019013.0600.061.2019013191932.tif -of Gtiff -t_srs 'EPSG:4326'\n",
      "gdalwarp HDF4_SDS:UNKNOWN:\"/storage/MODIS/Tuolumne_MOD021KM/MOD021KM.A2019013.1800.061.2019014071725.hdf\":4 /storage/MODIS/Tuolumne_MOD021KM/MOD021KM.A2019013.1800.061.2019014071725.tif -of Gtiff -t_srs 'EPSG:4326'\n",
      "gdalwarp HDF4_SDS:UNKNOWN:\"/storage/MODIS/Tuolumne_MOD021KM/MOD021KM.A2019085.0510.061.2019087190013.hdf\":4 /storage/MODIS/Tuolumne_MOD021KM/MOD021KM.A2019085.0510.061.2019087190013.tif -of Gtiff -t_srs 'EPSG:4326'\n",
      "gdalwarp HDF4_SDS:UNKNOWN:\"/storage/MODIS/Tuolumne_MOD021KM/MOD021KM.A2019085.1850.061.2019087190747.hdf\":4 /storage/MODIS/Tuolumne_MOD021KM/MOD021KM.A2019085.1850.061.2019087190747.tif -of Gtiff -t_srs 'EPSG:4326'\n",
      "gdalwarp HDF4_SDS:UNKNOWN:\"/storage/MODIS/Tuolumne_MOD021KM/MOD021KM.A2019117.0510.061.2019117133301.hdf\":4 /storage/MODIS/Tuolumne_MOD021KM/MOD021KM.A2019117.0510.061.2019117133301.tif -of Gtiff -t_srs 'EPSG:4326'\n",
      "gdalwarp HDF4_SDS:UNKNOWN:\"/storage/MODIS/Tuolumne_MOD021KM/MOD021KM.A2019117.1850.061.2019118072514.hdf\":4 /storage/MODIS/Tuolumne_MOD021KM/MOD021KM.A2019117.1850.061.2019118072514.tif -of Gtiff -t_srs 'EPSG:4326'\n",
      "gdalwarp HDF4_SDS:UNKNOWN:\"/storage/MODIS/Tuolumne_MOD021KM/MOD021KM.A2019133.0510.061.2019133131153.hdf\":4 /storage/MODIS/Tuolumne_MOD021KM/MOD021KM.A2019133.0510.061.2019133131153.tif -of Gtiff -t_srs 'EPSG:4326'\n",
      "gdalwarp HDF4_SDS:UNKNOWN:\"/storage/MODIS/Tuolumne_MOD021KM/MOD021KM.A2019133.1850.061.2019134071554.hdf\":4 /storage/MODIS/Tuolumne_MOD021KM/MOD021KM.A2019133.1850.061.2019134071554.tif -of Gtiff -t_srs 'EPSG:4326'\n",
      "gdalwarp HDF4_SDS:UNKNOWN:\"/storage/MODIS/Tuolumne_MOD021KM/MOD021KM.A2019148.1805.061.2019149071650.hdf\":4 /storage/MODIS/Tuolumne_MOD021KM/MOD021KM.A2019148.1805.061.2019149071650.tif -of Gtiff -t_srs 'EPSG:4326'\n",
      "gdalwarp HDF4_SDS:UNKNOWN:\"/storage/MODIS/Tuolumne_MOD021KM/MOD021KM.A2019149.0510.061.2019149131907.hdf\":4 /storage/MODIS/Tuolumne_MOD021KM/MOD021KM.A2019149.0510.061.2019149131907.tif -of Gtiff -t_srs 'EPSG:4326'\n",
      "gdalwarp HDF4_SDS:UNKNOWN:\"/storage/MODIS/Tuolumne_MOD021KM/MOD021KM.A2019149.1850.061.2019150072740.hdf\":4 /storage/MODIS/Tuolumne_MOD021KM/MOD021KM.A2019149.1850.061.2019150072740.tif -of Gtiff -t_srs 'EPSG:4326'\n",
      "gdalwarp HDF4_SDS:UNKNOWN:\"/storage/MODIS/Tuolumne_MOD021KM/MOD021KM.A2019157.0600.061.2019157192015.hdf\":4 /storage/MODIS/Tuolumne_MOD021KM/MOD021KM.A2019157.0600.061.2019157192015.tif -of Gtiff -t_srs 'EPSG:4326'\n",
      "gdalwarp HDF4_SDS:UNKNOWN:\"/storage/MODIS/Tuolumne_MOD021KM/MOD021KM.A2019157.1800.061.2019158071623.hdf\":4 /storage/MODIS/Tuolumne_MOD021KM/MOD021KM.A2019157.1800.061.2019158071623.tif -of Gtiff -t_srs 'EPSG:4326'\n",
      "gdalwarp HDF4_SDS:UNKNOWN:\"/storage/MODIS/Tuolumne_MOD021KM/MOD021KM.A2019164.1805.061.2019165144113.hdf\":4 /storage/MODIS/Tuolumne_MOD021KM/MOD021KM.A2019164.1805.061.2019165144113.tif -of Gtiff -t_srs 'EPSG:4326'\n",
      "gdalwarp HDF4_SDS:UNKNOWN:\"/storage/MODIS/Tuolumne_MOD021KM/MOD021KM.A2019181.0510.061.2019181130831.hdf\":4 /storage/MODIS/Tuolumne_MOD021KM/MOD021KM.A2019181.0510.061.2019181130831.tif -of Gtiff -t_srs 'EPSG:4326'\n",
      "gdalwarp HDF4_SDS:UNKNOWN:\"/storage/MODIS/Tuolumne_MOD021KM/MOD021KM.A2019181.1850.061.2019182070835.hdf\":4 /storage/MODIS/Tuolumne_MOD021KM/MOD021KM.A2019181.1850.061.2019182070835.tif -of Gtiff -t_srs 'EPSG:4326'\n",
      "gdalwarp HDF4_SDS:UNKNOWN:\"/storage/MODIS/Tuolumne_MOD021KM/MOD021KM.A2019182.0550.061.2019182131810.hdf\":4 /storage/MODIS/Tuolumne_MOD021KM/MOD021KM.A2019182.0550.061.2019182131810.tif -of Gtiff -t_srs 'EPSG:4326'\n",
      "gdalwarp HDF4_SDS:UNKNOWN:\"/storage/MODIS/Tuolumne_MOD021KM/MOD021KM.A2019182.1755.061.2019183010907.hdf\":4 /storage/MODIS/Tuolumne_MOD021KM/MOD021KM.A2019182.1755.061.2019183010907.tif -of Gtiff -t_srs 'EPSG:4326'\n",
      "gdalwarp HDF4_SDS:UNKNOWN:\"/storage/MODIS/Tuolumne_MOD021KM/MOD021KM.A2019189.0600.061.2019189191229.hdf\":4 /storage/MODIS/Tuolumne_MOD021KM/MOD021KM.A2019189.0600.061.2019189191229.tif -of Gtiff -t_srs 'EPSG:4326'\n",
      "gdalwarp HDF4_SDS:UNKNOWN:\"/storage/MODIS/Tuolumne_MOD021KM/MOD021KM.A2019189.1800.061.2019190071518.hdf\":4 /storage/MODIS/Tuolumne_MOD021KM/MOD021KM.A2019189.1800.061.2019190071518.tif -of Gtiff -t_srs 'EPSG:4326'\n",
      "gdalwarp HDF4_SDS:UNKNOWN:\"/storage/MODIS/Tuolumne_MOD021KM/MOD021KM.A2019213.0510.061.2019213131105.hdf\":4 /storage/MODIS/Tuolumne_MOD021KM/MOD021KM.A2019213.0510.061.2019213131105.tif -of Gtiff -t_srs 'EPSG:4326'\n",
      "gdalwarp HDF4_SDS:UNKNOWN:\"/storage/MODIS/Tuolumne_MOD021KM/MOD021KM.A2019213.1850.061.2019214071622.hdf\":4 /storage/MODIS/Tuolumne_MOD021KM/MOD021KM.A2019213.1850.061.2019214071622.tif -of Gtiff -t_srs 'EPSG:4326'\n",
      "gdalwarp HDF4_SDS:UNKNOWN:\"/storage/MODIS/Tuolumne_MOD021KM/MOD021KM.A2019277.0510.061.2019277130548.hdf\":4 /storage/MODIS/Tuolumne_MOD021KM/MOD021KM.A2019277.0510.061.2019277130548.tif -of Gtiff -t_srs 'EPSG:4326'\n",
      "gdalwarp HDF4_SDS:UNKNOWN:\"/storage/MODIS/Tuolumne_MOD021KM/MOD021KM.A2019277.1850.061.2019278070921.hdf\":4 /storage/MODIS/Tuolumne_MOD021KM/MOD021KM.A2019277.1850.061.2019278070921.tif -of Gtiff -t_srs 'EPSG:4326'\n",
      "gdalwarp HDF4_SDS:UNKNOWN:\"/storage/MODIS/Tuolumne_MOD021KM/MOD021KM.A2019317.0600.061.2019317192018.hdf\":4 /storage/MODIS/Tuolumne_MOD021KM/MOD021KM.A2019317.0600.061.2019317192018.tif -of Gtiff -t_srs 'EPSG:4326'\n",
      "gdalwarp HDF4_SDS:UNKNOWN:\"/storage/MODIS/Tuolumne_MOD021KM/MOD021KM.A2019317.1800.061.2019318071525.hdf\":4 /storage/MODIS/Tuolumne_MOD021KM/MOD021KM.A2019317.1800.061.2019318071525.tif -of Gtiff -t_srs 'EPSG:4326'\n",
      "gdalwarp HDF4_SDS:UNKNOWN:\"/storage/MODIS/Tuolumne_MOD021KM/MOD021KM.A2019365.0600.061.2019365192319.hdf\":4 /storage/MODIS/Tuolumne_MOD021KM/MOD021KM.A2019365.0600.061.2019365192319.tif -of Gtiff -t_srs 'EPSG:4326'\n",
      "gdalwarp HDF4_SDS:UNKNOWN:\"/storage/MODIS/Tuolumne_MOD021KM/MOD021KM.A2019365.1800.061.2020002172624.hdf\":4 /storage/MODIS/Tuolumne_MOD021KM/MOD021KM.A2019365.1800.061.2020002172624.tif -of Gtiff -t_srs 'EPSG:4326'\n",
      "gdalwarp HDF4_SDS:UNKNOWN:\"/storage/MODIS/Tuolumne_MOD021KM/MOD021KM.A2020007.1805.061.2020008071319.hdf\":4 /storage/MODIS/Tuolumne_MOD021KM/MOD021KM.A2020007.1805.061.2020008071319.tif -of Gtiff -t_srs 'EPSG:4326'\n",
      "gdalwarp HDF4_SDS:UNKNOWN:\"/storage/MODIS/Tuolumne_MOD021KM/MOD021KM.A2020023.1805.061.2020027203157.hdf\":4 /storage/MODIS/Tuolumne_MOD021KM/MOD021KM.A2020023.1805.061.2020027203157.tif -of Gtiff -t_srs 'EPSG:4326'\n",
      "gdalwarp HDF4_SDS:UNKNOWN:\"/storage/MODIS/Tuolumne_MOD021KM/MOD021KM.A2020032.0600.061.2020032191658.hdf\":4 /storage/MODIS/Tuolumne_MOD021KM/MOD021KM.A2020032.0600.061.2020032191658.tif -of Gtiff -t_srs 'EPSG:4326'\n",
      "gdalwarp HDF4_SDS:UNKNOWN:\"/storage/MODIS/Tuolumne_MOD021KM/MOD021KM.A2020032.1800.061.2020033071514.hdf\":4 /storage/MODIS/Tuolumne_MOD021KM/MOD021KM.A2020032.1800.061.2020033071514.tif -of Gtiff -t_srs 'EPSG:4326'\n",
      "gdalwarp HDF4_SDS:UNKNOWN:\"/storage/MODIS/Tuolumne_MOD021KM/MOD021KM.A2020039.1805.061.2020040071644.hdf\":4 /storage/MODIS/Tuolumne_MOD021KM/MOD021KM.A2020039.1805.061.2020040071644.tif -of Gtiff -t_srs 'EPSG:4326'\n",
      "gdalwarp HDF4_SDS:UNKNOWN:\"/storage/MODIS/Tuolumne_MOD021KM/MOD021KM.A2020057.0555.061.2020057131101.hdf\":4 /storage/MODIS/Tuolumne_MOD021KM/MOD021KM.A2020057.0555.061.2020057131101.tif -of Gtiff -t_srs 'EPSG:4326'\n",
      "gdalwarp HDF4_SDS:UNKNOWN:\"/storage/MODIS/Tuolumne_MOD021KM/MOD021KM.A2020057.1755.061.2020058012330.hdf\":4 /storage/MODIS/Tuolumne_MOD021KM/MOD021KM.A2020057.1755.061.2020058012330.tif -of Gtiff -t_srs 'EPSG:4326'\n",
      "gdalwarp HDF4_SDS:UNKNOWN:\"/storage/MODIS/Tuolumne_MOD021KM/MOD021KM.A2020065.0505.061.2020065131818.hdf\":4 /storage/MODIS/Tuolumne_MOD021KM/MOD021KM.A2020065.0505.061.2020065131818.tif -of Gtiff -t_srs 'EPSG:4326'\n",
      "gdalwarp HDF4_SDS:UNKNOWN:\"/storage/MODIS/Tuolumne_MOD021KM/MOD021KM.A2020065.1845.061.2020066071347.hdf\":4 /storage/MODIS/Tuolumne_MOD021KM/MOD021KM.A2020065.1845.061.2020066071347.tif -of Gtiff -t_srs 'EPSG:4326'\n"
     ]
    },
    {
     "name": "stdout",
     "output_type": "stream",
     "text": [
      "gdalwarp HDF4_SDS:UNKNOWN:\"/storage/MODIS/Tuolumne_MOD021KM/MOD021KM.A2020104.0510.061.2020104131136.hdf\":4 /storage/MODIS/Tuolumne_MOD021KM/MOD021KM.A2020104.0510.061.2020104131136.tif -of Gtiff -t_srs 'EPSG:4326'\n",
      "gdalwarp HDF4_SDS:UNKNOWN:\"/storage/MODIS/Tuolumne_MOD021KM/MOD021KM.A2020104.1850.061.2020105070743.hdf\":4 /storage/MODIS/Tuolumne_MOD021KM/MOD021KM.A2020104.1850.061.2020105070743.tif -of Gtiff -t_srs 'EPSG:4326'\n",
      "gdalwarp HDF4_SDS:UNKNOWN:\"/storage/MODIS/Tuolumne_MOD021KM/MOD021KM.A2020120.0510.061.2020120131038.hdf\":4 /storage/MODIS/Tuolumne_MOD021KM/MOD021KM.A2020120.0510.061.2020120131038.tif -of Gtiff -t_srs 'EPSG:4326'\n",
      "gdalwarp HDF4_SDS:UNKNOWN:\"/storage/MODIS/Tuolumne_MOD021KM/MOD021KM.A2020120.1850.061.2020121071418.hdf\":4 /storage/MODIS/Tuolumne_MOD021KM/MOD021KM.A2020120.1850.061.2020121071418.tif -of Gtiff -t_srs 'EPSG:4326'\n",
      "gdalwarp HDF4_SDS:UNKNOWN:\"/storage/MODIS/Tuolumne_MOD021KM/MOD021KM.A2020136.0510.061.2020136131016.hdf\":4 /storage/MODIS/Tuolumne_MOD021KM/MOD021KM.A2020136.0510.061.2020136131016.tif -of Gtiff -t_srs 'EPSG:4326'\n",
      "gdalwarp HDF4_SDS:UNKNOWN:\"/storage/MODIS/Tuolumne_MOD021KM/MOD021KM.A2020136.1850.061.2020137064638.hdf\":4 /storage/MODIS/Tuolumne_MOD021KM/MOD021KM.A2020136.1850.061.2020137064638.tif -of Gtiff -t_srs 'EPSG:4326'\n",
      "gdalwarp HDF4_SDS:UNKNOWN:\"/storage/MODIS/Tuolumne_MOD021KM/MOD021KM.A2020167.1805.061.2020168072058.hdf\":4 /storage/MODIS/Tuolumne_MOD021KM/MOD021KM.A2020167.1805.061.2020168072058.tif -of Gtiff -t_srs 'EPSG:4326'\n",
      "gdalwarp HDF4_SDS:UNKNOWN:\"/storage/MODIS/Tuolumne_MOD021KM/MOD021KM.A2020168.0510.061.2020168131552.hdf\":4 /storage/MODIS/Tuolumne_MOD021KM/MOD021KM.A2020168.0510.061.2020168131552.tif -of Gtiff -t_srs 'EPSG:4326'\n",
      "gdalwarp HDF4_SDS:UNKNOWN:\"/storage/MODIS/Tuolumne_MOD021KM/MOD021KM.A2020168.1850.061.2020169071541.hdf\":4 /storage/MODIS/Tuolumne_MOD021KM/MOD021KM.A2020168.1850.061.2020169071541.tif -of Gtiff -t_srs 'EPSG:4326'\n",
      "gdalwarp HDF4_SDS:UNKNOWN:\"/storage/MODIS/Tuolumne_MOD021KM/MOD021KM.A2020169.0550.061.2020169132726.hdf\":4 /storage/MODIS/Tuolumne_MOD021KM/MOD021KM.A2020169.0550.061.2020169132726.tif -of Gtiff -t_srs 'EPSG:4326'\n",
      "gdalwarp HDF4_SDS:UNKNOWN:\"/storage/MODIS/Tuolumne_MOD021KM/MOD021KM.A2020169.1755.061.2020170011807.hdf\":4 /storage/MODIS/Tuolumne_MOD021KM/MOD021KM.A2020169.1755.061.2020170011807.tif -of Gtiff -t_srs 'EPSG:4326'\n"
     ]
    }
   ],
   "source": [
    "for hdf_file in modis_df.MOD021KM_filepath:\n",
    "    hdf_ds = gdal.Open(hdf_file, gdal.GA_ReadOnly)\n",
    "    subdatasets = hdf_ds.GetSubDatasets()\n",
    "    \n",
    "    for i, sds in enumerate(subdatasets):\n",
    "        sds_name = sds[0]\n",
    "        if sds_name.split(':')[-1] == '4':\n",
    "            geotiff_file = hdf_file[:-3] + 'tif'\n",
    "            command = 'gdalwarp {sds_name} {geotiff_file} -of Gtiff -t_srs \\'EPSG:4326\\''.format(sds_name=sds_name, geotiff_file=geotiff_file)\n",
    "            print(command)\n",
    "            os.system(command)"
   ]
  },
  {
   "cell_type": "code",
   "execution_count": null,
   "metadata": {},
   "outputs": [],
   "source": []
  },
  {
   "cell_type": "code",
   "execution_count": null,
   "metadata": {},
   "outputs": [],
   "source": []
  }
 ],
 "metadata": {
  "kernelspec": {
   "display_name": "goes-linux",
   "language": "python",
   "name": "goes-linux"
  },
  "language_info": {
   "codemirror_mode": {
    "name": "ipython",
    "version": 3
   },
   "file_extension": ".py",
   "mimetype": "text/x-python",
   "name": "python",
   "nbconvert_exporter": "python",
   "pygments_lexer": "ipython3",
   "version": "3.6.9"
  }
 },
 "nbformat": 4,
 "nbformat_minor": 4
}
