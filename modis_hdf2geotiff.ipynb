{
 "cells": [
  {
   "cell_type": "markdown",
   "metadata": {},
   "source": [
    "# modis_hdf2geotiff"
   ]
  },
  {
   "cell_type": "code",
   "execution_count": 1,
   "metadata": {},
   "outputs": [],
   "source": [
    "# Creates GeoTIFF files from a collection of MODIS observations.\n",
    "\n",
    "# Input datasets (HDF format):\n",
    "# - MxD021KM ()\n",
    "\n",
    "\n",
    "import xarray as xr\n",
    "import numpy as np\n",
    "import pandas as pd\n",
    "import os\n",
    "import glob\n",
    "import gdal"
   ]
  },
  {
   "cell_type": "markdown",
   "metadata": {},
   "source": [
    "Read in a list of MOD021KM files:"
   ]
  },
  {
   "cell_type": "code",
   "execution_count": 2,
   "metadata": {},
   "outputs": [
    {
     "name": "stdout",
     "output_type": "stream",
     "text": [
      "Found 50 MODIS files in \"/storage/MODIS/Tuolumne_MOD021KM\"\n"
     ]
    }
   ],
   "source": [
    "modis_dir = '/storage/MODIS/Tuolumne_MOD021KM'\n",
    "\n",
    "modis_searchDir = os.path.normpath(modis_dir)\n",
    "\n",
    "# Search specified directory for HDF files\n",
    "modis_file_list = glob.glob(modis_searchDir+'/**/*.hdf', recursive=True)\n",
    "\n",
    "print('Found {} MODIS files in \"{}\"'.format(len(modis_file_list),modis_dir))"
   ]
  },
  {
   "cell_type": "markdown",
   "metadata": {},
   "source": [
    "For each MOD021KM hdf file, convert to geotiff with gdal:"
   ]
  },
  {
   "cell_type": "code",
   "execution_count": 3,
   "metadata": {
    "scrolled": false
   },
   "outputs": [
    {
     "name": "stdout",
     "output_type": "stream",
     "text": [
      "gdalwarp HDF4_SDS:UNKNOWN:\"/storage/MODIS/Tuolumne_MOD021KM/MOD021KM.A2017063.1850.061.2017312092219.hdf\":4 /storage/MODIS/Tuolumne_MOD021KM/MOD021KM.A2017063.1850.061.2017312092219.tif -of Gtiff -ot Float32 -t_srs 'EPSG:4326'\n",
      "gdalwarp HDF4_SDS:UNKNOWN:\"/storage/MODIS/Tuolumne_MOD021KM/MOD021KM.A2017079.1850.061.2017313021934.hdf\":4 /storage/MODIS/Tuolumne_MOD021KM/MOD021KM.A2017079.1850.061.2017313021934.tif -of Gtiff -ot Float32 -t_srs 'EPSG:4326'\n",
      "gdalwarp HDF4_SDS:UNKNOWN:\"/storage/MODIS/Tuolumne_MOD021KM/MOD021KM.A2017111.1850.061.2017314062948.hdf\":4 /storage/MODIS/Tuolumne_MOD021KM/MOD021KM.A2017111.1850.061.2017314062948.tif -of Gtiff -ot Float32 -t_srs 'EPSG:4326'\n",
      "gdalwarp HDF4_SDS:UNKNOWN:\"/storage/MODIS/Tuolumne_MOD021KM/MOD021KM.A2017143.1850.061.2017314142140.hdf\":4 /storage/MODIS/Tuolumne_MOD021KM/MOD021KM.A2017143.1850.061.2017314142140.tif -of Gtiff -ot Float32 -t_srs 'EPSG:4326'\n",
      "gdalwarp HDF4_SDS:UNKNOWN:\"/storage/MODIS/Tuolumne_MOD021KM/MOD021KM.A2017158.0605.061.2017314235847.hdf\":4 /storage/MODIS/Tuolumne_MOD021KM/MOD021KM.A2017158.0605.061.2017314235847.tif -of Gtiff -ot Float32 -t_srs 'EPSG:4326'\n",
      "gdalwarp HDF4_SDS:UNKNOWN:\"/storage/MODIS/Tuolumne_MOD021KM/MOD021KM.A2017167.0600.061.2017315012504.hdf\":4 /storage/MODIS/Tuolumne_MOD021KM/MOD021KM.A2017167.0600.061.2017315012504.tif -of Gtiff -ot Float32 -t_srs 'EPSG:4326'\n",
      "gdalwarp HDF4_SDS:UNKNOWN:\"/storage/MODIS/Tuolumne_MOD021KM/MOD021KM.A2017264.1845.061.2017265073657.hdf\":4 /storage/MODIS/Tuolumne_MOD021KM/MOD021KM.A2017264.1845.061.2017265073657.tif -of Gtiff -ot Float32 -t_srs 'EPSG:4326'\n",
      "gdalwarp HDF4_SDS:UNKNOWN:\"/storage/MODIS/Tuolumne_MOD021KM/MOD021KM.A2017311.0600.061.2017311193824.hdf\":4 /storage/MODIS/Tuolumne_MOD021KM/MOD021KM.A2017311.0600.061.2017311193824.tif -of Gtiff -ot Float32 -t_srs 'EPSG:4326'\n",
      "gdalwarp HDF4_SDS:UNKNOWN:\"/storage/MODIS/Tuolumne_MOD021KM/MOD021KM.A2017334.0605.061.2017334192136.hdf\":4 /storage/MODIS/Tuolumne_MOD021KM/MOD021KM.A2017334.0605.061.2017334192136.tif -of Gtiff -ot Float32 -t_srs 'EPSG:4326'\n",
      "gdalwarp HDF4_SDS:UNKNOWN:\"/storage/MODIS/Tuolumne_MOD021KM/MOD021KM.A2018003.0550.061.2018003133110.hdf\":4 /storage/MODIS/Tuolumne_MOD021KM/MOD021KM.A2018003.0550.061.2018003133110.tif -of Gtiff -ot Float32 -t_srs 'EPSG:4326'\n",
      "gdalwarp HDF4_SDS:UNKNOWN:\"/storage/MODIS/Tuolumne_MOD021KM/MOD021KM.A2018003.0555.061.2018003133112.hdf\":4 /storage/MODIS/Tuolumne_MOD021KM/MOD021KM.A2018003.0555.061.2018003133112.tif -of Gtiff -ot Float32 -t_srs 'EPSG:4326'\n",
      "gdalwarp HDF4_SDS:UNKNOWN:\"/storage/MODIS/Tuolumne_MOD021KM/MOD021KM.A2018082.1850.061.2018083074842.hdf\":4 /storage/MODIS/Tuolumne_MOD021KM/MOD021KM.A2018082.1850.061.2018083074842.tif -of Gtiff -ot Float32 -t_srs 'EPSG:4326'\n",
      "gdalwarp HDF4_SDS:UNKNOWN:\"/storage/MODIS/Tuolumne_MOD021KM/MOD021KM.A2018098.1850.061.2018099073216.hdf\":4 /storage/MODIS/Tuolumne_MOD021KM/MOD021KM.A2018098.1850.061.2018099073216.tif -of Gtiff -ot Float32 -t_srs 'EPSG:4326'\n",
      "gdalwarp HDF4_SDS:UNKNOWN:\"/storage/MODIS/Tuolumne_MOD021KM/MOD021KM.A2018137.1855.061.2018138100943.hdf\":4 /storage/MODIS/Tuolumne_MOD021KM/MOD021KM.A2018137.1855.061.2018138100943.tif -of Gtiff -ot Float32 -t_srs 'EPSG:4326'\n",
      "gdalwarp HDF4_SDS:UNKNOWN:\"/storage/MODIS/Tuolumne_MOD021KM/MOD021KM.A2018146.1850.061.2018147080607.hdf\":4 /storage/MODIS/Tuolumne_MOD021KM/MOD021KM.A2018146.1850.061.2018147080607.tif -of Gtiff -ot Float32 -t_srs 'EPSG:4326'\n",
      "gdalwarp HDF4_SDS:UNKNOWN:\"/storage/MODIS/Tuolumne_MOD021KM/MOD021KM.A2018153.1855.061.2018154074930.hdf\":4 /storage/MODIS/Tuolumne_MOD021KM/MOD021KM.A2018153.1855.061.2018154074930.tif -of Gtiff -ot Float32 -t_srs 'EPSG:4326'\n",
      "gdalwarp HDF4_SDS:UNKNOWN:\"/storage/MODIS/Tuolumne_MOD021KM/MOD021KM.A2018154.0600.061.2018154193339.hdf\":4 /storage/MODIS/Tuolumne_MOD021KM/MOD021KM.A2018154.0600.061.2018154193339.tif -of Gtiff -ot Float32 -t_srs 'EPSG:4326'\n",
      "gdalwarp HDF4_SDS:UNKNOWN:\"/storage/MODIS/Tuolumne_MOD021KM/MOD021KM.A2018155.1845.061.2018158141144.hdf\":4 /storage/MODIS/Tuolumne_MOD021KM/MOD021KM.A2018155.1845.061.2018158141144.tif -of Gtiff -ot Float32 -t_srs 'EPSG:4326'\n",
      "gdalwarp HDF4_SDS:UNKNOWN:\"/storage/MODIS/Tuolumne_MOD021KM/MOD021KM.A2018283.1845.061.2018284075253.hdf\":4 /storage/MODIS/Tuolumne_MOD021KM/MOD021KM.A2018283.1845.061.2018284075253.tif -of Gtiff -ot Float32 -t_srs 'EPSG:4326'\n",
      "gdalwarp HDF4_SDS:UNKNOWN:\"/storage/MODIS/Tuolumne_MOD021KM/MOD021KM.A2018290.1850.061.2018291073220.hdf\":4 /storage/MODIS/Tuolumne_MOD021KM/MOD021KM.A2018290.1850.061.2018291073220.tif -of Gtiff -ot Float32 -t_srs 'EPSG:4326'\n",
      "gdalwarp HDF4_SDS:UNKNOWN:\"/storage/MODIS/Tuolumne_MOD021KM/MOD021KM.A2018305.0605.061.2018305193436.hdf\":4 /storage/MODIS/Tuolumne_MOD021KM/MOD021KM.A2018305.0605.061.2018305193436.tif -of Gtiff -ot Float32 -t_srs 'EPSG:4326'\n",
      "gdalwarp HDF4_SDS:UNKNOWN:\"/storage/MODIS/Tuolumne_MOD021KM/MOD021KM.A2018330.0600.061.2018330201439.hdf\":4 /storage/MODIS/Tuolumne_MOD021KM/MOD021KM.A2018330.0600.061.2018330201439.tif -of Gtiff -ot Float32 -t_srs 'EPSG:4326'\n",
      "gdalwarp HDF4_SDS:UNKNOWN:\"/storage/MODIS/Tuolumne_MOD021KM/MOD021KM.A2018353.0605.061.2018353211621.hdf\":4 /storage/MODIS/Tuolumne_MOD021KM/MOD021KM.A2018353.0605.061.2018353211621.tif -of Gtiff -ot Float32 -t_srs 'EPSG:4326'\n",
      "gdalwarp HDF4_SDS:UNKNOWN:\"/storage/MODIS/Tuolumne_MOD021KM/MOD021KM.A2019013.0600.061.2019013191932.hdf\":4 /storage/MODIS/Tuolumne_MOD021KM/MOD021KM.A2019013.0600.061.2019013191932.tif -of Gtiff -ot Float32 -t_srs 'EPSG:4326'\n",
      "gdalwarp HDF4_SDS:UNKNOWN:\"/storage/MODIS/Tuolumne_MOD021KM/MOD021KM.A2019085.1850.061.2019087190747.hdf\":4 /storage/MODIS/Tuolumne_MOD021KM/MOD021KM.A2019085.1850.061.2019087190747.tif -of Gtiff -ot Float32 -t_srs 'EPSG:4326'\n",
      "gdalwarp HDF4_SDS:UNKNOWN:\"/storage/MODIS/Tuolumne_MOD021KM/MOD021KM.A2019117.1850.061.2019118072514.hdf\":4 /storage/MODIS/Tuolumne_MOD021KM/MOD021KM.A2019117.1850.061.2019118072514.tif -of Gtiff -ot Float32 -t_srs 'EPSG:4326'\n",
      "gdalwarp HDF4_SDS:UNKNOWN:\"/storage/MODIS/Tuolumne_MOD021KM/MOD021KM.A2019133.1850.061.2019134071554.hdf\":4 /storage/MODIS/Tuolumne_MOD021KM/MOD021KM.A2019133.1850.061.2019134071554.tif -of Gtiff -ot Float32 -t_srs 'EPSG:4326'\n",
      "gdalwarp HDF4_SDS:UNKNOWN:\"/storage/MODIS/Tuolumne_MOD021KM/MOD021KM.A2019148.0605.061.2019148192440.hdf\":4 /storage/MODIS/Tuolumne_MOD021KM/MOD021KM.A2019148.0605.061.2019148192440.tif -of Gtiff -ot Float32 -t_srs 'EPSG:4326'\n",
      "gdalwarp HDF4_SDS:UNKNOWN:\"/storage/MODIS/Tuolumne_MOD021KM/MOD021KM.A2019149.1850.061.2019150072740.hdf\":4 /storage/MODIS/Tuolumne_MOD021KM/MOD021KM.A2019149.1850.061.2019150072740.tif -of Gtiff -ot Float32 -t_srs 'EPSG:4326'\n",
      "gdalwarp HDF4_SDS:UNKNOWN:\"/storage/MODIS/Tuolumne_MOD021KM/MOD021KM.A2019157.0600.061.2019157192015.hdf\":4 /storage/MODIS/Tuolumne_MOD021KM/MOD021KM.A2019157.0600.061.2019157192015.tif -of Gtiff -ot Float32 -t_srs 'EPSG:4326'\n",
      "gdalwarp HDF4_SDS:UNKNOWN:\"/storage/MODIS/Tuolumne_MOD021KM/MOD021KM.A2019164.0605.061.2019165143652.hdf\":4 /storage/MODIS/Tuolumne_MOD021KM/MOD021KM.A2019164.0605.061.2019165143652.tif -of Gtiff -ot Float32 -t_srs 'EPSG:4326'\n",
      "gdalwarp HDF4_SDS:UNKNOWN:\"/storage/MODIS/Tuolumne_MOD021KM/MOD021KM.A2019181.1850.061.2019182070835.hdf\":4 /storage/MODIS/Tuolumne_MOD021KM/MOD021KM.A2019181.1850.061.2019182070835.tif -of Gtiff -ot Float32 -t_srs 'EPSG:4326'\n",
      "gdalwarp HDF4_SDS:UNKNOWN:\"/storage/MODIS/Tuolumne_MOD021KM/MOD021KM.A2019182.0550.061.2019182131810.hdf\":4 /storage/MODIS/Tuolumne_MOD021KM/MOD021KM.A2019182.0550.061.2019182131810.tif -of Gtiff -ot Float32 -t_srs 'EPSG:4326'\n",
      "gdalwarp HDF4_SDS:UNKNOWN:\"/storage/MODIS/Tuolumne_MOD021KM/MOD021KM.A2019189.0600.061.2019189191229.hdf\":4 /storage/MODIS/Tuolumne_MOD021KM/MOD021KM.A2019189.0600.061.2019189191229.tif -of Gtiff -ot Float32 -t_srs 'EPSG:4326'\n",
      "gdalwarp HDF4_SDS:UNKNOWN:\"/storage/MODIS/Tuolumne_MOD021KM/MOD021KM.A2019213.1850.061.2019214071622.hdf\":4 /storage/MODIS/Tuolumne_MOD021KM/MOD021KM.A2019213.1850.061.2019214071622.tif -of Gtiff -ot Float32 -t_srs 'EPSG:4326'\n",
      "gdalwarp HDF4_SDS:UNKNOWN:\"/storage/MODIS/Tuolumne_MOD021KM/MOD021KM.A2019277.1850.061.2019278070921.hdf\":4 /storage/MODIS/Tuolumne_MOD021KM/MOD021KM.A2019277.1850.061.2019278070921.tif -of Gtiff -ot Float32 -t_srs 'EPSG:4326'\n",
      "gdalwarp HDF4_SDS:UNKNOWN:\"/storage/MODIS/Tuolumne_MOD021KM/MOD021KM.A2019317.0600.061.2019317192018.hdf\":4 /storage/MODIS/Tuolumne_MOD021KM/MOD021KM.A2019317.0600.061.2019317192018.tif -of Gtiff -ot Float32 -t_srs 'EPSG:4326'\n"
     ]
    },
    {
     "name": "stdout",
     "output_type": "stream",
     "text": [
      "gdalwarp HDF4_SDS:UNKNOWN:\"/storage/MODIS/Tuolumne_MOD021KM/MOD021KM.A2019365.0600.061.2019365192319.hdf\":4 /storage/MODIS/Tuolumne_MOD021KM/MOD021KM.A2019365.0600.061.2019365192319.tif -of Gtiff -ot Float32 -t_srs 'EPSG:4326'\n",
      "gdalwarp HDF4_SDS:UNKNOWN:\"/storage/MODIS/Tuolumne_MOD021KM/MOD021KM.A2020007.0605.061.2020007191011.hdf\":4 /storage/MODIS/Tuolumne_MOD021KM/MOD021KM.A2020007.0605.061.2020007191011.tif -of Gtiff -ot Float32 -t_srs 'EPSG:4326'\n",
      "gdalwarp HDF4_SDS:UNKNOWN:\"/storage/MODIS/Tuolumne_MOD021KM/MOD021KM.A2020023.0605.061.2020027202949.hdf\":4 /storage/MODIS/Tuolumne_MOD021KM/MOD021KM.A2020023.0605.061.2020027202949.tif -of Gtiff -ot Float32 -t_srs 'EPSG:4326'\n",
      "gdalwarp HDF4_SDS:UNKNOWN:\"/storage/MODIS/Tuolumne_MOD021KM/MOD021KM.A2020032.0600.061.2020032191658.hdf\":4 /storage/MODIS/Tuolumne_MOD021KM/MOD021KM.A2020032.0600.061.2020032191658.tif -of Gtiff -ot Float32 -t_srs 'EPSG:4326'\n",
      "gdalwarp HDF4_SDS:UNKNOWN:\"/storage/MODIS/Tuolumne_MOD021KM/MOD021KM.A2020039.0605.061.2020039191802.hdf\":4 /storage/MODIS/Tuolumne_MOD021KM/MOD021KM.A2020039.0605.061.2020039191802.tif -of Gtiff -ot Float32 -t_srs 'EPSG:4326'\n",
      "gdalwarp HDF4_SDS:UNKNOWN:\"/storage/MODIS/Tuolumne_MOD021KM/MOD021KM.A2020057.0555.061.2020057131101.hdf\":4 /storage/MODIS/Tuolumne_MOD021KM/MOD021KM.A2020057.0555.061.2020057131101.tif -of Gtiff -ot Float32 -t_srs 'EPSG:4326'\n",
      "gdalwarp HDF4_SDS:UNKNOWN:\"/storage/MODIS/Tuolumne_MOD021KM/MOD021KM.A2020065.1845.061.2020066071347.hdf\":4 /storage/MODIS/Tuolumne_MOD021KM/MOD021KM.A2020065.1845.061.2020066071347.tif -of Gtiff -ot Float32 -t_srs 'EPSG:4326'\n",
      "gdalwarp HDF4_SDS:UNKNOWN:\"/storage/MODIS/Tuolumne_MOD021KM/MOD021KM.A2020104.1850.061.2020105070743.hdf\":4 /storage/MODIS/Tuolumne_MOD021KM/MOD021KM.A2020104.1850.061.2020105070743.tif -of Gtiff -ot Float32 -t_srs 'EPSG:4326'\n",
      "gdalwarp HDF4_SDS:UNKNOWN:\"/storage/MODIS/Tuolumne_MOD021KM/MOD021KM.A2020120.1850.061.2020121071418.hdf\":4 /storage/MODIS/Tuolumne_MOD021KM/MOD021KM.A2020120.1850.061.2020121071418.tif -of Gtiff -ot Float32 -t_srs 'EPSG:4326'\n",
      "gdalwarp HDF4_SDS:UNKNOWN:\"/storage/MODIS/Tuolumne_MOD021KM/MOD021KM.A2020136.1850.061.2020137064638.hdf\":4 /storage/MODIS/Tuolumne_MOD021KM/MOD021KM.A2020136.1850.061.2020137064638.tif -of Gtiff -ot Float32 -t_srs 'EPSG:4326'\n",
      "gdalwarp HDF4_SDS:UNKNOWN:\"/storage/MODIS/Tuolumne_MOD021KM/MOD021KM.A2020167.0605.061.2020167221653.hdf\":4 /storage/MODIS/Tuolumne_MOD021KM/MOD021KM.A2020167.0605.061.2020167221653.tif -of Gtiff -ot Float32 -t_srs 'EPSG:4326'\n",
      "gdalwarp HDF4_SDS:UNKNOWN:\"/storage/MODIS/Tuolumne_MOD021KM/MOD021KM.A2020168.1850.061.2020169071541.hdf\":4 /storage/MODIS/Tuolumne_MOD021KM/MOD021KM.A2020168.1850.061.2020169071541.tif -of Gtiff -ot Float32 -t_srs 'EPSG:4326'\n",
      "gdalwarp HDF4_SDS:UNKNOWN:\"/storage/MODIS/Tuolumne_MOD021KM/MOD021KM.A2020169.0550.061.2020169132726.hdf\":4 /storage/MODIS/Tuolumne_MOD021KM/MOD021KM.A2020169.0550.061.2020169132726.tif -of Gtiff -ot Float32 -t_srs 'EPSG:4326'\n"
     ]
    }
   ],
   "source": [
    "for hdf_file in modis_file_list:\n",
    "    hdf_ds = gdal.Open(hdf_file, gdal.GA_ReadOnly)\n",
    "    subdatasets = hdf_ds.GetSubDatasets()\n",
    "    \n",
    "    for i, sds in enumerate(subdatasets):\n",
    "        sds_name = sds[0]\n",
    "        # only selecting SDS \"4\" which are the emissive band radiance DNs\n",
    "        if sds_name.split(':')[-1] == '4':\n",
    "            # use gdalwarp to convert from hdf to geotiff and change crs\n",
    "            geotiff_file = hdf_file[:-3] + 'tif'\n",
    "            gdalwarp_command = 'gdalwarp {sds_name} {geotiff_file} -of Gtiff -ot Float32 -t_srs \\'EPSG:4326\\''.format(sds_name=sds_name, geotiff_file=geotiff_file)\n",
    "            print(gdalwarp_command)\n",
    "            os.system(gdalwarp_command)"
   ]
  },
  {
   "cell_type": "code",
   "execution_count": null,
   "metadata": {},
   "outputs": [],
   "source": []
  }
 ],
 "metadata": {
  "kernelspec": {
   "display_name": "goes-linux",
   "language": "python",
   "name": "goes-linux"
  },
  "language_info": {
   "codemirror_mode": {
    "name": "ipython",
    "version": 3
   },
   "file_extension": ".py",
   "mimetype": "text/x-python",
   "name": "python",
   "nbconvert_exporter": "python",
   "pygments_lexer": "ipython3",
   "version": "3.6.9"
  }
 },
 "nbformat": 4,
 "nbformat_minor": 4
}
