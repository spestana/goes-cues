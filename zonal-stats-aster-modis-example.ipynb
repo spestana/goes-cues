{
 "cells": [
  {
   "cell_type": "markdown",
   "metadata": {},
   "source": [
    "# Zonal Statistics with ASTER and MODIS Thermal Infrared Radiance Imagery"
   ]
  },
  {
   "cell_type": "code",
   "execution_count": 1,
   "metadata": {},
   "outputs": [
    {
     "name": "stderr",
     "output_type": "stream",
     "text": [
      "/home/spestana/opt/anaconda3/envs/goes-linux/lib/python3.6/importlib/_bootstrap.py:219: RuntimeWarning: numpy.ufunc size changed, may indicate binary incompatibility. Expected 192 from C header, got 216 from PyObject\n",
      "  return f(*args, **kwds)\n",
      "/home/spestana/opt/anaconda3/envs/goes-linux/lib/python3.6/importlib/_bootstrap.py:219: RuntimeWarning: numpy.ufunc size changed, may indicate binary incompatibility. Expected 192 from C header, got 216 from PyObject\n",
      "  return f(*args, **kwds)\n",
      "/home/spestana/opt/anaconda3/envs/goes-linux/lib/python3.6/importlib/_bootstrap.py:219: RuntimeWarning: numpy.ufunc size changed, may indicate binary incompatibility. Expected 192 from C header, got 216 from PyObject\n",
      "  return f(*args, **kwds)\n",
      "/home/spestana/opt/anaconda3/envs/goes-linux/lib/python3.6/importlib/_bootstrap.py:219: RuntimeWarning: numpy.ufunc size changed, may indicate binary incompatibility. Expected 192 from C header, got 216 from PyObject\n",
      "  return f(*args, **kwds)\n"
     ]
    }
   ],
   "source": [
    "# xarray family of packages for working with raster data\n",
    "import xarray as xr\n",
    "import xrspatial as xrs\n",
    "import rioxarray\n",
    "\n",
    "# aster and modis functions for unit conversion of digital number to radiance and brightness temperature\n",
    "import aster_utils \n",
    "import modis_utils\n",
    "\n",
    "# our favorite python packages for arrays, data frames, and plotting\n",
    "import numpy as np\n",
    "import pandas as pd\n",
    "import matplotlib.pyplot as plt\n",
    "%matplotlib inline\n",
    "\n",
    "import warnings\n",
    "warnings.filterwarnings('ignore')"
   ]
  },
  {
   "cell_type": "markdown",
   "metadata": {},
   "source": [
    "---\n",
    "**Open and clean-up input datasets**"
   ]
  },
  {
   "cell_type": "markdown",
   "metadata": {},
   "source": [
    "Use rioxarray to open a GeoTIFF of MODIS Radiance"
   ]
  },
  {
   "cell_type": "code",
   "execution_count": 2,
   "metadata": {},
   "outputs": [],
   "source": [
    "modis_rad_filepath = '/storage/MODIS/Tuolumne_MOD021KM/MOD021KM.A2017111.1850.061.2017314062948.tif'\n",
    "modis_ds = xr.open_rasterio(modis_rad_filepath)"
   ]
  },
  {
   "cell_type": "markdown",
   "metadata": {},
   "source": [
    "Open the coincident ASTER thermal infrared radiance GeoTIFF image we want to compare with"
   ]
  },
  {
   "cell_type": "code",
   "execution_count": 3,
   "metadata": {},
   "outputs": [],
   "source": [
    "aster_rad_filepath = '/storage/spestana/ASTER/AST_L1T/geotiff/T/T_band14_Tuolumne-and-CUES/AST_L1T_00304212017185107_20170422082541_26960_ImageData14.tif'\n",
    "aster_src = xr.open_rasterio(aster_rad_filepath)"
   ]
  },
  {
   "cell_type": "markdown",
   "metadata": {},
   "source": [
    "Define a working area her in local UTM coordinates to clip all three rasters to the same common area"
   ]
  },
  {
   "cell_type": "code",
   "execution_count": 4,
   "metadata": {},
   "outputs": [],
   "source": [
    "utm_northings_max = 4205000\n",
    "utm_northings_min = 4185000\n",
    "utm_eastings_max = 305000\n",
    "utm_eastings_min = 285000\n",
    "\n",
    "geometries = [\n",
    "    {\n",
    "        'type': 'Polygon',\n",
    "        'coordinates': [[\n",
    "            [utm_eastings_min, utm_northings_max],\n",
    "            [utm_eastings_max, utm_northings_max],\n",
    "            [utm_eastings_max, utm_northings_min],\n",
    "            [utm_eastings_min, utm_northings_min]\n",
    "        ]]\n",
    "    }\n",
    "]"
   ]
  },
  {
   "cell_type": "markdown",
   "metadata": {},
   "source": [
    "Clean up the ASTER image by replacing nodata values with NaN, removing an extra dimension, converting the digital number values to radiance values, and finally clipping to the geometry defined above."
   ]
  },
  {
   "cell_type": "code",
   "execution_count": 5,
   "metadata": {},
   "outputs": [],
   "source": [
    "# Replace the nodatavals with NaN, squeeze out the band dim we don't need\n",
    "aster_src = aster_src.where(aster_src!=aster_src.nodatavals, np.nan).squeeze()\n",
    "# Convert ASTER DN to Radiance\n",
    "aster_band = 14\n",
    "aster_rad = aster_utils.tir_dn2rad(aster_src, aster_band)\n",
    "# set crs back\n",
    "aster_rad.rio.set_crs(aster_src.crs, inplace=True)\n",
    "# clip to geometry\n",
    "aster_rad_clipped = aster_rad.rio.clip(geometries).rename('aster')"
   ]
  },
  {
   "cell_type": "markdown",
   "metadata": {},
   "source": [
    "Use reproject_match to align the MODIS radiance & zones raster to the ASTER image, clip to the geometry defined above."
   ]
  },
  {
   "cell_type": "code",
   "execution_count": null,
   "metadata": {},
   "outputs": [],
   "source": [
    "# convert from DN to Radiance and Brightness Temperature\n",
    "modis_rad_tb = modis_utils.emissive_convert_dn(modis_ds)\n",
    "# Select a single band from the MODIS dataset\n",
    "# make sure to use MODIS band 31 (here index 10, it is around 11 microns)\n",
    "# See a list of band numbers with: modis_ds_repr_match.band_names.split(',')\n",
    "modis_band_index = 10\n",
    "modis_rad_tb_single_band = modis_rad_tb.isel(band=modis_band_index)\n",
    "# Create \"zone_labels\" by numbering each MODIS pixel\n",
    "n_rows, n_cols = modis_rad_tb_single_band.radiance.shape\n",
    "modis_rad_tb_single_band['modis_zones'] = (('y', 'x'), np.reshape(np.arange(n_rows*n_cols), (n_rows, n_cols)))\n",
    "# Change datatype to float, this is requried for reproject match apparently (?) change back to int later\n",
    "modis_rad_tb_single_band['modis_zones'] = modis_rad_tb_single_band.modis_zones.astype('float32')\n",
    "# Add CRS info to this new \"modis_zones\" data array by copying over attributes from another data array\n",
    "zones_attrs = modis_rad_tb_single_band.radiance.attrs.copy()\n",
    "# edit long name attribute for modis zones data array\n",
    "zones_attrs['long_name'] = 'modis_zone_labels'\n",
    "# Add the attributes\n",
    "modis_rad_tb_single_band.modis_zones.attrs = zones_attrs\n",
    "## use Reproject_Match to reproject the GOES geotiff into the same CRS as the ASTER geotiff\n",
    "modis_rad_tb_single_band_repr_match = modis_rad_tb_single_band.rio.reproject_match(aster_src)\n",
    "# switch modis_zones back to int64\n",
    "modis_rad_tb_single_band_repr_match['modis_zones'] = modis_rad_tb_single_band_repr_match.modis_zones.astype('int64')\n",
    "# clip out anything that is nan in the ASTER image\n",
    "modis_rad_tb_single_band_repr_match = modis_rad_tb_single_band_repr_match.where(np.isnan(aster_src.values) == False)\n",
    "## set crs\n",
    "#modis_ds_repr_match.rio.set_crs(aster_src.crs, inplace=True)\n",
    "# clip to geometry\n",
    "modis_rad_tb_single_band_repr_match = modis_rad_tb_single_band_repr_match.rio.clip(geometries)\n",
    "# remove nodata value\n",
    "modis_repr = modis_rad_tb_single_band_repr_match.where(modis_rad_tb_single_band_repr_match.tb_c != modis_rad_tb_single_band_repr_match.tb_c._FillValue)\n",
    "#########   "
   ]
  },
  {
   "cell_type": "markdown",
   "metadata": {},
   "source": [
    "Plot each of these images:"
   ]
  },
  {
   "cell_type": "code",
   "execution_count": null,
   "metadata": {},
   "outputs": [],
   "source": [
    "fig, [ax1, ax2, ax3] = plt.subplots(nrows=1,ncols=3, figsize=(15,4), tight_layout=True)\n",
    "\n",
    "aster_rad_clipped.plot(ax=ax1, cmap='Greys', vmin=5, vmax=8, cbar_kwargs={'label': 'Radiance\\n[$W m^{-2} sr^{-1} um^{-1}$]'})\n",
    "ax1.set_title('ASTER\\nBand 14 Radiance')\n",
    "\n",
    "modis_repr.radiance.plot(ax=ax2, cmap='Greys', vmin=5, vmax=8, cbar_kwargs={'label': 'Radiance\\n[$W m^{-2} sr^{-1} um^{-1}$]'})\n",
    "ax2.set_title('MODIS \\nBand 31 Radiance')\n",
    "\n",
    "modis_repr.modis_zones.plot(ax=ax3, cbar_kwargs={'label': 'Zone #'})\n",
    "ax3.set_title('MODIS\\nPixel Footprint \"zones\"')\n",
    "\n",
    "for this_ax in [ax1, ax2, ax3]:\n",
    "    this_ax.set_ylabel('Northings (m, UTM 11N)')\n",
    "    this_ax.set_xlabel('Eastings (m, UTM 11N)')"
   ]
  },
  {
   "cell_type": "code",
   "execution_count": null,
   "metadata": {},
   "outputs": [],
   "source": []
  },
  {
   "cell_type": "code",
   "execution_count": null,
   "metadata": {},
   "outputs": [],
   "source": []
  },
  {
   "cell_type": "code",
   "execution_count": null,
   "metadata": {},
   "outputs": [],
   "source": []
  },
  {
   "cell_type": "code",
   "execution_count": null,
   "metadata": {},
   "outputs": [],
   "source": []
  },
  {
   "cell_type": "code",
   "execution_count": null,
   "metadata": {},
   "outputs": [],
   "source": []
  },
  {
   "cell_type": "code",
   "execution_count": null,
   "metadata": {},
   "outputs": [],
   "source": []
  },
  {
   "cell_type": "code",
   "execution_count": null,
   "metadata": {},
   "outputs": [],
   "source": []
  },
  {
   "cell_type": "code",
   "execution_count": null,
   "metadata": {},
   "outputs": [],
   "source": []
  },
  {
   "cell_type": "code",
   "execution_count": null,
   "metadata": {},
   "outputs": [],
   "source": []
  },
  {
   "cell_type": "markdown",
   "metadata": {},
   "source": [
    "---\n",
    "**Compute zonal statistics and format results**"
   ]
  },
  {
   "cell_type": "markdown",
   "metadata": {},
   "source": [
    "Compute zonal statistics from the ASTER image, using the GOES zone labels:"
   ]
  },
  {
   "cell_type": "code",
   "execution_count": null,
   "metadata": {},
   "outputs": [],
   "source": [
    "zonalstats = xrs.zonal.stats(goes_zones_repr, \n",
    "                             aster_rad_clipped, \n",
    "                             stat_funcs=['mean', 'max', 'min', 'std', 'var', 'count'])\n",
    "\n",
    "# Preview the resulting dataframe\n",
    "zonalstats.head()"
   ]
  },
  {
   "cell_type": "code",
   "execution_count": null,
   "metadata": {},
   "outputs": [],
   "source": [
    "# Convert zonal statistics dataframe to xarray dataset\n",
    "zonalstats = xr.Dataset(zonalstats)\n",
    "\n",
    "# Preview the dataset\n",
    "zonalstats"
   ]
  },
  {
   "cell_type": "markdown",
   "metadata": {},
   "source": [
    "Define a function to map the results from xrs.zonal.stats() back into the original zones grid"
   ]
  },
  {
   "cell_type": "code",
   "execution_count": null,
   "metadata": {},
   "outputs": [],
   "source": [
    "def mapZonalStats(zones, zonalstats, stat_name):\n",
    "    ''' Function for mapping the zonal statistics back to the original grid to get a 2D map of the chosen statistic'''\n",
    "    # create an empty array for this summary stat\n",
    "    zonal_stat = np.zeros_like(zones.values, dtype=np.float64)\n",
    "\n",
    "    # for each zone\n",
    "    for zone_n in zonalstats.dim_0.values:\n",
    "        # get the summary stat for that zone, \n",
    "        # and assign it to the correct locations in the zonal_stat array\n",
    "        try:\n",
    "            zonal_stat[zones.values==zone_n] = zonalstats['{}'.format(stat_name)].sel(dim_0=zone_n).values\n",
    "        except: #MaskError: Cannot convert masked element to a Python int.\n",
    "            zonal_stat[zones.values==zone_n] = -9999\n",
    "\n",
    "    # convert this to an xarray data array with the proper name\n",
    "    zonal_stat_da = xr.DataArray(zonal_stat, \n",
    "                                 dims=[\"y\", \"x\"],\n",
    "                                 coords=dict(\n",
    "                                             x=([\"x\"], zones.x),\n",
    "                                             y=([\"y\"], zones.y),\n",
    "                                             ),\n",
    "                                 name='zonal_{}'.format(stat_name))\n",
    "    # remove nodata values\n",
    "    zonal_stat_da = zonal_stat_da.where(zonal_stat_da!=-9999, np.nan)\n",
    "\n",
    "    return zonal_stat_da"
   ]
  },
  {
   "cell_type": "code",
   "execution_count": null,
   "metadata": {},
   "outputs": [],
   "source": [
    "# Map each zonal stat back into the original zones grid\n",
    "zonal_means = mapZonalStats(goes_zones_repr, zonalstats, 'mean')\n",
    "zonal_max = mapZonalStats(goes_zones_repr, zonalstats, 'max')\n",
    "zonal_min = mapZonalStats(goes_zones_repr, zonalstats, 'min')\n",
    "zonal_std = mapZonalStats(goes_zones_repr, zonalstats, 'std')\n",
    "zonal_var = mapZonalStats(goes_zones_repr, zonalstats, 'var')\n",
    "zonal_count = mapZonalStats(goes_zones_repr, zonalstats, 'count')"
   ]
  },
  {
   "cell_type": "markdown",
   "metadata": {},
   "source": [
    "Compute the difference between GOES Radiance and the ASTER zonal mean radiance"
   ]
  },
  {
   "cell_type": "code",
   "execution_count": null,
   "metadata": {},
   "outputs": [],
   "source": [
    "# Compute the difference between GOES Radiance and the ASTER zonal mean radiance\n",
    "mean_diff = goes_rad_repr.values - zonal_means.values\n",
    "# Create a data array for the mean difference values\n",
    "mean_diff_da = xr.DataArray(mean_diff, name='mean_diff', dims=[\"y\", \"x\"])"
   ]
  },
  {
   "cell_type": "markdown",
   "metadata": {},
   "source": [
    "Merge all zonal stats back with the original ASTER data to create a single dataset"
   ]
  },
  {
   "cell_type": "code",
   "execution_count": null,
   "metadata": {},
   "outputs": [],
   "source": [
    "# Merge all the zonal statistics data arrays and the mean difference data array\n",
    "ds = xr.merge([aster_rad_clipped, goes_rad_repr, goes_zones_repr, zonal_means, zonal_max, zonal_min, zonal_std, zonal_var, zonal_count, mean_diff_da])\n",
    "# Clip this dataset to the ASTER image extent\n",
    "ds = ds.where(~np.isnan(aster_rad_clipped))\n",
    "# Remove data where we have overlap between a GOES pixel footprint \"zone\" and the edge of the ASTER image\n",
    "# Use the \"zonal_count\" (the number of ASTER pixels in each GOES pixel footprint) to determine this\n",
    "# Example: 800 90m ASTER pixels is 800x90x90 square meters, or approximately 6.48 square kilometers or,\n",
    "# about 2.5x2.5 km, about the size of a full GOES-16 ABI pixel here\n",
    "# NOTE: The number of ASTER pixels per GOES pixel footprint is not constant, so there are some \"edge pixels\" still included here\n",
    "ds = ds.where(ds.zonal_count > 800)"
   ]
  },
  {
   "cell_type": "markdown",
   "metadata": {},
   "source": [
    "Plot all the results:"
   ]
  },
  {
   "cell_type": "code",
   "execution_count": null,
   "metadata": {},
   "outputs": [],
   "source": [
    "fig, ax = plt.subplots(nrows=3, ncols=4, figsize=(15,9), tight_layout=True)\n",
    "ax = ax.flatten()\n",
    "\n",
    "for i, data_var in enumerate(ds):\n",
    "    ds[str(data_var)].plot(ax=ax[i])\n",
    "    ax[i].set_title(str(data_var))"
   ]
  },
  {
   "cell_type": "markdown",
   "metadata": {},
   "source": [
    "---\n",
    "\n",
    "**Wrap the above into a function**"
   ]
  },
  {
   "cell_type": "code",
   "execution_count": null,
   "metadata": {},
   "outputs": [],
   "source": [
    "def upscale_aster_goes_rad_zonal_stats(aster_rad_filepath, goes_rad_filepath, goes_zones_filepath, bounding_geometry, zonal_count_threshold=None, output_filepath=None):\n",
    "    '''Given an ASTER thermal infrared radiance GeoTiff image, a GOES ABI thermal infrared radiance GeoTiff image,\n",
    "       and a GOES ABI GeoTiff image defining pixel footprint \"zones\", compute zonal statistics for each GOES pixel\n",
    "       footprint. Compute the difference between the GOES ABI radiance and ASTER zonal mean radiance.\n",
    "       Return a dataset, or save dataset to a netcdf file, with the three input dataarrays plus zonal statistic data arrays.'''\n",
    "    \n",
    "    ### Open and clean-up input datasets ###\n",
    "    # Use rioxarray to open a GeoTIFF of GOES-16 ABI Radiance that has been orthorectified for our study area\n",
    "    goes_rad = xr.open_rasterio(goes_rad_filepath)\n",
    "    # Open its associated GOES \"zone_labels\" GeoTIFF raster that was generated at the same time the image was orthorectified\n",
    "    goes_zones = xr.open_rasterio(goes_zones_filepath)\n",
    "    # Open the coincident ASTER thermal infrared radiance GeoTIFF image we want to compare with\n",
    "    aster_src = xr.open_rasterio(aster_rad_filepath)\n",
    "    \n",
    "    ### Use reproject_match to align the GOES radiance and GOES zones rasters to the ASTER image, clip to the geometry defined above, and set zone values to integers. ###\n",
    "    # Reproject match goes rad raster to aster, clip to geometry,  and squeeze out extra dim\n",
    "    goes_rad_repr = goes_rad.rio.reproject_match(aster_src).rio.clip(bounding_geometry).squeeze().rename('goes')\n",
    "    # convert GOES radiance (mW m^-2 sr^-1 1/cm^-1) to match MODIS and ASTER (W m^-2 sr^-1 um^-1)\n",
    "    goes_rad_repr = (goes_rad_repr / 1000) * (61.5342/0.7711)\n",
    "    # Reproject match goes zones raster to aster, clip to geometry, set datatype to integer, and squeeze out extra dim\n",
    "    goes_zones_repr = goes_zones.rio.reproject_match(aster_src).rio.clip(bounding_geometry).astype('int').squeeze().rename('zones')\n",
    "    \n",
    "    ### Clean up the ASTER image by replacing nodata values with NaN, removing an extra dimension, converting the digital number values to radiance values, and finally clipping to the geometry defined above. ###\n",
    "    # Replace the nodatavals with NaN, squeeze out the band dim we don't need\n",
    "    aster_src = aster_src.where(aster_src!=aster_src.nodatavals, np.nan).squeeze()\n",
    "    # Convert ASTER DN to Radiance\n",
    "    aster_band = 14\n",
    "    aster_rad = aster_utils.tir_dn2rad(aster_src, aster_band)\n",
    "    # set crs back\n",
    "    aster_rad.rio.set_crs(aster_src.crs, inplace=True)\n",
    "    # clip to geometry\n",
    "    aster_rad_clipped = aster_rad.rio.clip(bounding_geometry).rename('aster')\n",
    "    \n",
    "    ### Compute zonal statistics and format results ###\n",
    "    # Compute zonal statistics from the ASTER image, using the GOES zone labels:\n",
    "    zonalstats = xrs.zonal.stats(goes_zones_repr, \n",
    "                             aster_rad_clipped, \n",
    "                             stat_funcs=['mean', 'max', 'min', 'std', 'var', 'count'])\n",
    "    # Convert zonal statistics dataframe to xarray dataset\n",
    "    zonalstats = xr.Dataset(zonalstats)\n",
    "    \n",
    "    ### Map the results from xrs.zonal.stats() back into the original zones grid ###\n",
    "    # Map each zonal stat back into the original zones grid\n",
    "    zonal_means = mapZonalStats(goes_zones_repr, zonalstats, 'mean')\n",
    "    zonal_max = mapZonalStats(goes_zones_repr, zonalstats, 'max')\n",
    "    zonal_min = mapZonalStats(goes_zones_repr, zonalstats, 'min')\n",
    "    zonal_std = mapZonalStats(goes_zones_repr, zonalstats, 'std')\n",
    "    zonal_var = mapZonalStats(goes_zones_repr, zonalstats, 'var')\n",
    "    zonal_count = mapZonalStats(goes_zones_repr, zonalstats, 'count')\n",
    "    \n",
    "    ### Compute the difference between GOES Radiance and the ASTER zonal mean radiance ###\n",
    "    # Compute the difference between GOES Radiance and the ASTER zonal mean radiance\n",
    "    mean_diff = goes_rad_repr.values - zonal_means.values\n",
    "    # Create a data array for the mean difference values\n",
    "    mean_diff_da = xr.DataArray(mean_diff, name='mean_diff', dims=[\"y\", \"x\"])\n",
    "    \n",
    "    ### Merge all zonal stats back with the original ASTER data to create a single dataset ###\n",
    "    # Merge all the zonal statistics data arrays and the mean difference data array\n",
    "    ds = xr.merge([aster_rad_clipped, goes_rad_repr, goes_zones_repr, zonal_means, zonal_max, zonal_min, zonal_std, zonal_var, zonal_count, mean_diff_da])\n",
    "    # Clip this dataset to the ASTER image extent\n",
    "    ds = ds.where(~np.isnan(aster_rad_clipped))\n",
    "    # Remove data where we have overlap between a GOES pixel footprint \"zone\" and the edge of the ASTER image\n",
    "    if zonal_count_threshold != None:\n",
    "        # Use the \"zonal_count\" (the number of ASTER pixels in each GOES pixel footprint) to determine this\n",
    "        # Example: zonal_count_threshold = 800 90m ASTER pixels is 800x90x90 square meters, or approximately 6.48 square kilometers or,\n",
    "        # about 2.5x2.5 km, about the size of a full GOES-16 ABI pixel here\n",
    "        # NOTE: The number of ASTER pixels per GOES pixel footprint is not constant, so there are some \"edge pixels\" still included here\n",
    "        ds = ds.where(ds.zonal_count > zonal_count_threshold)\n",
    "    \n",
    "    # If an output_filepath was specified, save the resulting dataset to a netcdf file\n",
    "    if output_filepath != None:\n",
    "        ds.to_netcdf(output_filepath)\n",
    "    \n",
    "    return ds"
   ]
  },
  {
   "cell_type": "code",
   "execution_count": null,
   "metadata": {},
   "outputs": [],
   "source": [
    "ds = upscale_aster_goes_rad_zonal_stats(aster_rad_filepath, \n",
    "                                        goes_rad_filepath, \n",
    "                                        goes_zones_filepath, \n",
    "                                        bounding_geometry=geometries, \n",
    "                                        zonal_count_threshold=800,  # 800 pixels\n",
    "                                        output_filepath=None)"
   ]
  },
  {
   "cell_type": "code",
   "execution_count": null,
   "metadata": {},
   "outputs": [],
   "source": [
    "fig, ax = plt.subplots(nrows=3, ncols=4, figsize=(15,9), tight_layout=True)\n",
    "ax = ax.flatten()\n",
    "\n",
    "for i, data_var in enumerate(ds):\n",
    "    ds[str(data_var)].plot(ax=ax[i])\n",
    "    ax[i].set_title(str(data_var))"
   ]
  },
  {
   "cell_type": "code",
   "execution_count": null,
   "metadata": {},
   "outputs": [],
   "source": []
  }
 ],
 "metadata": {
  "kernelspec": {
   "display_name": "goes-linux",
   "language": "python",
   "name": "goes-linux"
  },
  "language_info": {
   "codemirror_mode": {
    "name": "ipython",
    "version": 3
   },
   "file_extension": ".py",
   "mimetype": "text/x-python",
   "name": "python",
   "nbconvert_exporter": "python",
   "pygments_lexer": "ipython3",
   "version": "3.6.9"
  }
 },
 "nbformat": 4,
 "nbformat_minor": 4
}
