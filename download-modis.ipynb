{
 "cells": [
  {
   "cell_type": "markdown",
   "metadata": {},
   "source": [
    "I have a csv file with all the date/times of ASTER observations I'm using, and I want to now download all the MODIS (MOD021KM) imagery for the same date/times covering the same spot.\n",
    "\n",
    "I'm using the Earthdata API because doing this through their web portal would be a slow and cumbersome process.\n",
    "\n",
    "Some references:\n",
    " * [Earthdata API](https://cmr.earthdata.nasa.gov/search/site/docs/search/api.html)\n",
    " * [MOD021KM product](https://ladsweb.modaps.eosdis.nasa.gov/missions-and-measurements/products/MOD021KM/)"
   ]
  },
  {
   "cell_type": "code",
   "execution_count": 59,
   "metadata": {},
   "outputs": [],
   "source": [
    "import requests\n",
    "import json\n",
    "import pandas as pd\n",
    "import io\n",
    "import glob"
   ]
  },
  {
   "cell_type": "markdown",
   "metadata": {},
   "source": [
    "Read in ASTER timestamps file"
   ]
  },
  {
   "cell_type": "code",
   "execution_count": 60,
   "metadata": {},
   "outputs": [],
   "source": [
    "aster = pd.read_csv('aster_AST_L1T_band14_Tuolumne-and-CUES.csv')"
   ]
  },
  {
   "cell_type": "markdown",
   "metadata": {},
   "source": [
    "Set up some of the granule search criteria for Earthdata search API"
   ]
  },
  {
   "cell_type": "code",
   "execution_count": 61,
   "metadata": {},
   "outputs": [],
   "source": [
    "url = \"https://cmr.earthdata.nasa.gov/search/granules.csv?\" #\"https://cmr.earthdata.nasa.gov/search/collections?has_granules_created_at\\[\\]=2015-01-01T19:00:00Z,\"\n",
    "\n",
    "shortname_id = \"short_name=MOD021KM\" # \"short_name=MOD03\"\n",
    "version = \"version=6.1\"\n",
    "\n",
    "# bounding box around the Tuolumne area\n",
    "# lower left longitude, lower left latitude, upper right longitude, upper right latitude\n",
    "bounding_box = \"bounding_box[]=-120,37,-118,38\" "
   ]
  },
  {
   "cell_type": "code",
   "execution_count": 62,
   "metadata": {},
   "outputs": [],
   "source": [
    "# empty list to hold modis download URLs\n",
    "modis_urls = []\n",
    "\n",
    "for i, this_timestamp in enumerate(aster.timestampUTC):\n",
    "       \n",
    "    # the date is the first 10 characters of the timestamp string\n",
    "    date = this_timestamp[:10]\n",
    "    #print(date)\n",
    "    \n",
    "    \n",
    "    # Terra ASTER/MODIS is always flying over here at ~18:50 UTC (day) or ~5:50 UTC (night)\n",
    "    hours = [(18, 19), (5, 6)]\n",
    "    for h in hours:\n",
    "        start_time = \"{date}T{hour_start}:00:00Z\".format(date=date,hour_start=h[0])\n",
    "        end_time = \"{date}T{hour_end}:00:00Z\".format(date=date,hour_end=h[1])\n",
    "        time_range = \"temporal=\" + start_time + \",\" + end_time\n",
    "    \n",
    "        # build the whole request URL and make the request.get\n",
    "        response = requests.get(url+\"&\"+shortname_id+\"&\"+version+\"&\"+bounding_box+\"&\"+time_range)\n",
    "    \n",
    "        # read the response CSV and put in a temporary dataframe\n",
    "        df = pd.read_csv(io.StringIO(response.text))\n",
    "        \n",
    "        for modis_url in df['Online Access URLs']:\n",
    "            modis_urls.append(modis_url)"
   ]
  },
  {
   "cell_type": "code",
   "execution_count": 63,
   "metadata": {},
   "outputs": [
    {
     "data": {
      "text/plain": [
       "['https://ladsweb.modaps.eosdis.nasa.gov/archive/allData/61/MOD021KM/2017/063/MOD021KM.A2017063.1850.061.2017312092219.hdf',\n",
       " 'https://ladsweb.modaps.eosdis.nasa.gov/archive/allData/61/MOD021KM/2017/063/MOD021KM.A2017063.0510.061.2017312091343.hdf',\n",
       " 'https://ladsweb.modaps.eosdis.nasa.gov/archive/allData/61/MOD021KM/2017/079/MOD021KM.A2017079.1850.061.2017313021934.hdf',\n",
       " 'https://ladsweb.modaps.eosdis.nasa.gov/archive/allData/61/MOD021KM/2017/079/MOD021KM.A2017079.0510.061.2017313020524.hdf',\n",
       " 'https://ladsweb.modaps.eosdis.nasa.gov/archive/allData/61/MOD021KM/2017/111/MOD021KM.A2017111.1850.061.2017314062948.hdf',\n",
       " 'https://ladsweb.modaps.eosdis.nasa.gov/archive/allData/61/MOD021KM/2017/111/MOD021KM.A2017111.0510.061.2017314050356.hdf',\n",
       " 'https://ladsweb.modaps.eosdis.nasa.gov/archive/allData/61/MOD021KM/2017/143/MOD021KM.A2017143.1850.061.2017314142140.hdf',\n",
       " 'https://ladsweb.modaps.eosdis.nasa.gov/archive/allData/61/MOD021KM/2017/143/MOD021KM.A2017143.0510.061.2017314141235.hdf',\n",
       " 'https://ladsweb.modaps.eosdis.nasa.gov/archive/allData/61/MOD021KM/2017/158/MOD021KM.A2017158.1805.061.2017315001733.hdf',\n",
       " 'https://ladsweb.modaps.eosdis.nasa.gov/archive/allData/61/MOD021KM/2017/158/MOD021KM.A2017158.1805.061.2017315001733.hdf',\n",
       " 'https://ladsweb.modaps.eosdis.nasa.gov/archive/allData/61/MOD021KM/2017/167/MOD021KM.A2017167.1800.061.2017315012329.hdf',\n",
       " 'https://ladsweb.modaps.eosdis.nasa.gov/archive/allData/61/MOD021KM/2017/167/MOD021KM.A2017167.0600.061.2017315012504.hdf',\n",
       " 'https://ladsweb.modaps.eosdis.nasa.gov/archive/allData/61/MOD021KM/2017/264/MOD021KM.A2017264.1845.061.2017265073657.hdf',\n",
       " 'https://ladsweb.modaps.eosdis.nasa.gov/archive/allData/61/MOD021KM/2017/264/MOD021KM.A2017264.0505.061.2017264150300.hdf',\n",
       " 'https://ladsweb.modaps.eosdis.nasa.gov/archive/allData/61/MOD021KM/2017/311/MOD021KM.A2017311.1800.061.2017312072346.hdf',\n",
       " 'https://ladsweb.modaps.eosdis.nasa.gov/archive/allData/61/MOD021KM/2017/311/MOD021KM.A2017311.0600.061.2017311193824.hdf',\n",
       " 'https://ladsweb.modaps.eosdis.nasa.gov/archive/allData/61/MOD021KM/2017/334/MOD021KM.A2017334.1805.061.2017335072254.hdf',\n",
       " 'https://ladsweb.modaps.eosdis.nasa.gov/archive/allData/61/MOD021KM/2017/334/MOD021KM.A2017334.1805.061.2017335072254.hdf',\n",
       " 'https://ladsweb.modaps.eosdis.nasa.gov/archive/allData/61/MOD021KM/2018/003/MOD021KM.A2018003.1755.061.2018004013336.hdf',\n",
       " 'https://ladsweb.modaps.eosdis.nasa.gov/archive/allData/61/MOD021KM/2018/003/MOD021KM.A2018003.0550.061.2018003133110.hdf',\n",
       " 'https://ladsweb.modaps.eosdis.nasa.gov/archive/allData/61/MOD021KM/2018/003/MOD021KM.A2018003.0555.061.2018003133112.hdf',\n",
       " 'https://ladsweb.modaps.eosdis.nasa.gov/archive/allData/61/MOD021KM/2018/082/MOD021KM.A2018082.1850.061.2018083074842.hdf',\n",
       " 'https://ladsweb.modaps.eosdis.nasa.gov/archive/allData/61/MOD021KM/2018/082/MOD021KM.A2018082.0510.061.2018082211831.hdf',\n",
       " 'https://ladsweb.modaps.eosdis.nasa.gov/archive/allData/61/MOD021KM/2018/098/MOD021KM.A2018098.1850.061.2018099073216.hdf',\n",
       " 'https://ladsweb.modaps.eosdis.nasa.gov/archive/allData/61/MOD021KM/2018/098/MOD021KM.A2018098.0510.061.2018098131530.hdf',\n",
       " 'https://ladsweb.modaps.eosdis.nasa.gov/archive/allData/61/MOD021KM/2018/137/MOD021KM.A2018137.1855.061.2018138100943.hdf',\n",
       " 'https://ladsweb.modaps.eosdis.nasa.gov/archive/allData/61/MOD021KM/2018/137/MOD021KM.A2018137.0515.061.2018137134129.hdf',\n",
       " 'https://ladsweb.modaps.eosdis.nasa.gov/archive/allData/61/MOD021KM/2018/146/MOD021KM.A2018146.1850.061.2018147080607.hdf',\n",
       " 'https://ladsweb.modaps.eosdis.nasa.gov/archive/allData/61/MOD021KM/2018/146/MOD021KM.A2018146.0510.061.2018146135411.hdf',\n",
       " 'https://ladsweb.modaps.eosdis.nasa.gov/archive/allData/61/MOD021KM/2018/153/MOD021KM.A2018153.1855.061.2018154074930.hdf',\n",
       " 'https://ladsweb.modaps.eosdis.nasa.gov/archive/allData/61/MOD021KM/2018/153/MOD021KM.A2018153.0515.061.2018153134237.hdf',\n",
       " 'https://ladsweb.modaps.eosdis.nasa.gov/archive/allData/61/MOD021KM/2018/154/MOD021KM.A2018154.1800.061.2018155075011.hdf',\n",
       " 'https://ladsweb.modaps.eosdis.nasa.gov/archive/allData/61/MOD021KM/2018/154/MOD021KM.A2018154.0600.061.2018154193339.hdf',\n",
       " 'https://ladsweb.modaps.eosdis.nasa.gov/archive/allData/61/MOD021KM/2018/155/MOD021KM.A2018155.1845.061.2018158141144.hdf',\n",
       " 'https://ladsweb.modaps.eosdis.nasa.gov/archive/allData/61/MOD021KM/2018/155/MOD021KM.A2018155.0505.061.2018158140850.hdf',\n",
       " 'https://ladsweb.modaps.eosdis.nasa.gov/archive/allData/61/MOD021KM/2018/283/MOD021KM.A2018283.1845.061.2018284075253.hdf',\n",
       " 'https://ladsweb.modaps.eosdis.nasa.gov/archive/allData/61/MOD021KM/2018/283/MOD021KM.A2018283.0505.061.2018283134821.hdf',\n",
       " 'https://ladsweb.modaps.eosdis.nasa.gov/archive/allData/61/MOD021KM/2018/290/MOD021KM.A2018290.1850.061.2018291073220.hdf',\n",
       " 'https://ladsweb.modaps.eosdis.nasa.gov/archive/allData/61/MOD021KM/2018/290/MOD021KM.A2018290.0510.061.2018290134153.hdf',\n",
       " 'https://ladsweb.modaps.eosdis.nasa.gov/archive/allData/61/MOD021KM/2018/305/MOD021KM.A2018305.1805.061.2018310133259.hdf',\n",
       " 'https://ladsweb.modaps.eosdis.nasa.gov/archive/allData/61/MOD021KM/2018/330/MOD021KM.A2018330.1800.061.2018331074304.hdf',\n",
       " 'https://ladsweb.modaps.eosdis.nasa.gov/archive/allData/61/MOD021KM/2018/330/MOD021KM.A2018330.0600.061.2018330201439.hdf',\n",
       " 'https://ladsweb.modaps.eosdis.nasa.gov/archive/allData/61/MOD021KM/2018/353/MOD021KM.A2018353.1805.061.2018354071245.hdf',\n",
       " 'https://ladsweb.modaps.eosdis.nasa.gov/archive/allData/61/MOD021KM/2018/353/MOD021KM.A2018353.1805.061.2018354071245.hdf',\n",
       " 'https://ladsweb.modaps.eosdis.nasa.gov/archive/allData/61/MOD021KM/2019/013/MOD021KM.A2019013.1800.061.2019014071725.hdf',\n",
       " 'https://ladsweb.modaps.eosdis.nasa.gov/archive/allData/61/MOD021KM/2019/013/MOD021KM.A2019013.0600.061.2019013191932.hdf',\n",
       " 'https://ladsweb.modaps.eosdis.nasa.gov/archive/allData/61/MOD021KM/2019/085/MOD021KM.A2019085.1850.061.2019087190747.hdf',\n",
       " 'https://ladsweb.modaps.eosdis.nasa.gov/archive/allData/61/MOD021KM/2019/085/MOD021KM.A2019085.0510.061.2019087190013.hdf',\n",
       " 'https://ladsweb.modaps.eosdis.nasa.gov/archive/allData/61/MOD021KM/2019/117/MOD021KM.A2019117.1850.061.2019118072514.hdf',\n",
       " 'https://ladsweb.modaps.eosdis.nasa.gov/archive/allData/61/MOD021KM/2019/117/MOD021KM.A2019117.0510.061.2019117133301.hdf',\n",
       " 'https://ladsweb.modaps.eosdis.nasa.gov/archive/allData/61/MOD021KM/2019/133/MOD021KM.A2019133.1850.061.2019134071554.hdf',\n",
       " 'https://ladsweb.modaps.eosdis.nasa.gov/archive/allData/61/MOD021KM/2019/133/MOD021KM.A2019133.0510.061.2019133131153.hdf',\n",
       " 'https://ladsweb.modaps.eosdis.nasa.gov/archive/allData/61/MOD021KM/2019/148/MOD021KM.A2019148.1805.061.2019149071650.hdf',\n",
       " 'https://ladsweb.modaps.eosdis.nasa.gov/archive/allData/61/MOD021KM/2019/148/MOD021KM.A2019148.1805.061.2019149071650.hdf',\n",
       " 'https://ladsweb.modaps.eosdis.nasa.gov/archive/allData/61/MOD021KM/2019/149/MOD021KM.A2019149.1850.061.2019150072740.hdf',\n",
       " 'https://ladsweb.modaps.eosdis.nasa.gov/archive/allData/61/MOD021KM/2019/149/MOD021KM.A2019149.0510.061.2019149131907.hdf',\n",
       " 'https://ladsweb.modaps.eosdis.nasa.gov/archive/allData/61/MOD021KM/2019/157/MOD021KM.A2019157.1800.061.2019158071623.hdf',\n",
       " 'https://ladsweb.modaps.eosdis.nasa.gov/archive/allData/61/MOD021KM/2019/157/MOD021KM.A2019157.0600.061.2019157192015.hdf',\n",
       " 'https://ladsweb.modaps.eosdis.nasa.gov/archive/allData/61/MOD021KM/2019/164/MOD021KM.A2019164.1805.061.2019165144113.hdf',\n",
       " 'https://ladsweb.modaps.eosdis.nasa.gov/archive/allData/61/MOD021KM/2019/164/MOD021KM.A2019164.1805.061.2019165144113.hdf',\n",
       " 'https://ladsweb.modaps.eosdis.nasa.gov/archive/allData/61/MOD021KM/2019/181/MOD021KM.A2019181.1850.061.2019182070835.hdf',\n",
       " 'https://ladsweb.modaps.eosdis.nasa.gov/archive/allData/61/MOD021KM/2019/181/MOD021KM.A2019181.0510.061.2019181130831.hdf',\n",
       " 'https://ladsweb.modaps.eosdis.nasa.gov/archive/allData/61/MOD021KM/2019/182/MOD021KM.A2019182.1755.061.2019183010907.hdf',\n",
       " 'https://ladsweb.modaps.eosdis.nasa.gov/archive/allData/61/MOD021KM/2019/182/MOD021KM.A2019182.0550.061.2019182131810.hdf',\n",
       " 'https://ladsweb.modaps.eosdis.nasa.gov/archive/allData/61/MOD021KM/2019/189/MOD021KM.A2019189.1800.061.2019190071518.hdf',\n",
       " 'https://ladsweb.modaps.eosdis.nasa.gov/archive/allData/61/MOD021KM/2019/189/MOD021KM.A2019189.0600.061.2019189191229.hdf',\n",
       " 'https://ladsweb.modaps.eosdis.nasa.gov/archive/allData/61/MOD021KM/2019/213/MOD021KM.A2019213.1850.061.2019214071622.hdf',\n",
       " 'https://ladsweb.modaps.eosdis.nasa.gov/archive/allData/61/MOD021KM/2019/213/MOD021KM.A2019213.0510.061.2019213131105.hdf',\n",
       " 'https://ladsweb.modaps.eosdis.nasa.gov/archive/allData/61/MOD021KM/2019/277/MOD021KM.A2019277.1850.061.2019278070921.hdf',\n",
       " 'https://ladsweb.modaps.eosdis.nasa.gov/archive/allData/61/MOD021KM/2019/277/MOD021KM.A2019277.0510.061.2019277130548.hdf',\n",
       " 'https://ladsweb.modaps.eosdis.nasa.gov/archive/allData/61/MOD021KM/2019/317/MOD021KM.A2019317.1800.061.2019318071525.hdf',\n",
       " 'https://ladsweb.modaps.eosdis.nasa.gov/archive/allData/61/MOD021KM/2019/317/MOD021KM.A2019317.0600.061.2019317192018.hdf',\n",
       " 'https://ladsweb.modaps.eosdis.nasa.gov/archive/allData/61/MOD021KM/2019/365/MOD021KM.A2019365.1800.061.2020002172624.hdf',\n",
       " 'https://ladsweb.modaps.eosdis.nasa.gov/archive/allData/61/MOD021KM/2019/365/MOD021KM.A2019365.0600.061.2019365192319.hdf',\n",
       " 'https://ladsweb.modaps.eosdis.nasa.gov/archive/allData/61/MOD021KM/2020/007/MOD021KM.A2020007.1805.061.2020008071319.hdf',\n",
       " 'https://ladsweb.modaps.eosdis.nasa.gov/archive/allData/61/MOD021KM/2020/007/MOD021KM.A2020007.1805.061.2020008071319.hdf',\n",
       " 'https://ladsweb.modaps.eosdis.nasa.gov/archive/allData/61/MOD021KM/2020/023/MOD021KM.A2020023.1805.061.2020027203157.hdf',\n",
       " 'https://ladsweb.modaps.eosdis.nasa.gov/archive/allData/61/MOD021KM/2020/023/MOD021KM.A2020023.1805.061.2020027203157.hdf',\n",
       " 'https://ladsweb.modaps.eosdis.nasa.gov/archive/allData/61/MOD021KM/2020/032/MOD021KM.A2020032.1800.061.2020033071514.hdf',\n",
       " 'https://ladsweb.modaps.eosdis.nasa.gov/archive/allData/61/MOD021KM/2020/032/MOD021KM.A2020032.0600.061.2020032191658.hdf',\n",
       " 'https://ladsweb.modaps.eosdis.nasa.gov/archive/allData/61/MOD021KM/2020/039/MOD021KM.A2020039.1805.061.2020040071644.hdf',\n",
       " 'https://ladsweb.modaps.eosdis.nasa.gov/archive/allData/61/MOD021KM/2020/057/MOD021KM.A2020057.1755.061.2020058012330.hdf',\n",
       " 'https://ladsweb.modaps.eosdis.nasa.gov/archive/allData/61/MOD021KM/2020/057/MOD021KM.A2020057.0555.061.2020057131101.hdf',\n",
       " 'https://ladsweb.modaps.eosdis.nasa.gov/archive/allData/61/MOD021KM/2020/065/MOD021KM.A2020065.1845.061.2020066071347.hdf',\n",
       " 'https://ladsweb.modaps.eosdis.nasa.gov/archive/allData/61/MOD021KM/2020/065/MOD021KM.A2020065.0505.061.2020065131818.hdf',\n",
       " 'https://ladsweb.modaps.eosdis.nasa.gov/archive/allData/61/MOD021KM/2020/104/MOD021KM.A2020104.1850.061.2020105070743.hdf',\n",
       " 'https://ladsweb.modaps.eosdis.nasa.gov/archive/allData/61/MOD021KM/2020/104/MOD021KM.A2020104.0510.061.2020104131136.hdf',\n",
       " 'https://ladsweb.modaps.eosdis.nasa.gov/archive/allData/61/MOD021KM/2020/120/MOD021KM.A2020120.1850.061.2020121071418.hdf',\n",
       " 'https://ladsweb.modaps.eosdis.nasa.gov/archive/allData/61/MOD021KM/2020/120/MOD021KM.A2020120.0510.061.2020120131038.hdf',\n",
       " 'https://ladsweb.modaps.eosdis.nasa.gov/archive/allData/61/MOD021KM/2020/136/MOD021KM.A2020136.1850.061.2020137064638.hdf',\n",
       " 'https://ladsweb.modaps.eosdis.nasa.gov/archive/allData/61/MOD021KM/2020/136/MOD021KM.A2020136.0510.061.2020136131016.hdf',\n",
       " 'https://ladsweb.modaps.eosdis.nasa.gov/archive/allData/61/MOD021KM/2020/167/MOD021KM.A2020167.1805.061.2020168072058.hdf',\n",
       " 'https://ladsweb.modaps.eosdis.nasa.gov/archive/allData/61/MOD021KM/2020/168/MOD021KM.A2020168.1850.061.2020169071541.hdf',\n",
       " 'https://ladsweb.modaps.eosdis.nasa.gov/archive/allData/61/MOD021KM/2020/168/MOD021KM.A2020168.0510.061.2020168131552.hdf',\n",
       " 'https://ladsweb.modaps.eosdis.nasa.gov/archive/allData/61/MOD021KM/2020/169/MOD021KM.A2020169.1755.061.2020170011807.hdf',\n",
       " 'https://ladsweb.modaps.eosdis.nasa.gov/archive/allData/61/MOD021KM/2020/169/MOD021KM.A2020169.0550.061.2020169132726.hdf']"
      ]
     },
     "execution_count": 63,
     "metadata": {},
     "output_type": "execute_result"
    }
   ],
   "source": [
    "modis_urls"
   ]
  },
  {
   "cell_type": "markdown",
   "metadata": {},
   "source": [
    "Write the list of URLs out to a text file:"
   ]
  },
  {
   "cell_type": "code",
   "execution_count": 65,
   "metadata": {},
   "outputs": [],
   "source": [
    "with open(\"modis_download_list.txt\", \"w\") as output:\n",
    "    for row in modis_urls:\n",
    "        output.write(str(row) + '\\n')"
   ]
  },
  {
   "cell_type": "markdown",
   "metadata": {},
   "source": [
    "---\n",
    "**Download using wget**\n",
    "\n",
    "`wget --http-user=YOUR_USERNAME --ask-password --keep-session-cookies --auth-no-challenge=on -c -i modis_download_list.txt`"
   ]
  },
  {
   "cell_type": "markdown",
   "metadata": {},
   "source": [
    "---\n",
    "\n",
    "**Convert HDF to GeoTiff**"
   ]
  },
  {
   "cell_type": "markdown",
   "metadata": {},
   "source": [
    "First, get filepaths for the MODIS observations I've just now downloaded:"
   ]
  },
  {
   "cell_type": "code",
   "execution_count": 92,
   "metadata": {},
   "outputs": [],
   "source": [
    "# search for MODIS files in this directory\n",
    "modis_dir = '/storage/MODIS/Tuolumne_MOD021KM/'\n",
    "# get .hdf files here\n",
    "modis_filelist = glob.glob(modis_dir + '*.hdf', recursive=True)"
   ]
  },
  {
   "cell_type": "code",
   "execution_count": 93,
   "metadata": {},
   "outputs": [],
   "source": [
    "import rioxarray\n",
    "from pyproj import Transformer\n",
    "from affine import Affine\n",
    "from rioxarray.rioxarray import affine_to_coords\n",
    "\n",
    "def modis_hdf2geotiff(modis_filename, modis_variable, output_filename):\n",
    "    \n",
    "    '''Convert a MODIS HDF file to GeoTiff and reproject following this method: https://gis.stackexchange.com/questions/345691/using-python-gdal-to-reproject-an-hdf'''\n",
    "    \n",
    "    modis_crs_str = \"+proj=sinu +lon_0=0 +x_0=0 +y_0=0 +ellps=WGS84 +datum=WGS84 +units=m +no_defs\"\n",
    "    \n",
    "    rds = rioxarray.open_rasterio(modis_filename,\n",
    "                                  variable=[modis_variable],\n",
    "                                  parse_coordinates=False)\n",
    "    \n",
    "    transformer = Transformer.from_crs(\"EPSG:4326\", modis_crs_str, always_xy=True)\n",
    "    west, north = transformer.transform(rds.WESTBOUNDINGCOORDINATE, rds.NORTHBOUNDINGCOORDINATE)\n",
    "    \n",
    "    pixel_size = 1000 # 1 km\n",
    "    transform = Affine(pixel_size, 0, west, 0, -pixel_size, north)\n",
    "    \n",
    "    coords = affine_to_coords(transform, rds.rio.width, rds.rio.height)\n",
    "    rds.coords[\"x\"] = coords[\"x\"]\n",
    "    rds.coords[\"y\"] = coords[\"y\"]\n",
    "    \n",
    "    # add the CRS\n",
    "    rds.rio.write_crs(modis_crs_str, inplace=True)\n",
    "    \n",
    "    rds4326 = rds.rio.reproject(\"EPSG:4326\")\n",
    "    \n",
    "    # write out to geotiff file\n",
    "    rds4326[modis_variable].rio.to_raster(output_filename)\n",
    "    \n",
    "    return None"
   ]
  },
  {
   "cell_type": "code",
   "execution_count": null,
   "metadata": {},
   "outputs": [],
   "source": [
    "modis_variable = \"4\"\n",
    "\n",
    "for i in range(len(modis_filelist)):\n",
    "    fn = \"{}\".format(modis_filelist[i])\n",
    "    new_fn = \"{}.tif\".format(modis_filelist[i][:-4])\n",
    "    print('\\nConverting {} to {}\\n'.format(fn, new_fn))\n",
    "    modis_hdf2geotiff(fn, modis_variable, new_fn)"
   ]
  },
  {
   "cell_type": "markdown",
   "metadata": {},
   "source": [
    "---\n",
    "---\n",
    "---\n",
    "---"
   ]
  },
  {
   "cell_type": "code",
   "execution_count": 140,
   "metadata": {},
   "outputs": [],
   "source": [
    "from osgeo import gdal\n",
    "import numpy as np\n",
    "import os"
   ]
  },
  {
   "cell_type": "code",
   "execution_count": 157,
   "metadata": {},
   "outputs": [],
   "source": [
    "hdf_file = modis_filelist[0]\n",
    "subdataset = 0\n",
    "band = 10\n",
    "dst_dir = './'"
   ]
  },
  {
   "cell_type": "code",
   "execution_count": 158,
   "metadata": {},
   "outputs": [],
   "source": [
    "\"\"\" Writes MODIS remote sensing HDF file to GeoTiff \"\"\"\n",
    "\n",
    "# open the dataset\n",
    "hdf_ds = gdal.Open(hdf_file, gdal.GA_ReadOnly)\n",
    "band_ds = gdal.Open(hdf_ds.GetSubDatasets()[subdataset][0], gdal.GA_ReadOnly)\n"
   ]
  },
  {
   "cell_type": "code",
   "execution_count": 159,
   "metadata": {},
   "outputs": [
    {
     "data": {
      "text/plain": [
       "<osgeo.gdal.Dataset; proxy of <Swig Object of type 'GDALDatasetShadow *' at 0x7fcaa1147e70> >"
      ]
     },
     "execution_count": 159,
     "metadata": {},
     "output_type": "execute_result"
    }
   ],
   "source": [
    "band_ds"
   ]
  },
  {
   "cell_type": "code",
   "execution_count": 160,
   "metadata": {},
   "outputs": [],
   "source": [
    "\n",
    "# read into numpy array\n",
    "band_array = band_ds.ReadAsArray().astype(np.int16)\n",
    "\n"
   ]
  },
  {
   "cell_type": "code",
   "execution_count": null,
   "metadata": {},
   "outputs": [],
   "source": []
  },
  {
   "cell_type": "code",
   "execution_count": 161,
   "metadata": {},
   "outputs": [],
   "source": [
    "# convert no_data values\n",
    "#band_array[band_array == -28672] = -32768\n"
   ]
  },
  {
   "cell_type": "code",
   "execution_count": 162,
   "metadata": {},
   "outputs": [],
   "source": [
    "\n",
    "# build output path\n",
    "band_path = os.path.join(dst_dir, os.path.basename(os.path.splitext(hdf_file)[0]) + \"-sd\" + str(subdataset+1) + \".tif\")\n"
   ]
  },
  {
   "cell_type": "code",
   "execution_count": 163,
   "metadata": {},
   "outputs": [
    {
     "name": "stdout",
     "output_type": "stream",
     "text": [
      "Successfully wrote:./MOD021KM.A2017063.1850.061.2017312092219-sd1.tif\n"
     ]
    }
   ],
   "source": [
    "\n",
    "# write raster\n",
    "out_ds = gdal.GetDriverByName('GTiff').Create(band_path,\n",
    "                                              band_ds.RasterXSize,\n",
    "                                              band_ds.RasterYSize,\n",
    "                                              1,  #Number of bands\n",
    "                                              gdal.GDT_Int16,\n",
    "                                              ['COMPRESS=LZW', 'TILED=YES'])\n",
    "\n",
    "out_ds.SetGeoTransform(band_ds.GetGeoTransform())\n",
    "out_ds.SetProjection(band_ds.GetProjection())\n",
    "out_ds.GetRasterBand(1).WriteArray(band_array[band])\n",
    "out_ds.GetRasterBand(1).SetNoDataValue(-32768)\n",
    "print(\"Successfully wrote:\" + band_path)\n",
    "\n",
    "out_ds = None  #close dataset to write to disc"
   ]
  },
  {
   "cell_type": "code",
   "execution_count": null,
   "metadata": {},
   "outputs": [],
   "source": []
  },
  {
   "cell_type": "code",
   "execution_count": null,
   "metadata": {},
   "outputs": [],
   "source": []
  },
  {
   "cell_type": "code",
   "execution_count": null,
   "metadata": {},
   "outputs": [],
   "source": []
  },
  {
   "cell_type": "code",
   "execution_count": 104,
   "metadata": {},
   "outputs": [],
   "source": [
    "modis_filename = modis_filelist[0]\n",
    "modis_variable = \"4\"\n",
    "output_filename = \"test9.tif\""
   ]
  },
  {
   "cell_type": "code",
   "execution_count": 105,
   "metadata": {},
   "outputs": [],
   "source": [
    "modis_crs_str = \"+proj=sinu +lon_0=0 +x_0=0 +y_0=0 +ellps=WGS84 +datum=WGS84 +units=m +no_defs\""
   ]
  },
  {
   "cell_type": "code",
   "execution_count": 106,
   "metadata": {},
   "outputs": [
    {
     "name": "stderr",
     "output_type": "stream",
     "text": [
      "/home/spestana/opt/anaconda3/envs/goes-linux/lib/python3.6/site-packages/rasterio/__init__.py:219: NotGeoreferencedWarning: Dataset has no geotransform set. The identity matrix may be returned.\n",
      "  s = DatasetReader(path, driver=driver, sharing=sharing, **kwargs)\n"
     ]
    }
   ],
   "source": [
    "rds = rioxarray.open_rasterio(modis_filename,\n",
    "                              variable=[modis_variable],\n",
    "                              parse_coordinates=False)"
   ]
  },
  {
   "cell_type": "code",
   "execution_count": 111,
   "metadata": {},
   "outputs": [
    {
     "data": {
      "text/plain": [
       "<xarray.Dataset>\n",
       "Dimensions:      (band: 16, x: 1354, y: 2030)\n",
       "Coordinates:\n",
       "  * band         (band) int64 1 2 3 4 5 6 7 8 9 10 11 12 13 14 15 16\n",
       "    spatial_ref  int64 0\n",
       "Dimensions without coordinates: x, y\n",
       "Data variables:\n",
       "    4            (band, y, x) uint16 ...\n",
       "Attributes:\n",
       "    % Dead Detector EV Data:                                     0, 0, 0, 0, ...\n",
       "    % Dead Subframe EV Data:                                     0, 0, 0, 0, ...\n",
       "    % EV Data Not Calibrated:                                    0, 0, 0, 0, ...\n",
       "    % EV Data Where Cannot Compute BG DN:                        0, 0, 0, 0, ...\n",
       "    % EV Data Where Nadir Door Closed:                           0, 0, 0, 0, ...\n",
       "    % L1A EV All Scan Data are Missing:                          0\n",
       "    % L1A EV DN Missing Within Scan:                             0, 0, 0, 0, ...\n",
       "    % L1A EV RSB DN Not in Day Mode:                             0, 0, 0, 0, ...\n",
       "    % RSB EV Data With dn** Below Scale:                         0, 0, 0, 0, ...\n",
       "    % Saturated EV Data:                                         0, 0, 0, 0, ...\n",
       "    % Sector Rotation EV Data:                                   0, 0, 0, 0, ...\n",
       "    % TEB EV Data With Moon in SVP:                              0, 0, 0, 0, ...\n",
       "    %Saturated EV Observations:                                  0, 0.0038496...\n",
       "    %Valid EV Observations:                                      100.0000076,...\n",
       "    ALGORITHMPACKAGEACCEPTANCEDATE:                              1999-12-14\n",
       "    ALGORITHMPACKAGEMATURITYCODE:                                OPERATIONAL\n",
       "    ALGORITHMPACKAGENAME:                                        MODIS Level ...\n",
       "    ALGORITHMPACKAGEVERSION:                                     6.2.2.5_Terra\n",
       "    ANCILLARYINPUTPOINTER.1:                                     MOD03.A20170...\n",
       "    ANCILLARYINPUTTYPE.1:                                        Geolocation\n",
       "    ASSOCIATEDINSTRUMENTSHORTNAME.1:                             MODIS\n",
       "    ASSOCIATEDPLATFORMSHORTNAME.1:                               Terra\n",
       "    ASSOCIATEDSENSORSHORTNAME.1:                                 MODIS\n",
       "    AUTOMATICQUALITYFLAG.1:                                      Suspect\n",
       "    AUTOMATICQUALITYFLAG.2:                                      Suspect\n",
       "    AUTOMATICQUALITYFLAGEXPLANATION.1:                           not being in...\n",
       "    AUTOMATICQUALITYFLAGEXPLANATION.2:                           not being in...\n",
       "    AveragedBlackBodyTemperature:                                290.02\n",
       "    AveragedFocalPlane1Temperature:                              270.53\n",
       "    AveragedFocalPlane2Temperature:                              270.55\n",
       "    AveragedFocalPlane3Temperature:                              83.32\n",
       "    AveragedFocalPlane4Temperature:                              83.02\n",
       "    AveragedMirrorTemperature:                                   279.05\n",
       "    Bit QA Flags Change:                                         8\n",
       "    Bit QA Flags Last Value:                                     827592\n",
       "    CalibrationQuality:                                          marginal\n",
       "    DAYNIGHTFLAG:                                                Day\n",
       "    Dead Detector List:                                          0, 0, 0, 0, ...\n",
       "    Dead Subframe List:                                          0, 0, 0, 0, ...\n",
       "    DESCRREVISION:                                               6.1\n",
       "    Detector Quality Flag:                                       0, 0, 0, 0, ...\n",
       "    Detector Quality Flag2:                                      0, 0, 0, 0, ...\n",
       "    Doors and Screens Configuration:                             224\n",
       "    Earth-Sun Distance:                                          0.9917270541\n",
       "    EASTBOUNDINGCOORDINATE:                                      -104.4524314...\n",
       "    Electronics Configuration Change:                            0, 0\n",
       "    Electronics Redundancy Vector:                               22405973, 1048\n",
       "    Emissive Bands With Bad Data:                                0, 1, 1, 1, ...\n",
       "    Emissive LUT Serial Number and Date of Last Change:          E495 2017:09...\n",
       "    EQUATORCROSSINGDATE.1:                                       2017-03-04\n",
       "    EQUATORCROSSINGLONGITUDE.1:                                  -127.8267604...\n",
       "    EQUATORCROSSINGTIME.1:                                       19:01:31.502974\n",
       "    EXCLUSIONGRINGFLAG.1:                                        N\n",
       "    Focal Plane Set Point State:                                 1\n",
       "    Granule Average QA Values:                                   290.0339355,...\n",
       "    GRINGPOINTLATITUDE.1:                                        42.865142568...\n",
       "    GRINGPOINTLONGITUDE.1:                                       -132.0005540...\n",
       "    GRINGPOINTSEQUENCENO.1:                                      1, 2, 3, 4\n",
       "    HDFEOSVersion:                                               HDFEOS_V2.19\n",
       "    HDFEOS_FractionalOffset_10*nscans_MODIS_SWATH_Type_L1B:      0\n",
       "    HDFEOS_FractionalOffset_Max_EV_frames_MODIS_SWATH_Type_L1B:  0\n",
       "    identifier_product_doi:                                      10.5067/MODI...\n",
       "    identifier_product_doi_authority:                            http://dx.do...\n",
       "    Incomplete Scans:                                            0\n",
       "    INPUTPOINTER:                                                MOD01.A20170...\n",
       "    INSTRUMENTNAME:                                              Moderate Res...\n",
       "    LOCALGRANULEID:                                              MOD021KM.A20...\n",
       "    LONGNAME:                                                    MODIS/Terra ...\n",
       "    Max Earth View Frames:                                       1354\n",
       "    MissionPhase:                                                EXECUTION\n",
       "    NadirPointing:                                               Y\n",
       "    Noise in Average BB Temperature:                             2\n",
       "    Noise in Black Body Thermistors:                             3, 2, 2, 2, ...\n",
       "    Noise in Cavity Temperature:                                 0\n",
       "    Noise in Instrument Temperature:                             1\n",
       "    Noise in LWIR FPA Temperature:                               101\n",
       "    Noise in MWIR FPA Temperature:                               16\n",
       "    Noise in Scan Mirror Thermistor #1:                          10\n",
       "    Noise in Scan Mirror Thermistor #2:                          0\n",
       "    Noise in Scan Mirror Thermistor Average:                     0\n",
       "    Noise in Temperature of NIR FPA:                             0\n",
       "    Noise in Temperature of Vis FPA:                             0\n",
       "    Noisy Detector List:                                         0, 0, 0, 0, ...\n",
       "    Noisy Subframe List:                                         0, 0, 0, 0, ...\n",
       "    NORTHBOUNDINGCOORDINATE:                                     42.838046678...\n",
       "    Number of Day mode scans:                                    203\n",
       "    Number of Night mode scans:                                  0\n",
       "    Number of Scans:                                             203\n",
       "    ORBITNUMBER.1:                                               91546\n",
       "    PARAMETERNAME.1:                                             EV_1KM_RefSB\n",
       "    PARAMETERNAME.2:                                             EV_1KM_Emissive\n",
       "    PGEVERSION:                                                  6.2.2\n",
       "    PROCESSINGCENTER:                                            MODAPS\n",
       "    PROCESSINGENVIRONMENT:                                       Linux minion...\n",
       "    PRODUCTIONDATETIME:                                          2017-11-08T0...\n",
       "    PRODUCTIONHISTORY:                                           PGE02:6.2.2....\n",
       "    QA LUT Serial Number and Date of Last Change:                Q491 2017:09...\n",
       "    QAPERCENTINTERPOLATEDDATA.1:                                 0\n",
       "    QAPERCENTINTERPOLATEDDATA.2:                                 0\n",
       "    QAPERCENTMISSINGDATA.1:                                      0\n",
       "    QAPERCENTMISSINGDATA.2:                                      0\n",
       "    QAPERCENTOUTOFBOUNDSDATA.1:                                  37\n",
       "    QAPERCENTOUTOFBOUNDSDATA.2:                                  0\n",
       "    RANGEBEGINNINGDATE:                                          2017-03-04\n",
       "    RANGEBEGINNINGTIME:                                          18:50:00.000000\n",
       "    RANGEENDINGDATE:                                             2017-03-04\n",
       "    RANGEENDINGTIME:                                             18:55:00.000000\n",
       "    Reflective Bands With Bad Data:                              0, 1, 0, 0, ...\n",
       "    Reflective LUT Serial Number and Date of Last Change:        R503 2017:09...\n",
       "    REPROCESSINGACTUAL:                                          reprocessed\n",
       "    REPROCESSINGPLANNED:                                         further upda...\n",
       "    SCIENCEQUALITYFLAG.1:                                        Not Investig...\n",
       "    SCIENCEQUALITYFLAG.2:                                        Not Investig...\n",
       "    SHORTNAME:                                                   MOD021KM\n",
       "    Solar Irradiance on RSB Detectors over pi:                   511.4599915,...\n",
       "    SOUTHBOUNDINGCOORDINATE:                                     21.556445434...\n",
       "    VERSIONID:                                                   61\n",
       "    WESTBOUNDINGCOORDINATE:                                      -133.9998254..."
      ]
     },
     "execution_count": 111,
     "metadata": {},
     "output_type": "execute_result"
    }
   ],
   "source": [
    "rds"
   ]
  },
  {
   "cell_type": "code",
   "execution_count": 97,
   "metadata": {},
   "outputs": [],
   "source": [
    "#transformer = Transformer.from_crs(\"EPSG:4326\", modis_crs_str, always_xy=True)\n",
    "#west, north = transformer.transform(rds.WESTBOUNDINGCOORDINATE, rds.NORTHBOUNDINGCOORDINATE)"
   ]
  },
  {
   "cell_type": "code",
   "execution_count": 98,
   "metadata": {},
   "outputs": [],
   "source": [
    "\n",
    "#pixel_size = 1000 # 1 km\n",
    "#transform = Affine(pixel_size, 0, west, 0, -pixel_size, north)"
   ]
  },
  {
   "cell_type": "code",
   "execution_count": 99,
   "metadata": {},
   "outputs": [],
   "source": [
    "#coords = affine_to_coords(transform, rds.rio.width, rds.rio.height)\n",
    "#rds.coords[\"x\"] = coords[\"x\"]\n",
    "#rds.coords[\"y\"] = coords[\"y\"]"
   ]
  },
  {
   "cell_type": "code",
   "execution_count": 100,
   "metadata": {},
   "outputs": [],
   "source": [
    "#rds"
   ]
  },
  {
   "cell_type": "code",
   "execution_count": 101,
   "metadata": {},
   "outputs": [
    {
     "data": {
      "text/plain": [
       "<xarray.Dataset>\n",
       "Dimensions:      (band: 16, x: 1354, y: 2030)\n",
       "Coordinates:\n",
       "  * band         (band) int64 1 2 3 4 5 6 7 8 9 10 11 12 13 14 15 16\n",
       "    spatial_ref  int64 0\n",
       "Dimensions without coordinates: x, y\n",
       "Data variables:\n",
       "    4            (band, y, x) uint16 ...\n",
       "Attributes:\n",
       "    % Dead Detector EV Data:                                     0, 0, 0, 0, ...\n",
       "    % Dead Subframe EV Data:                                     0, 0, 0, 0, ...\n",
       "    % EV Data Not Calibrated:                                    0, 0, 0, 0, ...\n",
       "    % EV Data Where Cannot Compute BG DN:                        0, 0, 0, 0, ...\n",
       "    % EV Data Where Nadir Door Closed:                           0, 0, 0, 0, ...\n",
       "    % L1A EV All Scan Data are Missing:                          0\n",
       "    % L1A EV DN Missing Within Scan:                             0, 0, 0, 0, ...\n",
       "    % L1A EV RSB DN Not in Day Mode:                             0, 0, 0, 0, ...\n",
       "    % RSB EV Data With dn** Below Scale:                         0, 0, 0, 0, ...\n",
       "    % Saturated EV Data:                                         0, 0, 0, 0, ...\n",
       "    % Sector Rotation EV Data:                                   0, 0, 0, 0, ...\n",
       "    % TEB EV Data With Moon in SVP:                              0, 0, 0, 0, ...\n",
       "    %Saturated EV Observations:                                  0, 0.0038496...\n",
       "    %Valid EV Observations:                                      100.0000076,...\n",
       "    ALGORITHMPACKAGEACCEPTANCEDATE:                              1999-12-14\n",
       "    ALGORITHMPACKAGEMATURITYCODE:                                OPERATIONAL\n",
       "    ALGORITHMPACKAGENAME:                                        MODIS Level ...\n",
       "    ALGORITHMPACKAGEVERSION:                                     6.2.2.5_Terra\n",
       "    ANCILLARYINPUTPOINTER.1:                                     MOD03.A20170...\n",
       "    ANCILLARYINPUTTYPE.1:                                        Geolocation\n",
       "    ASSOCIATEDINSTRUMENTSHORTNAME.1:                             MODIS\n",
       "    ASSOCIATEDPLATFORMSHORTNAME.1:                               Terra\n",
       "    ASSOCIATEDSENSORSHORTNAME.1:                                 MODIS\n",
       "    AUTOMATICQUALITYFLAG.1:                                      Suspect\n",
       "    AUTOMATICQUALITYFLAG.2:                                      Suspect\n",
       "    AUTOMATICQUALITYFLAGEXPLANATION.1:                           not being in...\n",
       "    AUTOMATICQUALITYFLAGEXPLANATION.2:                           not being in...\n",
       "    AveragedBlackBodyTemperature:                                290.02\n",
       "    AveragedFocalPlane1Temperature:                              270.53\n",
       "    AveragedFocalPlane2Temperature:                              270.55\n",
       "    AveragedFocalPlane3Temperature:                              83.32\n",
       "    AveragedFocalPlane4Temperature:                              83.02\n",
       "    AveragedMirrorTemperature:                                   279.05\n",
       "    Bit QA Flags Change:                                         8\n",
       "    Bit QA Flags Last Value:                                     827592\n",
       "    CalibrationQuality:                                          marginal\n",
       "    DAYNIGHTFLAG:                                                Day\n",
       "    Dead Detector List:                                          0, 0, 0, 0, ...\n",
       "    Dead Subframe List:                                          0, 0, 0, 0, ...\n",
       "    DESCRREVISION:                                               6.1\n",
       "    Detector Quality Flag:                                       0, 0, 0, 0, ...\n",
       "    Detector Quality Flag2:                                      0, 0, 0, 0, ...\n",
       "    Doors and Screens Configuration:                             224\n",
       "    Earth-Sun Distance:                                          0.9917270541\n",
       "    EASTBOUNDINGCOORDINATE:                                      -104.4524314...\n",
       "    Electronics Configuration Change:                            0, 0\n",
       "    Electronics Redundancy Vector:                               22405973, 1048\n",
       "    Emissive Bands With Bad Data:                                0, 1, 1, 1, ...\n",
       "    Emissive LUT Serial Number and Date of Last Change:          E495 2017:09...\n",
       "    EQUATORCROSSINGDATE.1:                                       2017-03-04\n",
       "    EQUATORCROSSINGLONGITUDE.1:                                  -127.8267604...\n",
       "    EQUATORCROSSINGTIME.1:                                       19:01:31.502974\n",
       "    EXCLUSIONGRINGFLAG.1:                                        N\n",
       "    Focal Plane Set Point State:                                 1\n",
       "    Granule Average QA Values:                                   290.0339355,...\n",
       "    GRINGPOINTLATITUDE.1:                                        42.865142568...\n",
       "    GRINGPOINTLONGITUDE.1:                                       -132.0005540...\n",
       "    GRINGPOINTSEQUENCENO.1:                                      1, 2, 3, 4\n",
       "    HDFEOSVersion:                                               HDFEOS_V2.19\n",
       "    HDFEOS_FractionalOffset_10*nscans_MODIS_SWATH_Type_L1B:      0\n",
       "    HDFEOS_FractionalOffset_Max_EV_frames_MODIS_SWATH_Type_L1B:  0\n",
       "    identifier_product_doi:                                      10.5067/MODI...\n",
       "    identifier_product_doi_authority:                            http://dx.do...\n",
       "    Incomplete Scans:                                            0\n",
       "    INPUTPOINTER:                                                MOD01.A20170...\n",
       "    INSTRUMENTNAME:                                              Moderate Res...\n",
       "    LOCALGRANULEID:                                              MOD021KM.A20...\n",
       "    LONGNAME:                                                    MODIS/Terra ...\n",
       "    Max Earth View Frames:                                       1354\n",
       "    MissionPhase:                                                EXECUTION\n",
       "    NadirPointing:                                               Y\n",
       "    Noise in Average BB Temperature:                             2\n",
       "    Noise in Black Body Thermistors:                             3, 2, 2, 2, ...\n",
       "    Noise in Cavity Temperature:                                 0\n",
       "    Noise in Instrument Temperature:                             1\n",
       "    Noise in LWIR FPA Temperature:                               101\n",
       "    Noise in MWIR FPA Temperature:                               16\n",
       "    Noise in Scan Mirror Thermistor #1:                          10\n",
       "    Noise in Scan Mirror Thermistor #2:                          0\n",
       "    Noise in Scan Mirror Thermistor Average:                     0\n",
       "    Noise in Temperature of NIR FPA:                             0\n",
       "    Noise in Temperature of Vis FPA:                             0\n",
       "    Noisy Detector List:                                         0, 0, 0, 0, ...\n",
       "    Noisy Subframe List:                                         0, 0, 0, 0, ...\n",
       "    NORTHBOUNDINGCOORDINATE:                                     42.838046678...\n",
       "    Number of Day mode scans:                                    203\n",
       "    Number of Night mode scans:                                  0\n",
       "    Number of Scans:                                             203\n",
       "    ORBITNUMBER.1:                                               91546\n",
       "    PARAMETERNAME.1:                                             EV_1KM_RefSB\n",
       "    PARAMETERNAME.2:                                             EV_1KM_Emissive\n",
       "    PGEVERSION:                                                  6.2.2\n",
       "    PROCESSINGCENTER:                                            MODAPS\n",
       "    PROCESSINGENVIRONMENT:                                       Linux minion...\n",
       "    PRODUCTIONDATETIME:                                          2017-11-08T0...\n",
       "    PRODUCTIONHISTORY:                                           PGE02:6.2.2....\n",
       "    QA LUT Serial Number and Date of Last Change:                Q491 2017:09...\n",
       "    QAPERCENTINTERPOLATEDDATA.1:                                 0\n",
       "    QAPERCENTINTERPOLATEDDATA.2:                                 0\n",
       "    QAPERCENTMISSINGDATA.1:                                      0\n",
       "    QAPERCENTMISSINGDATA.2:                                      0\n",
       "    QAPERCENTOUTOFBOUNDSDATA.1:                                  37\n",
       "    QAPERCENTOUTOFBOUNDSDATA.2:                                  0\n",
       "    RANGEBEGINNINGDATE:                                          2017-03-04\n",
       "    RANGEBEGINNINGTIME:                                          18:50:00.000000\n",
       "    RANGEENDINGDATE:                                             2017-03-04\n",
       "    RANGEENDINGTIME:                                             18:55:00.000000\n",
       "    Reflective Bands With Bad Data:                              0, 1, 0, 0, ...\n",
       "    Reflective LUT Serial Number and Date of Last Change:        R503 2017:09...\n",
       "    REPROCESSINGACTUAL:                                          reprocessed\n",
       "    REPROCESSINGPLANNED:                                         further upda...\n",
       "    SCIENCEQUALITYFLAG.1:                                        Not Investig...\n",
       "    SCIENCEQUALITYFLAG.2:                                        Not Investig...\n",
       "    SHORTNAME:                                                   MOD021KM\n",
       "    Solar Irradiance on RSB Detectors over pi:                   511.4599915,...\n",
       "    SOUTHBOUNDINGCOORDINATE:                                     21.556445434...\n",
       "    VERSIONID:                                                   61\n",
       "    WESTBOUNDINGCOORDINATE:                                      -133.9998254...\n",
       "    grid_mapping:                                                spatial_ref"
      ]
     },
     "execution_count": 101,
     "metadata": {},
     "output_type": "execute_result"
    }
   ],
   "source": [
    "# add the CRS\n",
    "rds.rio.write_crs(modis_crs_str, inplace=True)"
   ]
  },
  {
   "cell_type": "code",
   "execution_count": 103,
   "metadata": {},
   "outputs": [
    {
     "ename": "CPLE_AppDefinedError",
     "evalue": "The transformation is already \"north up\" or a transformation between pixel/line and georeferenced coordinates cannot be computed for <VRTDataset rasterXSize=\"1354\" rasterYSize=\"2030\"><VRTRasterBand /><SRS>PROJCS[\"unknown\",GEOGCS[\"unknown\",DATUM[\"WGS_1984\",SPHEROID[\"WGS 84\",6378137,298.257223563],AUTHORITY[\"EPSG\",\"6326\"]],PRIMEM[\"Greenwich\",0,AUTHORITY[\"EPSG\",\"8901\"]],UNIT[\"degree\",0.0174532925199433]],PROJECTION[\"Sinusoidal\"],PARAMETER[\"longitude_of_center\",0],PARAMETER[\"false_easting\",0],PARAMETER[\"false_northing\",0],UNIT[\"metre\",1,AUTHORITY[\"EPSG\",\"9001\"]],AXIS[\"Easting\",EAST],AXIS[\"Northing\",NORTH]]</SRS><GeoTransform>0.0,1.0,0.0,0.0,0.0,1.0</GeoTransform></VRTDataset>. There is no affine transformation and no GCPs. Specify transformation option SRC_METHOD=NO_GEOTRANSFORM to bypass this check.",
     "output_type": "error",
     "traceback": [
      "\u001b[0;31m---------------------------------------------------------------------------\u001b[0m",
      "\u001b[0;31mCPLE_AppDefinedError\u001b[0m                      Traceback (most recent call last)",
      "\u001b[0;32m<ipython-input-103-b1d24c3a930d>\u001b[0m in \u001b[0;36m<module>\u001b[0;34m\u001b[0m\n\u001b[0;32m----> 1\u001b[0;31m \u001b[0mrds4326\u001b[0m \u001b[0;34m=\u001b[0m \u001b[0mrds\u001b[0m\u001b[0;34m.\u001b[0m\u001b[0mrio\u001b[0m\u001b[0;34m.\u001b[0m\u001b[0mreproject\u001b[0m\u001b[0;34m(\u001b[0m\u001b[0;34m\"EPSG:4326\"\u001b[0m\u001b[0;34m)\u001b[0m\u001b[0;34m\u001b[0m\u001b[0;34m\u001b[0m\u001b[0m\n\u001b[0m",
      "\u001b[0;32m~/opt/anaconda3/envs/goes-linux/lib/python3.6/site-packages/rioxarray/rioxarray.py\u001b[0m in \u001b[0;36mreproject\u001b[0;34m(self, dst_crs, resolution, shape, transform, resampling)\u001b[0m\n\u001b[1;32m   1819\u001b[0m                     \u001b[0mshape\u001b[0m\u001b[0;34m=\u001b[0m\u001b[0mshape\u001b[0m\u001b[0;34m,\u001b[0m\u001b[0;34m\u001b[0m\u001b[0;34m\u001b[0m\u001b[0m\n\u001b[1;32m   1820\u001b[0m                     \u001b[0mtransform\u001b[0m\u001b[0;34m=\u001b[0m\u001b[0mtransform\u001b[0m\u001b[0;34m,\u001b[0m\u001b[0;34m\u001b[0m\u001b[0;34m\u001b[0m\u001b[0m\n\u001b[0;32m-> 1821\u001b[0;31m                     \u001b[0mresampling\u001b[0m\u001b[0;34m=\u001b[0m\u001b[0mresampling\u001b[0m\u001b[0;34m,\u001b[0m\u001b[0;34m\u001b[0m\u001b[0;34m\u001b[0m\u001b[0m\n\u001b[0m\u001b[1;32m   1822\u001b[0m                 )\n\u001b[1;32m   1823\u001b[0m             )\n",
      "\u001b[0;32m~/opt/anaconda3/envs/goes-linux/lib/python3.6/site-packages/rioxarray/rioxarray.py\u001b[0m in \u001b[0;36mreproject\u001b[0;34m(self, dst_crs, resolution, shape, transform, resampling)\u001b[0m\n\u001b[1;32m   1174\u001b[0m         \u001b[0;32mif\u001b[0m \u001b[0mtransform\u001b[0m \u001b[0;32mis\u001b[0m \u001b[0;32mNone\u001b[0m\u001b[0;34m:\u001b[0m\u001b[0;34m\u001b[0m\u001b[0;34m\u001b[0m\u001b[0m\n\u001b[1;32m   1175\u001b[0m             dst_affine, dst_width, dst_height = _make_dst_affine(\n\u001b[0;32m-> 1176\u001b[0;31m                 \u001b[0mself\u001b[0m\u001b[0;34m.\u001b[0m\u001b[0m_obj\u001b[0m\u001b[0;34m,\u001b[0m \u001b[0mself\u001b[0m\u001b[0;34m.\u001b[0m\u001b[0mcrs\u001b[0m\u001b[0;34m,\u001b[0m \u001b[0mdst_crs\u001b[0m\u001b[0;34m,\u001b[0m \u001b[0mresolution\u001b[0m\u001b[0;34m,\u001b[0m \u001b[0mshape\u001b[0m\u001b[0;34m\u001b[0m\u001b[0;34m\u001b[0m\u001b[0m\n\u001b[0m\u001b[1;32m   1177\u001b[0m             )\n\u001b[1;32m   1178\u001b[0m         \u001b[0;32melse\u001b[0m\u001b[0;34m:\u001b[0m\u001b[0;34m\u001b[0m\u001b[0;34m\u001b[0m\u001b[0m\n",
      "\u001b[0;32m~/opt/anaconda3/envs/goes-linux/lib/python3.6/site-packages/rioxarray/rioxarray.py\u001b[0m in \u001b[0;36m_make_dst_affine\u001b[0;34m(src_data_array, src_crs, dst_crs, dst_resolution, dst_shape)\u001b[0m\n\u001b[1;32m    224\u001b[0m         \u001b[0msrc_height\u001b[0m\u001b[0;34m,\u001b[0m\u001b[0;34m\u001b[0m\u001b[0;34m\u001b[0m\u001b[0m\n\u001b[1;32m    225\u001b[0m         \u001b[0;34m*\u001b[0m\u001b[0msrc_bounds\u001b[0m\u001b[0;34m,\u001b[0m\u001b[0;34m\u001b[0m\u001b[0;34m\u001b[0m\u001b[0m\n\u001b[0;32m--> 226\u001b[0;31m         \u001b[0;34m**\u001b[0m\u001b[0mresolution_or_width_height\u001b[0m\u001b[0;34m,\u001b[0m\u001b[0;34m\u001b[0m\u001b[0;34m\u001b[0m\u001b[0m\n\u001b[0m\u001b[1;32m    227\u001b[0m     )\n\u001b[1;32m    228\u001b[0m     \u001b[0;32mreturn\u001b[0m \u001b[0mdst_affine\u001b[0m\u001b[0;34m,\u001b[0m \u001b[0mdst_width\u001b[0m\u001b[0;34m,\u001b[0m \u001b[0mdst_height\u001b[0m\u001b[0;34m\u001b[0m\u001b[0;34m\u001b[0m\u001b[0m\n",
      "\u001b[0;32m~/opt/anaconda3/envs/goes-linux/lib/python3.6/site-packages/rasterio/env.py\u001b[0m in \u001b[0;36mwrapper\u001b[0;34m(*args, **kwds)\u001b[0m\n\u001b[1;32m    395\u001b[0m         \u001b[0;32melse\u001b[0m\u001b[0;34m:\u001b[0m\u001b[0;34m\u001b[0m\u001b[0;34m\u001b[0m\u001b[0m\n\u001b[1;32m    396\u001b[0m             \u001b[0;32mwith\u001b[0m \u001b[0mEnv\u001b[0m\u001b[0;34m.\u001b[0m\u001b[0mfrom_defaults\u001b[0m\u001b[0;34m(\u001b[0m\u001b[0;34m)\u001b[0m\u001b[0;34m:\u001b[0m\u001b[0;34m\u001b[0m\u001b[0;34m\u001b[0m\u001b[0m\n\u001b[0;32m--> 397\u001b[0;31m                 \u001b[0;32mreturn\u001b[0m \u001b[0mf\u001b[0m\u001b[0;34m(\u001b[0m\u001b[0;34m*\u001b[0m\u001b[0margs\u001b[0m\u001b[0;34m,\u001b[0m \u001b[0;34m**\u001b[0m\u001b[0mkwds\u001b[0m\u001b[0;34m)\u001b[0m\u001b[0;34m\u001b[0m\u001b[0;34m\u001b[0m\u001b[0m\n\u001b[0m\u001b[1;32m    398\u001b[0m     \u001b[0;32mreturn\u001b[0m \u001b[0mwrapper\u001b[0m\u001b[0;34m\u001b[0m\u001b[0;34m\u001b[0m\u001b[0m\n\u001b[1;32m    399\u001b[0m \u001b[0;34m\u001b[0m\u001b[0m\n",
      "\u001b[0;32m~/opt/anaconda3/envs/goes-linux/lib/python3.6/site-packages/rasterio/warp.py\u001b[0m in \u001b[0;36mcalculate_default_transform\u001b[0;34m(src_crs, dst_crs, width, height, left, bottom, right, top, gcps, resolution, dst_width, dst_height)\u001b[0m\n\u001b[1;32m    468\u001b[0m \u001b[0;34m\u001b[0m\u001b[0m\n\u001b[1;32m    469\u001b[0m     dst_affine, dst_width, dst_height = _calculate_default_transform(\n\u001b[0;32m--> 470\u001b[0;31m         src_crs, dst_crs, width, height, left, bottom, right, top, gcps)\n\u001b[0m\u001b[1;32m    471\u001b[0m \u001b[0;34m\u001b[0m\u001b[0m\n\u001b[1;32m    472\u001b[0m     \u001b[0;31m# If resolution is specified, Keep upper-left anchored\u001b[0m\u001b[0;34m\u001b[0m\u001b[0;34m\u001b[0m\u001b[0;34m\u001b[0m\u001b[0m\n",
      "\u001b[0;32mrasterio/_warp.pyx\u001b[0m in \u001b[0;36mrasterio._warp._calculate_default_transform\u001b[0;34m()\u001b[0m\n",
      "\u001b[0;32mrasterio/_warp.pyx\u001b[0m in \u001b[0;36mrasterio._warp._calculate_default_transform\u001b[0;34m()\u001b[0m\n",
      "\u001b[0;32mrasterio/_err.pyx\u001b[0m in \u001b[0;36mrasterio._err.exc_wrap_pointer\u001b[0;34m()\u001b[0m\n",
      "\u001b[0;31mCPLE_AppDefinedError\u001b[0m: The transformation is already \"north up\" or a transformation between pixel/line and georeferenced coordinates cannot be computed for <VRTDataset rasterXSize=\"1354\" rasterYSize=\"2030\"><VRTRasterBand /><SRS>PROJCS[\"unknown\",GEOGCS[\"unknown\",DATUM[\"WGS_1984\",SPHEROID[\"WGS 84\",6378137,298.257223563],AUTHORITY[\"EPSG\",\"6326\"]],PRIMEM[\"Greenwich\",0,AUTHORITY[\"EPSG\",\"8901\"]],UNIT[\"degree\",0.0174532925199433]],PROJECTION[\"Sinusoidal\"],PARAMETER[\"longitude_of_center\",0],PARAMETER[\"false_easting\",0],PARAMETER[\"false_northing\",0],UNIT[\"metre\",1,AUTHORITY[\"EPSG\",\"9001\"]],AXIS[\"Easting\",EAST],AXIS[\"Northing\",NORTH]]</SRS><GeoTransform>0.0,1.0,0.0,0.0,0.0,1.0</GeoTransform></VRTDataset>. There is no affine transformation and no GCPs. Specify transformation option SRC_METHOD=NO_GEOTRANSFORM to bypass this check."
     ]
    }
   ],
   "source": [
    "rds4326 = rds.rio.reproject(\"EPSG:4326\")"
   ]
  },
  {
   "cell_type": "code",
   "execution_count": 86,
   "metadata": {},
   "outputs": [],
   "source": [
    "# write out to geotiff file\n",
    "rds4326[modis_variable].rio.to_raster(output_filename)"
   ]
  },
  {
   "cell_type": "code",
   "execution_count": 87,
   "metadata": {},
   "outputs": [],
   "source": [
    "import xarray as xr\n",
    "import rioxarray"
   ]
  },
  {
   "cell_type": "code",
   "execution_count": 89,
   "metadata": {},
   "outputs": [],
   "source": [
    "ds = xr.open_rasterio('test8.tif')"
   ]
  },
  {
   "cell_type": "code",
   "execution_count": 91,
   "metadata": {},
   "outputs": [
    {
     "data": {
      "text/plain": [
       "<matplotlib.collections.QuadMesh at 0x7fca99330c18>"
      ]
     },
     "execution_count": 91,
     "metadata": {},
     "output_type": "execute_result"
    },
    {
     "data": {
      "image/png": "[encoded data removed]",
      "text/plain": [
       "<Figure size 432x288 with 2 Axes>"
      ]
     },
     "metadata": {
      "needs_background": "light"
     },
     "output_type": "display_data"
    }
   ],
   "source": [
    "ds[10].plot()"
   ]
  },
  {
   "cell_type": "code",
   "execution_count": null,
   "metadata": {},
   "outputs": [],
   "source": []
  },
  {
   "cell_type": "code",
   "execution_count": null,
   "metadata": {},
   "outputs": [],
   "source": []
  },
  {
   "cell_type": "code",
   "execution_count": null,
   "metadata": {},
   "outputs": [],
   "source": []
  },
  {
   "cell_type": "code",
   "execution_count": null,
   "metadata": {},
   "outputs": [],
   "source": []
  },
  {
   "cell_type": "code",
   "execution_count": 76,
   "metadata": {},
   "outputs": [],
   "source": [
    "# Try converting with gdalwarp following this method: https://gis.stackexchange.com/questions/194533/convert-modis-hdf-file-in-sinusoidal-projection-into-geotiff-with\n",
    "\n",
    "#for i in range(len(modis_filelist)):\n",
    "#    fn = \"\\\"{}\\\"\".format(modis_filelist[i])\n",
    "#    new_fn = \"\\\"{}.tif\\\"\".format(modis_filelist[i][:-4])\n",
    "#    print('\\nConverting {} to {}\\n'.format(fn, new_fn))\n",
    "#    !gdalwarp -of GTIFF -s_srs '+proj=sinu +R=6371007.181 +nadgrids=@null +wktext' -r cubic -t_srs '+proj=longlat +datum=WGS84 +no_defs' HDF4_SDS:UNKNOWN:$fn:4 $new_fn"
   ]
  }
 ],
 "metadata": {
  "kernelspec": {
   "display_name": "goes-linux",
   "language": "python",
   "name": "goes-linux"
  },
  "language_info": {
   "codemirror_mode": {
    "name": "ipython",
    "version": 3
   },
   "file_extension": ".py",
   "mimetype": "text/x-python",
   "name": "python",
   "nbconvert_exporter": "python",
   "pygments_lexer": "ipython3",
   "version": "3.6.9"
  }
 },
 "nbformat": 4,
 "nbformat_minor": 4
}
