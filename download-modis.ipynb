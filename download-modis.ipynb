{
 "cells": [
  {
   "cell_type": "markdown",
   "metadata": {},
   "source": [
    "I have a csv file with all the date/times of ASTER observations I'm using, and I want to now download all the MODIS (MOD021KM) imagery for the same date/times covering the same spot.\n",
    "\n",
    "I'm using the Earthdata API because doing this through their web portal would be a slow and cumbersome process.\n",
    "\n",
    "Some references:\n",
    " * [Earthdata API](https://cmr.earthdata.nasa.gov/search/site/docs/search/api.html)\n",
    " * [MOD021KM product](https://ladsweb.modaps.eosdis.nasa.gov/missions-and-measurements/products/MOD021KM/)"
   ]
  },
  {
   "cell_type": "code",
   "execution_count": 1,
   "metadata": {},
   "outputs": [],
   "source": [
    "import requests\n",
    "import json\n",
    "import pandas as pd\n",
    "import io"
   ]
  },
  {
   "cell_type": "markdown",
   "metadata": {},
   "source": [
    "Read in ASTER timestamps file"
   ]
  },
  {
   "cell_type": "code",
   "execution_count": 2,
   "metadata": {},
   "outputs": [],
   "source": [
    "aster = pd.read_csv('aster_AST_L1T_band14_Tuolumne-and-CUES.csv')"
   ]
  },
  {
   "cell_type": "markdown",
   "metadata": {},
   "source": [
    "Set up some of the granule search criteria for Earthdata search API"
   ]
  },
  {
   "cell_type": "code",
   "execution_count": 3,
   "metadata": {},
   "outputs": [],
   "source": [
    "url = \"https://cmr.earthdata.nasa.gov/search/granules.csv?\" #\"https://cmr.earthdata.nasa.gov/search/collections?has_granules_created_at\\[\\]=2015-01-01T19:00:00Z,\"\n",
    "\n",
    "shortname_id = \"short_name=MOD021KM\"\n",
    "version = \"version=6.1\"\n",
    "\n",
    "# bounding box around the Tuolumne area\n",
    "# lower left longitude, lower left latitude, upper right longitude, upper right latitude\n",
    "bounding_box = \"bounding_box[]=-120,37,118,38\" "
   ]
  },
  {
   "cell_type": "code",
   "execution_count": 4,
   "metadata": {},
   "outputs": [],
   "source": [
    "# empty list to hold modis download URLs\n",
    "modis_urls = []\n",
    "\n",
    "for i, this_timestamp in enumerate(aster.timestampUTC):\n",
    "       \n",
    "    # the date is the first 10 characters of the timestamp string\n",
    "    date = this_timestamp[:10]\n",
    "    #print(date)\n",
    "    \n",
    "    \n",
    "    # Terra ASTER/MODIS is always flying over here at ~18:50 UTC (day) or ~5:50 UTC (night)\n",
    "    hours = [(18, 19), (5, 6)]\n",
    "    for h in hours:\n",
    "        start_time = \"{date}T{hour_start}:00:00Z\".format(date=date,hour_start=h[0])\n",
    "        end_time = \"{date}T{hour_end}:00:00Z\".format(date=date,hour_end=h[1])\n",
    "        time_range = \"temporal=\" + start_time + \",\" + end_time\n",
    "    \n",
    "        # build the whole request URL and make the request.get\n",
    "        response = requests.get(url+\"&\"+shortname_id+\"&\"+version+\"&\"+bounding_box+\"&\"+time_range)\n",
    "    \n",
    "        # read the response CSV and put in a temporary dataframe\n",
    "        df = pd.read_csv(io.StringIO(response.text))\n",
    "        \n",
    "        for modis_url in df['Online Access URLs']:\n",
    "            modis_urls.append(modis_url)"
   ]
  },
  {
   "cell_type": "markdown",
   "metadata": {},
   "source": [
    "Write the list of URLs out to a text file:"
   ]
  },
  {
   "cell_type": "code",
   "execution_count": 5,
   "metadata": {},
   "outputs": [],
   "source": [
    "with open(\"modis_download_list.txt\", \"w\") as output:\n",
    "    for row in modis_urls:\n",
    "        output.write(str(row) + '\\n')"
   ]
  },
  {
   "cell_type": "code",
   "execution_count": null,
   "metadata": {},
   "outputs": [],
   "source": []
  }
 ],
 "metadata": {
  "kernelspec": {
   "display_name": "goes-linux",
   "language": "python",
   "name": "goes-linux"
  },
  "language_info": {
   "codemirror_mode": {
    "name": "ipython",
    "version": 3
   },
   "file_extension": ".py",
   "mimetype": "text/x-python",
   "name": "python",
   "nbconvert_exporter": "python",
   "pygments_lexer": "ipython3",
   "version": "3.6.9"
  }
 },
 "nbformat": 4,
 "nbformat_minor": 4
}
