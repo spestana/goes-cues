{
 "cells": [
  {
   "cell_type": "markdown",
   "metadata": {},
   "source": [
    "# Merge Tuolumne (Gaylor Pit) and GOES datasets\n",
    "\n",
    "Read in our Gaylor Pit and GOES datasets, set up the time bounds we want to look at, and resample everything to 15 minute intervals.\n",
    "\n",
    "Then merge the GOES brightness temperature observations with the Gaylor Pit dataset, and output the merged dataset for analysis elsewhere."
   ]
  },
  {
   "cell_type": "code",
   "execution_count": 1,
   "metadata": {},
   "outputs": [],
   "source": [
    "import pandas as pd\n",
    "import numpy as np\n",
    "import os\n",
    "import datetime as dt\n",
    "import xarray as xr\n",
    "import glob\n",
    "\n",
    "import matplotlib.pyplot as plt\n",
    "%matplotlib inline"
   ]
  },
  {
   "cell_type": "code",
   "execution_count": 2,
   "metadata": {},
   "outputs": [],
   "source": [
    "def getListOfFiles(dirName):\n",
    "    # create a list of file and sub directories \n",
    "    # names in the given directory \n",
    "    # https://thispointer.com/python-how-to-get-list-of-files-in-directory-and-sub-directories/\n",
    "    listOfFile = os.listdir(dirName)\n",
    "    allFiles = list()\n",
    "    # Iterate over all the entries\n",
    "    for entry in listOfFile:\n",
    "        # Create full path\n",
    "        fullPath = os.path.join(dirName, entry)\n",
    "        # If entry is a directory then get the list of files in this directory \n",
    "        if os.path.isdir(fullPath):\n",
    "            allFiles = allFiles + getListOfFiles(fullPath)\n",
    "        else:\n",
    "            allFiles.append(fullPath)\n",
    "                \n",
    "    return allFiles "
   ]
  },
  {
   "cell_type": "markdown",
   "metadata": {},
   "source": [
    "---\n",
    "#### Open Tuolumne (Gaylor Pit) data files:"
   ]
  },
  {
   "cell_type": "code",
   "execution_count": 3,
   "metadata": {},
   "outputs": [],
   "source": [
    "tuol_df = pd.read_pickle('data/GaylorPit_Temp_Snowdepth_2017-2020.pkl')\n",
    "# convert to xarray data array\n",
    "tuol_ds = tuol_df.to_xarray()"
   ]
  },
  {
   "cell_type": "markdown",
   "metadata": {},
   "source": [
    "#### Open GOES L1b Radiance observations for the CUES site:\n",
    "Convert times to UTC-8"
   ]
  },
  {
   "cell_type": "code",
   "execution_count": 4,
   "metadata": {},
   "outputs": [],
   "source": [
    "# Find all our GOES csv files\n",
    "directory = '/storage/GOES/pkl/GaylorPit/*.csv'\n",
    "goes_files = glob.glob(directory)\n",
    "# Read in the files with pandas\n",
    "goes = []\n",
    "_ = [goes.append(pd.read_csv(i)) for i in goes_files]\n",
    "# concatenate together\n",
    "goes = pd.concat(goes)\n",
    "# Change GOES time values from UTC to UTC-8 for CUES site:\n",
    "goes = goes.rename(columns={'time': 'timeUTC', 'ref_or_tb': 'tb_k'})\n",
    "goes['time'] = pd.to_datetime(goes.timeUTC)  - pd.Timedelta(hours=8)\n",
    "goes = goes.drop(columns=['timeUTC'])\n",
    "# create brightness temperature in C column\n",
    "goes['tb_c'] = goes.tb_k - 273.15\n",
    "# Convert pandas dataframe to xarray dataset and and make our local time datetimes the index\n",
    "_goes = goes.set_index('time')\n",
    "_goes.sort_index(inplace=True)\n",
    "goes_ds = _goes.to_xarray()"
   ]
  },
  {
   "cell_type": "markdown",
   "metadata": {},
   "source": [
    "Find non-orthorectified GOES L1b Radiance observations for comparison:"
   ]
  },
  {
   "cell_type": "code",
   "execution_count": 5,
   "metadata": {},
   "outputs": [],
   "source": [
    "# Find all our GOES csv files\n",
    "directory = '/storage/GOES/pkl/GaylorPit_not_orthorectified/*.csv'\n",
    "goes_files = glob.glob(directory)\n",
    "# Read in the files with pandas\n",
    "goes = []\n",
    "_ = [goes.append(pd.read_csv(i)) for i in goes_files]\n",
    "# concatenate together\n",
    "goes = pd.concat(goes)\n",
    "# Change GOES time values from UTC to UTC-8 for CUES site:\n",
    "goes = goes.rename(columns={'time': 'timeUTC', 'Rad': 'Rad_not_orthorectified', 'ref_or_tb': 'tb_k_not_orthorectified'})\n",
    "goes['time'] = pd.to_datetime(goes.timeUTC)  - pd.Timedelta(hours=8)\n",
    "goes = goes.drop(columns=['timeUTC'])\n",
    "# create brightness temperature in C column\n",
    "goes['tb_c_not_orthorectified'] = goes.tb_k_not_orthorectified - 273.15\n",
    "# Convert pandas dataframe to xarray dataset and and make our local time datetimes the index\n",
    "_goes = goes.set_index('time')\n",
    "_goes.sort_index(inplace=True)\n",
    "goes_not_orthorectified_ds = _goes.to_xarray()"
   ]
  },
  {
   "cell_type": "code",
   "execution_count": 6,
   "metadata": {},
   "outputs": [],
   "source": [
    "#plt.figure(figsize=(10,3))\n",
    "#plt.plot(goes_ds.time, goes_not_orthorectified_ds.tb_c_not_orthorectified - goes_ds.tb_c, linestyle='none', marker='.')"
   ]
  },
  {
   "cell_type": "code",
   "execution_count": 7,
   "metadata": {},
   "outputs": [],
   "source": [
    "#goes_not_orthorectified_ds.tb_c_not_orthorectified.plot(alpha=0.5)\n",
    "#goes_ds.tb_c.plot(alpha=0.5)\n",
    "#tuol_ds.tss.plot(alpha=0.5)"
   ]
  },
  {
   "cell_type": "markdown",
   "metadata": {},
   "source": [
    "---\n",
    "#### Set time bounds and resample\n",
    "\n",
    "~~Select only the overlapping time period we want, and resample all of these to 15 minute means, ignoring any nan values.~~\n",
    "\n",
    "(CUES provides ~1-minute observations, GOES Mode3/Mode6 is 5- ~~or 10-~~ minute)\n",
    "\n",
    "* select startdate and enddate for the time period we want\n",
    "* select the nearest GOES ABI observations to the 15-minute Gaylor Pit observations"
   ]
  },
  {
   "cell_type": "code",
   "execution_count": 8,
   "metadata": {},
   "outputs": [],
   "source": [
    "#startdate = '2017-03-01'\n",
    "startdate = '2017-04-19'\n",
    "enddate = '2020-06-30'\n",
    "\n",
    "# Match the nearest datetimes\n",
    "_tuol_ds = tuol_ds.sel(time=slice(startdate, enddate))\n",
    "_goes_ds = goes_ds.sel(time=slice(startdate, enddate)).sel(time=_tuol_ds.time, method='nearest')\n",
    "_goes_not_orthorectified_ds = goes_not_orthorectified_ds.sel(time=slice(startdate, enddate)).sel(time=_tuol_ds.time, method='nearest')\n",
    "\n",
    "#tuol_ds_5min = tuol_ds.sel(time=slice(startdate, enddate)).resample(time='15min').reduce(np.nanmean)\n",
    "#goes_ds_5min = goes_ds.sel(time=slice(startdate, enddate)).resample(time='15min').reduce(np.nanmean)\n",
    "#goes_not_orthorectified_ds_5min = goes_not_orthorectified_ds.sel(time=slice(startdate, enddate)).resample(time='15min').reduce(np.nanmean)\n",
    "##goes_acm_5min = goes_acm.sel(datetime=slice(startdate, enddate)).resample(datetime='5min').reduce(np.nanmean)"
   ]
  },
  {
   "cell_type": "code",
   "execution_count": 9,
   "metadata": {},
   "outputs": [],
   "source": [
    "#plt.figure(figsize=(20,5))\n",
    "#goes_ds.tb_c.plot(linestyle='none', marker='.', label='GOES Tb_C')\n",
    "#_goes_ds.tb_c.plot(linestyle='none', marker='s',  label='GOES Tb_C, 15-min nearest')\n",
    "#_tuol_ds.tss.plot(linestyle='none', marker='o', label='Gaylor Pit Tss 15-minute')\n",
    "#plt.xlim((pd.Timestamp('2018-05-10T07'),pd.Timestamp('2018-05-10T18')))\n",
    "#plt.legend()\n",
    "#plt.title('Original GOES ABI timestamps and Gaylor Pit timestamps')"
   ]
  },
  {
   "cell_type": "markdown",
   "metadata": {},
   "source": [
    "#### Merge the datasets\n",
    "\n",
    "Merge GOES brightness temperature into the Tuolumne Gaylor Pit dataset"
   ]
  },
  {
   "cell_type": "code",
   "execution_count": 10,
   "metadata": {},
   "outputs": [],
   "source": [
    "## Match the nearest datetimes\n",
    "#_tuol_ds = tuol_ds_5min.sel(time=goes_ds_5min.time)\n",
    "#_goes_ds = goes_ds_5min.sel(time=_tuol_ds.time)\n",
    "#_goes_not_orthorectified_ds = goes_not_orthorectified_ds_5min.sel(time=_tuol_ds.time)\n",
    "\n",
    "# assign value to new column in tuolumne gaylor pit dataset\n",
    "_tuol_ds['goes_tb_c'] = (['time'],  _goes_ds.tb_c)\n",
    "_tuol_ds['goes_rad'] = (['time'],  _goes_ds.Rad)\n",
    "_tuol_ds['goes_tb_not_orthorectified_c'] = (['time'],  _goes_not_orthorectified_ds.tb_c_not_orthorectified)\n",
    "_tuol_ds['goes_rad_not_orthorectified'] = (['time'],  _goes_not_orthorectified_ds.Rad_not_orthorectified)\n",
    "\n",
    "# rename this\n",
    "tuol_ds_15min = _tuol_ds"
   ]
  },
  {
   "cell_type": "code",
   "execution_count": 11,
   "metadata": {},
   "outputs": [],
   "source": [
    "#plt.figure(figsize=(20,5))\n",
    "#goes_ds.tb_c.plot(linestyle='none', marker='.', label='GOES Tb_C')\n",
    "#_tuol_ds.goes_tb_c.plot(linestyle='none', marker='s',  label='GOES Tb_C, 15-min nearest')\n",
    "#_tuol_ds.tss.plot(linestyle='none', marker='o', label='Gaylor Pit Tss 15-minute')\n",
    "#plt.xlim((pd.Timestamp('2018-05-10T07'),pd.Timestamp('2018-05-10T18')))\n",
    "#plt.legend()\n",
    "#plt.title('Aligning Nearest GOES ABI timestamp to Gaylor Pit timestamp')"
   ]
  },
  {
   "cell_type": "markdown",
   "metadata": {},
   "source": [
    "**Additional data cleanup steps:**"
   ]
  },
  {
   "cell_type": "markdown",
   "metadata": {},
   "source": [
    "Compute daily median snow depth:\n",
    "\n",
    "* **Resample to the daily median snow depth**. \n",
    "\n",
    "* There are still a few erroneous large daily snowdepth values, so finally **filter out depths > 400 cm** since those are larger than any other values in the timeseries. \n",
    "\n",
    "* Replace all NaN values with linearly interpolated values. \n",
    "\n",
    "* Finally add our cleaned up daily median snow depths to the original dataset."
   ]
  },
  {
   "cell_type": "code",
   "execution_count": 12,
   "metadata": {},
   "outputs": [
    {
     "name": "stderr",
     "output_type": "stream",
     "text": [
      "/home/spestana/opt/anaconda3/envs/goes-linux/lib/python3.6/site-packages/ipykernel_launcher.py:7: FutureWarning: \n",
      "Passing list-likes to .loc or [] with any missing label will raise\n",
      "KeyError in the future, you can use .reindex() as an alternative.\n",
      "\n",
      "See the documentation here:\n",
      "https://pandas.pydata.org/pandas-docs/stable/user_guide/indexing.html#deprecate-loc-reindex-listlike\n",
      "  import sys\n"
     ]
    }
   ],
   "source": [
    "# Compute initial daily median snow depth at Gaylor Pit\n",
    "daily_median_snow_depth = tuol_ds_15min.depth_cm.resample(time='1D').median()\n",
    "# remove depths that are larger than the maximum in the whole 2017-2020 data record I've identified (400 cm)\n",
    "max_daily_median_snowdepth = 400\n",
    "daily_median_snow_depth = daily_median_snow_depth.where(daily_median_snow_depth<max_daily_median_snowdepth)\n",
    "# fill nan values by day (I have to go back to a pandas Dataframe here)\n",
    "daily_median_snow_depth = daily_median_snow_depth.to_dataframe().loc[tuol_ds_15min.to_dataframe().index].fillna(method='bfill')\n",
    "# resample back to 5-minute and interpolate to fill missing values\n",
    "#daily_median_snow_depth = daily_median_snow_depth.resample('15min').interpolate('linear')\n",
    "# finally pull out the values we want, put back into the original dataset as a new variable\n",
    "tuol_ds_15min['daily_median_snow_depth'] = ('time', daily_median_snow_depth.values.flatten())"
   ]
  },
  {
   "cell_type": "markdown",
   "metadata": {},
   "source": [
    "Plot the old snow depth and new daily median snow depth:"
   ]
  },
  {
   "cell_type": "code",
   "execution_count": 13,
   "metadata": {},
   "outputs": [
    {
     "name": "stderr",
     "output_type": "stream",
     "text": [
      "/home/spestana/opt/anaconda3/envs/goes-linux/lib/python3.6/site-packages/pandas/plotting/_matplotlib/converter.py:103: FutureWarning: Using an implicitly registered datetime converter for a matplotlib plotting method. The converter was registered by pandas on import. Future versions of pandas will require you to explicitly register matplotlib converters.\n",
      "\n",
      "To register the converters:\n",
      "\t>>> from pandas.plotting import register_matplotlib_converters\n",
      "\t>>> register_matplotlib_converters()\n",
      "  warnings.warn(msg, FutureWarning)\n"
     ]
    },
    {
     "data": {
      "image/png": "[encoded data removed]",
      "text/plain": [
       "<Figure size 720x216 with 1 Axes>"
      ]
     },
     "metadata": {
      "needs_background": "light"
     },
     "output_type": "display_data"
    }
   ],
   "source": [
    "plt.figure(figsize=(10,3))\n",
    "tuol_ds.depth_cm.plot(linewidth=5, color='lightgrey', label='Original Snow Depth Obs.')\n",
    "tuol_ds_15min.daily_median_snow_depth.plot(color='b',label='Daily Snow Depth')\n",
    "plt.title('Gaylor Pit Snow Depth Data Cleanup')\n",
    "plt.legend();"
   ]
  },
  {
   "cell_type": "markdown",
   "metadata": {},
   "source": [
    "**Compute difference between GOES Tb and Gaylor Pit Tss**\n",
    "\n",
    "(GOES Tb - Gaylor Pit Tss) and add it to the dataset"
   ]
  },
  {
   "cell_type": "code",
   "execution_count": 14,
   "metadata": {},
   "outputs": [],
   "source": [
    "# Orthorectified GOES\n",
    "tuol_ds_15min['goes_tuol_diff'] = tuol_ds_15min.goes_tb_c - tuol_ds_15min.tss\n",
    "\n",
    "# Not orthorecitfied, original GOES\n",
    "tuol_ds_15min['goes_tuol_diff_not_orthorectified'] = tuol_ds_15min.goes_tb_not_orthorectified_c - tuol_ds_15min.tss"
   ]
  },
  {
   "cell_type": "markdown",
   "metadata": {},
   "source": [
    "**Open the 5-minute GOES-16 ABI Cloud Mask product:**"
   ]
  },
  {
   "cell_type": "code",
   "execution_count": 15,
   "metadata": {},
   "outputs": [],
   "source": [
    "goes_cloudmask = pd.read_pickle('data/GOES-16_ABI-L2-ACMC_Tuolumne_2017-2020.pkl')\n",
    "goes_cloudmask = goes_cloudmask.to_xarray()\n",
    "# convert from UTC to UTC-8\n",
    "goes_cloudmask['time'] = goes_cloudmask.time - pd.Timedelta(hours=8)"
   ]
  },
  {
   "cell_type": "markdown",
   "metadata": {},
   "source": [
    "~~Round the ABI Cloud Mask timestamps to the nearest minute to match these up with the merged GOES and Tuolumne (15-minute interval) data. ~~\n",
    "\n",
    "Match the 5-minute cloud mask to the nearest 15-minute Gaylor Pit observation.\n",
    "\n",
    "Add the cloud mask to the cues_ds (**NOTE**: I have only a shorter time period covered by the cloud mask than the rest of the GOES and Tuol data)"
   ]
  },
  {
   "cell_type": "code",
   "execution_count": 16,
   "metadata": {},
   "outputs": [],
   "source": [
    "#_goes_cloudmask = goes_cloudmask.resample(time='15min').mean() ## NOT resampling\n",
    "_goes_cloudmask = goes_cloudmask.sel(time=tuol_ds_15min.time, method='nearest')"
   ]
  },
  {
   "cell_type": "code",
   "execution_count": 17,
   "metadata": {},
   "outputs": [],
   "source": [
    "#plt.figure(figsize=(20,5))\n",
    "#goes_ds.tb_c.plot(linestyle='none', marker='.', label='GOES Tb_C')\n",
    "#tuol_ds_15min.goes_tb_c.plot(linestyle='none', marker='s',  label='GOES Tb_C, 15-min nearest aligned')\n",
    "#tuol_ds_15min.tss.plot(linestyle='none', marker='o', label='Gaylor Pit Tss 15-minute')\n",
    "#_goes_cloudmask.BCM.plot(linestyle='none', marker='d', label='ACM')\n",
    "#plt.xlim((pd.Timestamp('2018-05-10T07'),pd.Timestamp('2018-05-10T18')))\n",
    "#plt.legend()\n",
    "#plt.title('Original GOES ABI Cloud Mask timestamp')"
   ]
  },
  {
   "cell_type": "code",
   "execution_count": 18,
   "metadata": {},
   "outputs": [],
   "source": [
    "# assign value to new column in tuolumne gaylor pit dataset\n",
    "tuol_ds_15min['ABI_Cloud_Mask'] = (['time'],  _goes_cloudmask.BCM)\n",
    "\n",
    "#### this below should no longer be needed###\n",
    "# Fix the cloud mask back to binary (anytime our 15-minute resampling gave us a mixture of clear and clouds, set it to clouds only)\n",
    "#tuol_ds_15min['ABI_Cloud_Mask'][tuol_ds_15min.ABI_Cloud_Mask != 0] = 1\n",
    "# should still only have 1s and 0s\n",
    "#tuol_ds_15min['ABI_Cloud_Mask'].plot(linestyle='none', marker='.')"
   ]
  },
  {
   "cell_type": "code",
   "execution_count": 19,
   "metadata": {},
   "outputs": [],
   "source": [
    "#plt.figure(figsize=(20,5))\n",
    "#goes_ds.tb_c.plot(linestyle='none', marker='.', label='GOES Tb_C')\n",
    "#tuol_ds_15min.goes_tb_c.plot(linestyle='none', marker='s',  label='GOES Tb_C, 15-min nearest aligned')\n",
    "#tuol_ds_15min.tss.plot(linestyle='none', marker='o', label='Gaylor Pit Tss 15-minute')\n",
    "#tuol_ds_15min.ABI_Cloud_Mask.plot(linestyle='none', marker='d', label='ACM')\n",
    "#plt.xlim((pd.Timestamp('2018-05-10T07'),pd.Timestamp('2018-05-10T18')))\n",
    "#plt.legend()\n",
    "#plt.title('Aligned GOES ABI Cloud Mask timestamp')"
   ]
  },
  {
   "cell_type": "markdown",
   "metadata": {},
   "source": [
    "Rename the \"datetime\" index column to just \"time\" and add an hour of day and month and week field"
   ]
  },
  {
   "cell_type": "code",
   "execution_count": 20,
   "metadata": {},
   "outputs": [],
   "source": [
    "# create hour of day field\n",
    "tuol_ds_15min['hour_of_day'] = tuol_ds_15min.time.dt.hour\n",
    "\n",
    "# create month field\n",
    "tuol_ds_15min['month'] = tuol_ds_15min.time.dt.month\n",
    "\n",
    "# create week field\n",
    "tuol_ds_15min['week'] = tuol_ds_15min.time.dt.week"
   ]
  },
  {
   "cell_type": "markdown",
   "metadata": {},
   "source": [
    "#### Export this merged dataset"
   ]
  },
  {
   "cell_type": "code",
   "execution_count": 21,
   "metadata": {},
   "outputs": [],
   "source": [
    "tuol_ds_15min.to_dataframe().to_pickle('data/goes-tuolumne_2017-2020_v2.pkl')"
   ]
  },
  {
   "cell_type": "code",
   "execution_count": 22,
   "metadata": {},
   "outputs": [
    {
     "data": {
      "text/plain": [
       "<xarray.Dataset>\n",
       "Dimensions:                            (time: 161457)\n",
       "Coordinates:\n",
       "  * time                               (time) datetime64[ns] 2017-04-19 ... 2020-06-30T23:45:00\n",
       "Data variables:\n",
       "    SlrkW_dwn [kW/m^2]                 (time) float64 nan nan nan ... 0.0 0.0\n",
       "    SlrkW_up [kW/m^2]                  (time) float64 nan nan nan ... 0.0 0.0\n",
       "    air_temp_c                         (time) float64 -7.372 -6.961 ... 3.25\n",
       "    depth_cm                           (time) float64 297.7 297.4 ... 0.4064\n",
       "    tss                                (time) float64 -17.93 -17.79 ... 2.979\n",
       "    goes_tb_c                          (time) float64 -17.19 -17.36 ... 10.77\n",
       "    goes_rad                           (time) float64 56.43 56.24 ... 92.71\n",
       "    goes_tb_not_orthorectified_c       (time) float64 -17.19 -17.36 ... 10.31\n",
       "    goes_rad_not_orthorectified        (time) float64 56.43 56.24 ... 92.02\n",
       "    daily_median_snow_depth            (time) float64 293.4 286.4 ... nan nan\n",
       "    goes_tuol_diff                     (time) float64 0.7446 0.4265 ... 7.796\n",
       "    goes_tuol_diff_not_orthorectified  (time) float64 0.7446 0.4265 ... 7.331\n",
       "    ABI_Cloud_Mask                     (time) float64 1.0 0.0 0.0 ... 0.0 0.0\n",
       "    hour_of_day                        (time) int64 0 0 0 0 1 ... 22 23 23 23 23\n",
       "    month                              (time) int64 4 4 4 4 4 4 ... 6 6 6 6 6 6\n",
       "    week                               (time) int64 16 16 16 16 ... 27 27 27 27"
      ]
     },
     "execution_count": 22,
     "metadata": {},
     "output_type": "execute_result"
    }
   ],
   "source": [
    "tuol_ds_15min"
   ]
  },
  {
   "cell_type": "code",
   "execution_count": null,
   "metadata": {},
   "outputs": [],
   "source": []
  }
 ],
 "metadata": {
  "kernelspec": {
   "display_name": "goes-linux",
   "language": "python",
   "name": "goes-linux"
  },
  "language_info": {
   "codemirror_mode": {
    "name": "ipython",
    "version": 3
   },
   "file_extension": ".py",
   "mimetype": "text/x-python",
   "name": "python",
   "nbconvert_exporter": "python",
   "pygments_lexer": "ipython3",
   "version": "3.6.9"
  }
 },
 "nbformat": 4,
 "nbformat_minor": 4
}
