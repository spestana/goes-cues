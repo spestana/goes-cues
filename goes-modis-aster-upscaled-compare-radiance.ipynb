{
 "cells": [
  {
   "cell_type": "markdown",
   "metadata": {},
   "source": [
    "# GOES ABI, MODIS, ASTER Comparison\n",
    "## Compute summary statistics for their ~11 micron TIR bands"
   ]
  },
  {
   "cell_type": "code",
   "execution_count": 1,
   "metadata": {},
   "outputs": [],
   "source": [
    "import pandas as pd\n",
    "import numpy as np\n",
    "from scipy import stats\n",
    "import xarray as xr\n",
    "import os\n",
    "import glob\n",
    "\n",
    "# for plotting\n",
    "import matplotlib.pyplot as plt\n",
    "import matplotlib.dates as mdates\n",
    "from matplotlib_scalebar.scalebar import ScaleBar\n",
    "from mpl_toolkits.axes_grid1.inset_locator import inset_axes\n",
    "%matplotlib inline\n",
    "\n",
    "# for plotting ASTER geotiffs\n",
    "import rasterio as rio\n",
    "import rasterio.plot as rioplt\n",
    "from rasterio.warp import calculate_default_transform\n",
    "\n",
    "# for working with raster data\n",
    "import rioxarray\n",
    "\n",
    "# for shapefile\n",
    "import geopandas as gpd\n",
    "\n",
    "# for MODIS conversions\n",
    "import modis_utils\n",
    "\n",
    "# for calculating zonal statistics\n",
    "import aster_utils\n",
    "\n",
    "# for GOES\n",
    "import goes_utils\n",
    "\n",
    "import warnings\n",
    "warnings.filterwarnings('ignore')"
   ]
  },
  {
   "cell_type": "code",
   "execution_count": 2,
   "metadata": {},
   "outputs": [],
   "source": [
    "def summary_stats(a, b):\n",
    "    '''Compute summary statistics for the difference between two sets.\n",
    "    Input two flattened (1-D) arrays with NaN values removed'''\n",
    "    \n",
    "    # remove nan values\n",
    "    a = a[np.isnan(a)==False]\n",
    "    b = b[np.isnan(b)==False]\n",
    "    \n",
    "    # for difference stats\n",
    "    diff = b - a\n",
    "    \n",
    "    # for linear regression stats\n",
    "    slope, intercept, r_value, p_value, std_err = stats.linregress(a, b)\n",
    "    \n",
    "    # populate dict with summary stats\n",
    "    summary_stats_dict = {\n",
    "        #'diff' : diff ,\n",
    "        'n' : len(diff) ,\n",
    "        'mean_diff' : np.nanmean( diff ),\n",
    "        'median_diff' : np.nanmedian( diff ),\n",
    "        'mean_squared_diff' : np.nanmean( diff**2 ),\n",
    "        'rms_diff' : np.sqrt( np.nanmean( diff**2 ) ),\n",
    "        'std_diff' : np.nanstd( diff ),\n",
    "        'slope' : slope,\n",
    "        'intercept' : intercept,\n",
    "        'r_value' : r_value,\n",
    "        'p_value' : p_value,\n",
    "        'std_err' : std_err\n",
    "        }\n",
    "    \n",
    "    return summary_stats_dict"
   ]
  },
  {
   "cell_type": "markdown",
   "metadata": {},
   "source": [
    "Set font sizes for plots"
   ]
  },
  {
   "cell_type": "code",
   "execution_count": 3,
   "metadata": {},
   "outputs": [],
   "source": [
    "SMALL_SIZE = 12\n",
    "MEDIUM_SIZE = 16\n",
    "BIGGER_SIZE = 18\n",
    "\n",
    "plt.rc('font', size=SMALL_SIZE)          # controls default text sizes\n",
    "plt.rc('axes', titlesize=BIGGER_SIZE)     # fontsize of the axes title\n",
    "plt.rc('axes', labelsize=MEDIUM_SIZE)    # fontsize of the x and y labels\n",
    "plt.rc('xtick', labelsize=SMALL_SIZE)    # fontsize of the tick labels\n",
    "plt.rc('ytick', labelsize=SMALL_SIZE)    # fontsize of the tick labels\n",
    "plt.rc('legend', fontsize=SMALL_SIZE)    # legend fontsize\n",
    "plt.rc('figure', titlesize=BIGGER_SIZE)  # fontsize of the figure title"
   ]
  },
  {
   "cell_type": "markdown",
   "metadata": {},
   "source": [
    "Define some funcitons I'll use below"
   ]
  },
  {
   "cell_type": "code",
   "execution_count": 4,
   "metadata": {},
   "outputs": [],
   "source": [
    "# use this function to match the date/time of observations\n",
    "def nearest(items, pivot):\n",
    "    # https://stackoverflow.com/questions/32237862/find-the-closest-date-to-a-given-date\n",
    "    return min(items, key=lambda x: abs(x - pivot))"
   ]
  },
  {
   "cell_type": "markdown",
   "metadata": {},
   "source": [
    "---\n",
    "### Find GOES ABI, MODIS, and ASTER image triplets"
   ]
  },
  {
   "cell_type": "markdown",
   "metadata": {},
   "source": [
    "Get filepaths for ASTER images"
   ]
  },
  {
   "cell_type": "code",
   "execution_count": 5,
   "metadata": {},
   "outputs": [],
   "source": [
    "aster_directory = \"/storage/spestana/ASTER/AST_L1T/geotiff/T/T_band14_Tuolumne-and-CUES/\"\n",
    "# Find all our ASTER files and their timestamps in our directory\n",
    "df = aster_utils.aster_timestamps(aster_directory, ext='tif')\n",
    "# add a UTC-8 datetime for pacific standard that CUES uses\n",
    "df['datetime'] = df.timestampUTC - pd.Timedelta(hours=8)\n",
    "# save a csv file of the ASTER files we are using\n",
    "#aster.to_csv('aster_AST_L1T_band14_Tuolumne-and-CUES.csv')"
   ]
  },
  {
   "cell_type": "markdown",
   "metadata": {},
   "source": [
    "Get filepaths for orthorectified GOES brightness temperature, radiance images and \"zone_labels\""
   ]
  },
  {
   "cell_type": "code",
   "execution_count": 6,
   "metadata": {},
   "outputs": [],
   "source": [
    "goes_directory = \"/storage/GOES/orthorectified\"\n",
    "ortho_goes_tb_filelist = glob.glob(goes_directory + '/**/*_orthorectified_tb.tif', recursive=True)\n",
    "ortho_goes_rad_filelist = glob.glob(goes_directory + '/**/*_orthorectified_Rad.tif', recursive=True)\n",
    "ortho_goes_zones_filelist = glob.glob(goes_directory + '/**/*_orthorectified_zone_labels.tif', recursive=True)\n",
    "#ortho_goes_tb_filelist = glob.glob(goes_directory + '/**/*_original_tb.tif', recursive=True)\n",
    "#ortho_goes_rad_filelist = glob.glob(goes_directory + '/**/*_original_Rad.tif', recursive=True)\n",
    "#ortho_goes_zones_filelist = glob.glob(goes_directory + '/**/*_original_zone_labels.tif', recursive=True)"
   ]
  },
  {
   "cell_type": "markdown",
   "metadata": {},
   "source": [
    "Find the GOES Brightness Temperature observations at the same time as ASTER"
   ]
  },
  {
   "cell_type": "code",
   "execution_count": 7,
   "metadata": {},
   "outputs": [],
   "source": [
    "goes_tb_dict = goes_utils.goes_timestamps(ortho_goes_tb_filelist)"
   ]
  },
  {
   "cell_type": "markdown",
   "metadata": {},
   "source": [
    "Find the GOES Radiance observations at the same time as ASTER"
   ]
  },
  {
   "cell_type": "code",
   "execution_count": 8,
   "metadata": {},
   "outputs": [],
   "source": [
    "goes_rad_dict = goes_utils.goes_timestamps(ortho_goes_rad_filelist)"
   ]
  },
  {
   "cell_type": "markdown",
   "metadata": {},
   "source": [
    "Find the GOES \"zone_labels\" files at the same time as ASTER"
   ]
  },
  {
   "cell_type": "code",
   "execution_count": 9,
   "metadata": {},
   "outputs": [],
   "source": [
    "goes_zones_dict = goes_utils.goes_timestamps(ortho_goes_zones_filelist)"
   ]
  },
  {
   "cell_type": "markdown",
   "metadata": {},
   "source": [
    "Match GOES ABI images with corresponding ASTER image"
   ]
  },
  {
   "cell_type": "code",
   "execution_count": 10,
   "metadata": {},
   "outputs": [],
   "source": [
    "df['goes_timestampUTC'] = df.timestampUTC\n",
    "df['goes_tb_filepath'] = df.filepath\n",
    "df['goes_rad_filepath'] = df.filepath\n",
    "df['goes_zones_filepath'] = df.filepath\n",
    "\n",
    "for i in range(len(df)):\n",
    "    nearest_goes_timestampUTC = nearest(list(goes_rad_dict.keys()), df.timestampUTC[i])\n",
    "    #print('ASTER: {}\\nGOES: {}\\n\\n'.format(df.timestampUTC[i], nearest_goes_timestampUTC))\n",
    "    df['goes_timestampUTC'][i] = nearest_goes_timestampUTC\n",
    "    df['goes_rad_filepath'][i] = goes_rad_dict[nearest_goes_timestampUTC]['filepath']\n",
    "    nearest_goes_tb_timestampUTC = nearest(list(goes_tb_dict.keys()), df.timestampUTC[i])\n",
    "    df['goes_tb_filepath'][i] = goes_tb_dict[nearest_goes_tb_timestampUTC]['filepath']\n",
    "    nearest_goes_zone_timestampUTC = nearest(list(goes_zones_dict.keys()), df.timestampUTC[i])\n",
    "    df['goes_zones_filepath'][i] = goes_zones_dict[nearest_goes_zone_timestampUTC]['filepath']\n",
    "\n",
    "# make anoter column of UTC-8 (PST) times:\n",
    "df['goes_timestampPST'] = df.goes_timestampUTC - pd.Timedelta(hours=8)\n"
   ]
  },
  {
   "cell_type": "markdown",
   "metadata": {},
   "source": [
    "Get filepaths for the MODIS observations I've created NetCDF files for, and their corresponding timestamps:"
   ]
  },
  {
   "cell_type": "code",
   "execution_count": 11,
   "metadata": {},
   "outputs": [],
   "source": [
    "# search for MODIS files in this directory\n",
    "modis_dir = '/storage/MODIS/Tuolumne_MOD021KM/'\n",
    "# get .tif files here\n",
    "modis_filelist = glob.glob(modis_dir + '*.tif', recursive=True)\n",
    "\n",
    "# create an empty dictionary we'll fill with filenames and timestamps for each modis image we have\n",
    "modis_dict = {}\n",
    "\n",
    "for this_modis_file in modis_filelist:\n",
    "    # get just the filename\n",
    "    this_modis_filename = os.path.normpath(this_modis_file).split('/')[-1]\n",
    "    # then parse the year, day of year, hour, and minutes from the filename\n",
    "    this_modis_date_time = this_modis_filename.split('.')[1] + this_modis_filename.split('.')[2]\n",
    "    this_modis_timestampUTC = pd.to_datetime(this_modis_date_time[1:], format=\"%Y%j%H%M\")\n",
    "    this_modis_timestampUTC = pd.Timestamp(this_modis_timestampUTC, tz='UTC') #also specify UTC\n",
    "    # add these to our dictionary, use the date as the key\n",
    "    modis_dict[this_modis_timestampUTC] = {}\n",
    "    modis_dict[this_modis_timestampUTC]['filepath'] = this_modis_file"
   ]
  },
  {
   "cell_type": "markdown",
   "metadata": {},
   "source": [
    "Match ASTER with it's corresponding MODIS image:"
   ]
  },
  {
   "cell_type": "code",
   "execution_count": 12,
   "metadata": {},
   "outputs": [],
   "source": [
    "df['modis_timestampUTC'] = df.timestampUTC\n",
    "df['modis_filepath'] = df.filepath\n",
    "\n",
    "for i in range(len(df)):\n",
    "    nearest_modis_timestampUTC = nearest(list(modis_dict.keys()), df.timestampUTC[i])\n",
    "    #print('ASTER: {}\\nMODIS: {}\\n\\n'.format(df.timestampUTC[i], nearest_modis_timestampUTC))\n",
    "    df['modis_timestampUTC'][i] = nearest_modis_timestampUTC\n",
    "    df['modis_filepath'][i] = modis_dict[nearest_modis_timestampUTC]['filepath']\n",
    "    \n",
    "# make anoter column for MODIS UTC-8 (PST) times:\n",
    "df['modis_timestampPST'] = df.modis_timestampUTC - pd.Timedelta(hours=8)\n",
    "\n"
   ]
  },
  {
   "cell_type": "code",
   "execution_count": 13,
   "metadata": {},
   "outputs": [
    {
     "data": {
      "text/html": [
       "<div>\n",
       "<style scoped>\n",
       "    .dataframe tbody tr th:only-of-type {\n",
       "        vertical-align: middle;\n",
       "    }\n",
       "\n",
       "    .dataframe tbody tr th {\n",
       "        vertical-align: top;\n",
       "    }\n",
       "\n",
       "    .dataframe thead th {\n",
       "        text-align: right;\n",
       "    }\n",
       "</style>\n",
       "<table border=\"1\" class=\"dataframe\">\n",
       "  <thead>\n",
       "    <tr style=\"text-align: right;\">\n",
       "      <th></th>\n",
       "      <th>timestampUTC</th>\n",
       "      <th>filepath</th>\n",
       "      <th>datetime</th>\n",
       "      <th>goes_timestampUTC</th>\n",
       "      <th>goes_tb_filepath</th>\n",
       "      <th>goes_rad_filepath</th>\n",
       "      <th>goes_zones_filepath</th>\n",
       "      <th>goes_timestampPST</th>\n",
       "      <th>modis_timestampUTC</th>\n",
       "      <th>modis_filepath</th>\n",
       "      <th>modis_timestampPST</th>\n",
       "    </tr>\n",
       "  </thead>\n",
       "  <tbody>\n",
       "    <tr>\n",
       "      <th>0</th>\n",
       "      <td>2017-03-04 18:51:03+00:00</td>\n",
       "      <td>/storage/spestana/ASTER/AST_L1T/geotiff/T/T_ba...</td>\n",
       "      <td>2017-03-04 10:51:03+00:00</td>\n",
       "      <td>2017-03-04 18:50:28+00:00</td>\n",
       "      <td>/storage/GOES/orthorectified/2017/03/4/ABI-L1b...</td>\n",
       "      <td>/storage/GOES/orthorectified/2017/03/4/ABI-L1b...</td>\n",
       "      <td>/storage/GOES/orthorectified/2017/03/4/ABI-L1b...</td>\n",
       "      <td>2017-03-04 10:50:28+00:00</td>\n",
       "      <td>2017-03-04 18:50:00+00:00</td>\n",
       "      <td>/storage/MODIS/Tuolumne_MOD021KM/MOD021KM.A201...</td>\n",
       "      <td>2017-03-04 10:50:00+00:00</td>\n",
       "    </tr>\n",
       "    <tr>\n",
       "      <th>1</th>\n",
       "      <td>2017-03-20 18:51:06+00:00</td>\n",
       "      <td>/storage/spestana/ASTER/AST_L1T/geotiff/T/T_ba...</td>\n",
       "      <td>2017-03-20 10:51:06+00:00</td>\n",
       "      <td>2017-03-20 18:50:28+00:00</td>\n",
       "      <td>/storage/GOES/orthorectified/2017/03/20/ABI-L1...</td>\n",
       "      <td>/storage/GOES/orthorectified/2017/03/20/ABI-L1...</td>\n",
       "      <td>/storage/GOES/orthorectified/2017/03/20/ABI-L1...</td>\n",
       "      <td>2017-03-20 10:50:28+00:00</td>\n",
       "      <td>2017-03-20 18:50:00+00:00</td>\n",
       "      <td>/storage/MODIS/Tuolumne_MOD021KM/MOD021KM.A201...</td>\n",
       "      <td>2017-03-20 10:50:00+00:00</td>\n",
       "    </tr>\n",
       "    <tr>\n",
       "      <th>2</th>\n",
       "      <td>2017-04-21 18:51:07+00:00</td>\n",
       "      <td>/storage/spestana/ASTER/AST_L1T/geotiff/T/T_ba...</td>\n",
       "      <td>2017-04-21 10:51:07+00:00</td>\n",
       "      <td>2017-04-21 18:50:02+00:00</td>\n",
       "      <td>/storage/GOES/orthorectified/2017/04/21/ABI-L1...</td>\n",
       "      <td>/storage/GOES/orthorectified/2017/04/21/ABI-L1...</td>\n",
       "      <td>/storage/GOES/orthorectified/2017/04/21/ABI-L1...</td>\n",
       "      <td>2017-04-21 10:50:02+00:00</td>\n",
       "      <td>2017-04-21 18:50:00+00:00</td>\n",
       "      <td>/storage/MODIS/Tuolumne_MOD021KM/MOD021KM.A201...</td>\n",
       "      <td>2017-04-21 10:50:00+00:00</td>\n",
       "    </tr>\n",
       "  </tbody>\n",
       "</table>\n",
       "</div>"
      ],
      "text/plain": [
       "               timestampUTC  \\\n",
       "0 2017-03-04 18:51:03+00:00   \n",
       "1 2017-03-20 18:51:06+00:00   \n",
       "2 2017-04-21 18:51:07+00:00   \n",
       "\n",
       "                                            filepath  \\\n",
       "0  /storage/spestana/ASTER/AST_L1T/geotiff/T/T_ba...   \n",
       "1  /storage/spestana/ASTER/AST_L1T/geotiff/T/T_ba...   \n",
       "2  /storage/spestana/ASTER/AST_L1T/geotiff/T/T_ba...   \n",
       "\n",
       "                   datetime         goes_timestampUTC  \\\n",
       "0 2017-03-04 10:51:03+00:00 2017-03-04 18:50:28+00:00   \n",
       "1 2017-03-20 10:51:06+00:00 2017-03-20 18:50:28+00:00   \n",
       "2 2017-04-21 10:51:07+00:00 2017-04-21 18:50:02+00:00   \n",
       "\n",
       "                                    goes_tb_filepath  \\\n",
       "0  /storage/GOES/orthorectified/2017/03/4/ABI-L1b...   \n",
       "1  /storage/GOES/orthorectified/2017/03/20/ABI-L1...   \n",
       "2  /storage/GOES/orthorectified/2017/04/21/ABI-L1...   \n",
       "\n",
       "                                   goes_rad_filepath  \\\n",
       "0  /storage/GOES/orthorectified/2017/03/4/ABI-L1b...   \n",
       "1  /storage/GOES/orthorectified/2017/03/20/ABI-L1...   \n",
       "2  /storage/GOES/orthorectified/2017/04/21/ABI-L1...   \n",
       "\n",
       "                                 goes_zones_filepath  \\\n",
       "0  /storage/GOES/orthorectified/2017/03/4/ABI-L1b...   \n",
       "1  /storage/GOES/orthorectified/2017/03/20/ABI-L1...   \n",
       "2  /storage/GOES/orthorectified/2017/04/21/ABI-L1...   \n",
       "\n",
       "          goes_timestampPST        modis_timestampUTC  \\\n",
       "0 2017-03-04 10:50:28+00:00 2017-03-04 18:50:00+00:00   \n",
       "1 2017-03-20 10:50:28+00:00 2017-03-20 18:50:00+00:00   \n",
       "2 2017-04-21 10:50:02+00:00 2017-04-21 18:50:00+00:00   \n",
       "\n",
       "                                      modis_filepath        modis_timestampPST  \n",
       "0  /storage/MODIS/Tuolumne_MOD021KM/MOD021KM.A201... 2017-03-04 10:50:00+00:00  \n",
       "1  /storage/MODIS/Tuolumne_MOD021KM/MOD021KM.A201... 2017-03-20 10:50:00+00:00  \n",
       "2  /storage/MODIS/Tuolumne_MOD021KM/MOD021KM.A201... 2017-04-21 10:50:00+00:00  "
      ]
     },
     "execution_count": 13,
     "metadata": {},
     "output_type": "execute_result"
    }
   ],
   "source": [
    "# preview dataframe\n",
    "df.head(3)"
   ]
  },
  {
   "cell_type": "markdown",
   "metadata": {},
   "source": [
    "Save out dataframe with image triplet filepaths and timestamps to csv file:"
   ]
  },
  {
   "cell_type": "code",
   "execution_count": 14,
   "metadata": {},
   "outputs": [],
   "source": [
    "df.to_csv('goes_orthorectified_tb_rad_zones-modis-aster-list.csv')\n",
    "#df.to_csv('goes_original_tb_rad_zones-modis-aster-list.csv')"
   ]
  },
  {
   "cell_type": "markdown",
   "metadata": {},
   "source": [
    "---"
   ]
  },
  {
   "cell_type": "markdown",
   "metadata": {},
   "source": [
    "---\n",
    "\n",
    "## Compute summary statistics\n",
    "\n",
    "#### And optionally make overview plots"
   ]
  },
  {
   "cell_type": "markdown",
   "metadata": {},
   "source": [
    "Define a working area to clip all three rasters to the same common area before computing summary statistics:"
   ]
  },
  {
   "cell_type": "code",
   "execution_count": 15,
   "metadata": {},
   "outputs": [],
   "source": [
    "# Define a working area here in local UTM coordinates to clip all three rasters to the same common area\n",
    "\n",
    "## Area around Tuolumne\n",
    "#utm_northings_max = 4205000\n",
    "#utm_northings_min = 4185000\n",
    "#utm_eastings_max = 305000\n",
    "#utm_eastings_min = 285000\n",
    "\n",
    "# Larger area around Tuolumne further south and east to include Mammoth\n",
    "utm_northings_max = 4205000\n",
    "utm_northings_min = 4140000\n",
    "utm_eastings_max = 320000\n",
    "utm_eastings_min = 285000\n",
    "\n",
    "\n",
    "geometry = [\n",
    "    {\n",
    "        'type': 'Polygon',\n",
    "        'coordinates': [[\n",
    "            [utm_eastings_min, utm_northings_max],\n",
    "            [utm_eastings_max, utm_northings_max],\n",
    "            [utm_eastings_max, utm_northings_min],\n",
    "            [utm_eastings_min, utm_northings_min]\n",
    "        ]]\n",
    "    }\n",
    "]"
   ]
  },
  {
   "cell_type": "markdown",
   "metadata": {},
   "source": [
    "Load image triplets, compute summary statistics:"
   ]
  },
  {
   "cell_type": "code",
   "execution_count": 16,
   "metadata": {},
   "outputs": [
    {
     "name": "stdout",
     "output_type": "stream",
     "text": [
      "0 of 56\n",
      "Zonal stats between ASTER and GOES\n",
      "/storage/spestana/ASTER/AST_L1T/geotiff/T/T_band14_Tuolumne-and-CUES/AST_L1T_00303042017185103_20170305091359_4951_ImageData14.tif\n",
      "/storage/GOES/orthorectified/2017/03/4/ABI-L1b-RadC/18/C14/OR_ABI-L1b-RadC-M3C14_G16_s20170631847509_e20170631850282_c20170631850319_orthorectified_Rad.tif\n",
      ">>>>>>>>>>>>>>>>>>>Open and clean-up input datasets\n",
      ">>>>>>>>>>>>>>>>>>>Use reproject_match...\n",
      ">>>>>>>>>>>>>>>>>>>clean up aster...\n",
      ">>>>>>>>>>>>>>>>>>>compute zonal stats\n",
      ">>>>>>>>>>>>>>>>>>>map results from zonal stats back onto grid\n",
      ">>>>>>>>>>>>>>>>>>>compute TB\n",
      ">>>>>>>>>>>>>>>>>>>compute differences\n",
      ">>>>>>>>>>>>>>>>>>>merge all together\n",
      ">>>>>>>>>>>>>>>>>>>clip to aster image extent\n",
      ">>>>>>>>>>>>>>>>>>>return dataset\n",
      "Zonal stats between ASTER and MODIS\n",
      "/storage/spestana/ASTER/AST_L1T/geotiff/T/T_band14_Tuolumne-and-CUES/AST_L1T_00303042017185103_20170305091359_4951_ImageData14.tif\n",
      "/storage/MODIS/Tuolumne_MOD021KM/MOD021KM.A2017063.1850.061.2017312092219.tif\n",
      ">>>>>>>>>>>>>>>>>>>>>>open and clean up aster image\n",
      ">>>>>>>>>>>>>>>>>>>>>>open and reproject match MODIS image\n",
      ">>>>>>>>>>>>>>>>>>>>>>compute zonal stats\n",
      ">>>>>>>>>>>>>>>>>>>>>>map results back onto grid\n",
      ">>>>>>>>>>>>>>>>>>>>>>compute brightness temperature\n",
      ">>>>>>>>>>>>>>>>>>>>>>merge datasets together\n",
      ">>>>>>>>>>>>>>>>>>>>>>compute differences\n",
      ">>>>>>>>>>>>>>>>>>>>>>return dataset\n",
      "Fixing data variable and attribute names to avoid merge conflicts and invalid characters\n",
      "Merging datasets...\n",
      "Add time UTC dimension\n",
      "Add attributes to dataset\n",
      "Exporting zonal stats dataframes to separate files...\n",
      "Export to NetCDF file...\n",
      "Moving onto next...\n"
     ]
    }
   ],
   "source": [
    "# Set up file output options\n",
    "output_filename_prefix = 'ASTER-MODIS-GOES_'\n",
    "output_filename_suffix = '.nc'\n",
    "#output_filename_suffix = '_original.nc'\n",
    "aster_modis_zonalstats_df_output_filename_suffix = '_aster_modis_zonalstats.nc'\n",
    "aster_goes_zonalstats_df_output_filename_suffix = '_aster_goes_zonalstats.nc'\n",
    "output_dir = '/storage/spestana/ASTER-MODIS-GOES/'\n",
    "\n",
    "# Make an empty list to hold all the resulting datasets\n",
    "#ds_list = []\n",
    "\n",
    "\n",
    "# pick one set of images from our list\n",
    "for n in range(len(df)):\n",
    "    print('{} of {}'.format(n,len(df)))\n",
    "    \n",
    "    # Zonal statistics between ASTER and GOES\n",
    "    print('Zonal stats between ASTER and GOES\\n{}\\n{}'.format(df.filepath[n],df.goes_rad_filepath[n]))\n",
    "    (aster_goes_ds, aster_goes_zonalstats_df) = aster_utils.upscale_aster_goes_rad_zonal_stats(aster_rad_filepath = df.filepath[n], \n",
    "                                                                   goes_rad_filepath = df.goes_rad_filepath[n], \n",
    "                                                                   goes_zones_filepath = df.goes_zones_filepath[n],\n",
    "                                                                   goes_tb_filepath = df.goes_tb_filepath[n],\n",
    "                                                                   bounding_geometry=None,\n",
    "                                                                   output_filepath=None)\n",
    "    \n",
    "    # Zonal statistics between ASTER and MODIS\n",
    "    print('Zonal stats between ASTER and MODIS\\n{}\\n{}'.format(df.filepath[n],df.modis_filepath[n]))\n",
    "    (aster_modis_ds, aster_modis_zonalstats_df) = aster_utils.upscale_aster_modis_rad_zonal_stats(aster_rad_filepath = df.filepath[n],\n",
    "                                                                     modis_rad_filepath = df.modis_filepath[n], \n",
    "                                                                     bounding_geometry=None, \n",
    "                                                                     modis_band_index=10, \n",
    "                                                                     output_filepath=None)\n",
    "    \n",
    "    print('Fixing data variable and attribute names to avoid merge conflicts and invalid characters')\n",
    "    # rename data variables to avoid conflict on merge\n",
    "    for key in aster_goes_ds.keys():\n",
    "        aster_goes_ds = aster_goes_ds.rename({key: 'ast_goes_'+key})\n",
    "    for key in aster_modis_ds.keys():\n",
    "        aster_modis_ds = aster_modis_ds.rename({key: 'ast_mod_'+key})\n",
    "    # remove % and \" \" characters from attributes\n",
    "    for da in aster_modis_ds:\n",
    "        for attr_key in aster_modis_ds[da].attrs.keys():\n",
    "            new_atr_key = attr_key.replace('%', '').replace(' ', '')\n",
    "            aster_modis_ds[da].attrs[new_atr_key] = aster_modis_ds[da].attrs.pop(attr_key)\n",
    "    \n",
    "    # Merge both datasets\n",
    "    print('Merging datasets...')\n",
    "    ds = xr.merge([aster_goes_ds, aster_modis_ds])\n",
    "    \n",
    "    # Add time dimension\n",
    "    print('Add time UTC dimension')\n",
    "    ds = ds.expand_dims({'time': [ df.timestampUTC[n] ]})\n",
    "    \n",
    "    \n",
    "    # Add attributes to dataset\n",
    "    print('Add attributes to dataset')\n",
    "    ds.attrs['aster_rad_filepath'] = df.filepath[n]\n",
    "    ds.attrs['modis_rad_filepath'] = df.modis_filepath[n]\n",
    "    ds.attrs['goes_rad_filepath'] = df.goes_rad_filepath[n]\n",
    "    ds.attrs['goes_zones_filepath'] = df.goes_zones_filepath[n]\n",
    "    ds.attrs['goes_tb_filepath'] = df.goes_tb_filepath[n]\n",
    "    \n",
    "    # Set up filename for output\n",
    "    output_filename_timestamp = df.timestampUTC[n].strftime('%Y-%m-%dT%H%M%SUTC')\n",
    "    output_filepath = output_dir + output_filename_prefix + output_filename_timestamp + output_filename_suffix\n",
    "    \n",
    "\n",
    "    ################################\n",
    "    print('Exporting zonal stats dataframes to separate files...')\n",
    "    \n",
    "    # output filepaths for zonal stats dataframes to xarray datasets to NetCDF files\n",
    "    aster_modis_zonalstats_df_output_filepath = output_dir + output_filename_prefix + output_filename_timestamp + aster_modis_zonalstats_df_output_filename_suffix\n",
    "    aster_goes_zonalstats_df_output_filepath = output_dir + output_filename_prefix + output_filename_timestamp + aster_goes_zonalstats_df_output_filename_suffix\n",
    "    \n",
    "    ds.attrs['aster_modis_zonalstats_filepath'] = aster_modis_zonalstats_df_output_filepath\n",
    "    ds.attrs['aster_goes_zonalstats_filepath'] = aster_goes_zonalstats_df_output_filepath\n",
    "    \n",
    "    # Rename column headers\n",
    "    aster_modis_zonalstats_df = aster_modis_zonalstats_df.rename(columns={'mean':'zonal_mean', 'max':'zonal_max', 'min':'zonal_min', 'std':'zonal_std', 'var':'zonal_var', 'count':'zonal_count'})\n",
    "    # Drop nodata index value\n",
    "    if -9999 in aster_modis_zonalstats_df.index:\n",
    "        aster_modis_zonalstats_df.drop(index=-9999, inplace=True)\n",
    "    # To xarray dataset\n",
    "    aster_modis_zonalstats_ds = aster_modis_zonalstats_df.to_xarray()\n",
    "    # Add time dimension\n",
    "    aster_modis_zonalstats_ds = aster_modis_zonalstats_ds.expand_dims({'time': [ df.timestampUTC[n] ]})\n",
    "    # Save as netcdf file\n",
    "    aster_modis_zonalstats_ds.to_netcdf(aster_modis_zonalstats_df_output_filepath)\n",
    "    \n",
    "    # Rename column headers\n",
    "    aster_goes_zonalstats_df = aster_goes_zonalstats_df.rename(columns={'mean':'zonal_mean', 'max':'zonal_max', 'min':'zonal_min', 'std':'zonal_std', 'var':'zonal_var', 'count':'zonal_count'})\n",
    "    # Drop nodata index value\n",
    "    if -9999 in aster_goes_zonalstats_df.index:\n",
    "        aster_goes_zonalstats_df.drop(index=-9999, inplace=True)\n",
    "    # To xarray dataset\n",
    "    aster_goes_zonalstats_ds = aster_goes_zonalstats_df.to_xarray()\n",
    "    # Add time dimension\n",
    "    aster_goes_zonalstats_ds = aster_goes_zonalstats_ds.expand_dims({'time': [ df.timestampUTC[n] ]})\n",
    "    # Save to netcdf file\n",
    "    aster_goes_zonalstats_ds.to_netcdf(aster_goes_zonalstats_df_output_filepath)\n",
    "    \n",
    "    ################################\n",
    "    \n",
    "\n",
    "    print('Export to NetCDF file...')\n",
    "    # export to netcdf file\n",
    "    ds.to_netcdf(output_filepath)\n",
    "    print('Moving onto next...')"
   ]
  },
  {
   "cell_type": "code",
   "execution_count": null,
   "metadata": {},
   "outputs": [],
   "source": []
  }
 ],
 "metadata": {
  "kernelspec": {
   "display_name": "goes-linux",
   "language": "python",
   "name": "goes-linux"
  },
  "language_info": {
   "codemirror_mode": {
    "name": "ipython",
    "version": 3
   },
   "file_extension": ".py",
   "mimetype": "text/x-python",
   "name": "python",
   "nbconvert_exporter": "python",
   "pygments_lexer": "ipython3",
   "version": "3.6.9"
  }
 },
 "nbformat": 4,
 "nbformat_minor": 4
}
